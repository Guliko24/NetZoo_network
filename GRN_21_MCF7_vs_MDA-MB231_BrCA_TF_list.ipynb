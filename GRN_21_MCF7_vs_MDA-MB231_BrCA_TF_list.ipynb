{
  "nbformat": 4,
  "nbformat_minor": 0,
  "metadata": {
    "colab": {
      "provenance": [],
      "authorship_tag": "ABX9TyNQ6Ymo+kAfXzyT3rZ2hKlP",
      "include_colab_link": true
    },
    "kernelspec": {
      "name": "python3",
      "display_name": "Python 3"
    },
    "language_info": {
      "name": "python"
    }
  },
  "cells": [
    {
      "cell_type": "markdown",
      "metadata": {
        "id": "view-in-github",
        "colab_type": "text"
      },
      "source": [
        "<a href=\"https://colab.research.google.com/github/Guliko24/NetZoo_network/blob/main/GRN_21_MCF7_vs_MDA-MB231_BrCA_TF_list.ipynb\" target=\"_parent\"><img src=\"https://colab.research.google.com/assets/colab-badge.svg\" alt=\"Open In Colab\"/></a>"
      ]
    },
    {
      "cell_type": "code",
      "source": [
        "#import all the packages as needed\n",
        "import pandas as pd\n",
        "import networkx as nx"
      ],
      "metadata": {
        "id": "gggoURRVt2pF"
      },
      "execution_count": 1,
      "outputs": []
    },
    {
      "cell_type": "code",
      "source": [],
      "metadata": {
        "id": "00zJH5y5zgCc"
      },
      "execution_count": null,
      "outputs": []
    },
    {
      "cell_type": "markdown",
      "source": [],
      "metadata": {
        "id": "21fqZLYLvFFU"
      }
    },
    {
      "cell_type": "code",
      "execution_count": 2,
      "metadata": {
        "colab": {
          "base_uri": "https://localhost:8080/"
        },
        "id": "wvgjdb8enMPL",
        "outputId": "09509e0c-29db-4cdd-9eb3-3bf23e551114"
      },
      "outputs": [
        {
          "output_type": "stream",
          "name": "stdout",
          "text": [
            "Mounted at /content/drive\n"
          ]
        }
      ],
      "source": [
        "# prompt: let's load Gdrive onto notebook\n",
        "\n",
        "from google.colab import drive\n",
        "drive.mount('/content/drive')"
      ]
    },
    {
      "cell_type": "code",
      "source": [
        "# Navigate to your Google Drive files\n",
        "%cd /content/drive/MyDrive/Essex_MSc_AI_24-25/MSc_Project_24/Data_to_work_with/GRAND_datasets\n"
      ],
      "metadata": {
        "id": "-QugfNefrPUZ",
        "outputId": "c44883f3-6314-4033-c52e-a3678df64cc6",
        "colab": {
          "base_uri": "https://localhost:8080/"
        }
      },
      "execution_count": 3,
      "outputs": [
        {
          "output_type": "stream",
          "name": "stdout",
          "text": [
            "/content/drive/MyDrive/Essex_MSc_AI_24-25/MSc_Project_24/Data_to_work_with/GRAND_datasets\n"
          ]
        }
      ]
    },
    {
      "cell_type": "markdown",
      "source": [
        "# **Let's load the data from Grand Database. df_gene_expression is taken from CCLE expression within sample file, where I chose ACH-000019 (MCF7) and ACH000768 (MDA-MB231)**\n",
        "\n",
        "df_MCF7_Tf_genes is a matrix for MCF7 cells consisting of TF-gene interaction with edge weights\n",
        "\n",
        "df_MDA_MB231_TF_genes is a matrix for MDA_MB231 cells with TF-gene interaction with edge weights\n"
      ],
      "metadata": {
        "id": "6MQe7ygxKIJg"
      }
    },
    {
      "cell_type": "code",
      "source": [
        "#let's read the MCF7_TF_Genes dataset and make changes\n",
        "df_MCF7_TF_Genes = pd.read_csv('/content/drive/MyDrive/Essex_MSc_AI_24-25/MSc_Project_24/Data_to_work_with/GRAND_datasets/MCF7_raw/ACH-000019_TF_vs_Genes_total expression.csv', index_col=0)\n",
        "df_MDA_MB231_TF_Genes=pd.read_csv('/content/drive/MyDrive/Essex_MSc_AI_24-25/MSc_Project_24/Data_to_work_with/GRAND_datasets/MCF7_raw/ACH-000768.csv', index_col=0)\n",
        "df_gene_expression=pd.read_csv('/content/drive/MyDrive/Essex_MSc_AI_24-25/MSc_Project_24/Data_to_work_with/GRAND_datasets/MCF7_raw/CCLE_expression_withinSample.csv', index_col=0)\n",
        "#"
      ],
      "metadata": {
        "id": "WEeiEejRMA3v"
      },
      "execution_count": 4,
      "outputs": []
    },
    {
      "cell_type": "code",
      "source": [],
      "metadata": {
        "id": "PgwYKYVZjhm-"
      },
      "execution_count": 4,
      "outputs": []
    },
    {
      "cell_type": "code",
      "source": [
        "#let's do initial data assessment\n",
        "#df_MCF7_TF_Genes.head()\n"
      ],
      "metadata": {
        "id": "_tMAlOZ3Mwn3"
      },
      "execution_count": 5,
      "outputs": []
    },
    {
      "cell_type": "code",
      "source": [
        "#df_MDA_MB231_TF_Genes.head()"
      ],
      "metadata": {
        "id": "yMjaFYufg6wl"
      },
      "execution_count": 6,
      "outputs": []
    },
    {
      "cell_type": "code",
      "source": [
        "df_gene_expression.head()\n",
        "#df_gene_expression.info()"
      ],
      "metadata": {
        "id": "bPHug66YhaeM",
        "outputId": "26cd852f-40d9-4d32-a7ba-5c912904e471",
        "colab": {
          "base_uri": "https://localhost:8080/",
          "height": 256
        }
      },
      "execution_count": 7,
      "outputs": [
        {
          "output_type": "execute_result",
          "data": {
            "text/plain": [
              "          ACH-001113  ACH-001289  ACH-001339  ACH-001538  ACH-000242  \\\n",
              "TSPAN6     11.676455   11.830119   10.843368   12.652100   14.215396   \n",
              "TNMD        7.801777    8.192801    7.801777    7.801777    7.801777   \n",
              "DPM1       12.579853   12.379945   12.929608   12.744038   12.058332   \n",
              "SCYL3      10.607789   10.110254   10.204371   10.582597   10.357270   \n",
              "C1orf112   11.125686   10.520779   11.410654   10.098584   10.676832   \n",
              "\n",
              "          ACH-000708  ACH-000327  ACH-000233  ACH-000461  ACH-000705  ...  \\\n",
              "TSPAN6     11.836555   11.584980    8.070704   11.658064   11.884942  ...   \n",
              "TNMD        8.012218    7.801777    7.801777    7.801777    7.801777  ...   \n",
              "DPM1       12.615618   12.149958   11.622506   12.156075   11.922925  ...   \n",
              "SCYL3      10.495712   10.257913   11.515329   10.137407   10.288997  ...   \n",
              "C1orf112   10.973002   10.365802   10.727954   10.344537   11.140472  ...   \n",
              "\n",
              "          ACH-000114  ACH-000402  ACH-000036  ACH-000973  ACH-001128  \\\n",
              "TSPAN6     10.948431    8.015361   11.606687   11.602840   13.263376   \n",
              "TNMD        7.909863    7.801777    7.801777    7.801777    7.801777   \n",
              "DPM1       12.211414   11.596349   12.281268   12.319981   11.593337   \n",
              "SCYL3      10.781342   10.637852   10.209548    9.658023   10.086136   \n",
              "C1orf112    9.975929   12.196147    9.675298   10.404968   10.611419   \n",
              "\n",
              "          ACH-000750  ACH-000285  ACH-001858  ACH-001997  ACH-000052  \n",
              "TSPAN6     11.095242    8.034773   11.946623   12.725968   11.423627  \n",
              "TNMD        7.801777    7.801777    7.801777    7.801777    7.801777  \n",
              "DPM1       12.037646   11.728730   12.577235   13.369510   11.483125  \n",
              "SCYL3       9.794809   10.857631    9.969378   10.575398   10.071066  \n",
              "C1orf112   10.293415   11.565352   10.247764   11.034427   10.674963  \n",
              "\n",
              "[5 rows x 1376 columns]"
            ],
            "text/html": [
              "\n",
              "  <div id=\"df-7eda9930-e15b-48a8-af8b-04a39682b1d2\" class=\"colab-df-container\">\n",
              "    <div>\n",
              "<style scoped>\n",
              "    .dataframe tbody tr th:only-of-type {\n",
              "        vertical-align: middle;\n",
              "    }\n",
              "\n",
              "    .dataframe tbody tr th {\n",
              "        vertical-align: top;\n",
              "    }\n",
              "\n",
              "    .dataframe thead th {\n",
              "        text-align: right;\n",
              "    }\n",
              "</style>\n",
              "<table border=\"1\" class=\"dataframe\">\n",
              "  <thead>\n",
              "    <tr style=\"text-align: right;\">\n",
              "      <th></th>\n",
              "      <th>ACH-001113</th>\n",
              "      <th>ACH-001289</th>\n",
              "      <th>ACH-001339</th>\n",
              "      <th>ACH-001538</th>\n",
              "      <th>ACH-000242</th>\n",
              "      <th>ACH-000708</th>\n",
              "      <th>ACH-000327</th>\n",
              "      <th>ACH-000233</th>\n",
              "      <th>ACH-000461</th>\n",
              "      <th>ACH-000705</th>\n",
              "      <th>...</th>\n",
              "      <th>ACH-000114</th>\n",
              "      <th>ACH-000402</th>\n",
              "      <th>ACH-000036</th>\n",
              "      <th>ACH-000973</th>\n",
              "      <th>ACH-001128</th>\n",
              "      <th>ACH-000750</th>\n",
              "      <th>ACH-000285</th>\n",
              "      <th>ACH-001858</th>\n",
              "      <th>ACH-001997</th>\n",
              "      <th>ACH-000052</th>\n",
              "    </tr>\n",
              "  </thead>\n",
              "  <tbody>\n",
              "    <tr>\n",
              "      <th>TSPAN6</th>\n",
              "      <td>11.676455</td>\n",
              "      <td>11.830119</td>\n",
              "      <td>10.843368</td>\n",
              "      <td>12.652100</td>\n",
              "      <td>14.215396</td>\n",
              "      <td>11.836555</td>\n",
              "      <td>11.584980</td>\n",
              "      <td>8.070704</td>\n",
              "      <td>11.658064</td>\n",
              "      <td>11.884942</td>\n",
              "      <td>...</td>\n",
              "      <td>10.948431</td>\n",
              "      <td>8.015361</td>\n",
              "      <td>11.606687</td>\n",
              "      <td>11.602840</td>\n",
              "      <td>13.263376</td>\n",
              "      <td>11.095242</td>\n",
              "      <td>8.034773</td>\n",
              "      <td>11.946623</td>\n",
              "      <td>12.725968</td>\n",
              "      <td>11.423627</td>\n",
              "    </tr>\n",
              "    <tr>\n",
              "      <th>TNMD</th>\n",
              "      <td>7.801777</td>\n",
              "      <td>8.192801</td>\n",
              "      <td>7.801777</td>\n",
              "      <td>7.801777</td>\n",
              "      <td>7.801777</td>\n",
              "      <td>8.012218</td>\n",
              "      <td>7.801777</td>\n",
              "      <td>7.801777</td>\n",
              "      <td>7.801777</td>\n",
              "      <td>7.801777</td>\n",
              "      <td>...</td>\n",
              "      <td>7.909863</td>\n",
              "      <td>7.801777</td>\n",
              "      <td>7.801777</td>\n",
              "      <td>7.801777</td>\n",
              "      <td>7.801777</td>\n",
              "      <td>7.801777</td>\n",
              "      <td>7.801777</td>\n",
              "      <td>7.801777</td>\n",
              "      <td>7.801777</td>\n",
              "      <td>7.801777</td>\n",
              "    </tr>\n",
              "    <tr>\n",
              "      <th>DPM1</th>\n",
              "      <td>12.579853</td>\n",
              "      <td>12.379945</td>\n",
              "      <td>12.929608</td>\n",
              "      <td>12.744038</td>\n",
              "      <td>12.058332</td>\n",
              "      <td>12.615618</td>\n",
              "      <td>12.149958</td>\n",
              "      <td>11.622506</td>\n",
              "      <td>12.156075</td>\n",
              "      <td>11.922925</td>\n",
              "      <td>...</td>\n",
              "      <td>12.211414</td>\n",
              "      <td>11.596349</td>\n",
              "      <td>12.281268</td>\n",
              "      <td>12.319981</td>\n",
              "      <td>11.593337</td>\n",
              "      <td>12.037646</td>\n",
              "      <td>11.728730</td>\n",
              "      <td>12.577235</td>\n",
              "      <td>13.369510</td>\n",
              "      <td>11.483125</td>\n",
              "    </tr>\n",
              "    <tr>\n",
              "      <th>SCYL3</th>\n",
              "      <td>10.607789</td>\n",
              "      <td>10.110254</td>\n",
              "      <td>10.204371</td>\n",
              "      <td>10.582597</td>\n",
              "      <td>10.357270</td>\n",
              "      <td>10.495712</td>\n",
              "      <td>10.257913</td>\n",
              "      <td>11.515329</td>\n",
              "      <td>10.137407</td>\n",
              "      <td>10.288997</td>\n",
              "      <td>...</td>\n",
              "      <td>10.781342</td>\n",
              "      <td>10.637852</td>\n",
              "      <td>10.209548</td>\n",
              "      <td>9.658023</td>\n",
              "      <td>10.086136</td>\n",
              "      <td>9.794809</td>\n",
              "      <td>10.857631</td>\n",
              "      <td>9.969378</td>\n",
              "      <td>10.575398</td>\n",
              "      <td>10.071066</td>\n",
              "    </tr>\n",
              "    <tr>\n",
              "      <th>C1orf112</th>\n",
              "      <td>11.125686</td>\n",
              "      <td>10.520779</td>\n",
              "      <td>11.410654</td>\n",
              "      <td>10.098584</td>\n",
              "      <td>10.676832</td>\n",
              "      <td>10.973002</td>\n",
              "      <td>10.365802</td>\n",
              "      <td>10.727954</td>\n",
              "      <td>10.344537</td>\n",
              "      <td>11.140472</td>\n",
              "      <td>...</td>\n",
              "      <td>9.975929</td>\n",
              "      <td>12.196147</td>\n",
              "      <td>9.675298</td>\n",
              "      <td>10.404968</td>\n",
              "      <td>10.611419</td>\n",
              "      <td>10.293415</td>\n",
              "      <td>11.565352</td>\n",
              "      <td>10.247764</td>\n",
              "      <td>11.034427</td>\n",
              "      <td>10.674963</td>\n",
              "    </tr>\n",
              "  </tbody>\n",
              "</table>\n",
              "<p>5 rows × 1376 columns</p>\n",
              "</div>\n",
              "    <div class=\"colab-df-buttons\">\n",
              "\n",
              "  <div class=\"colab-df-container\">\n",
              "    <button class=\"colab-df-convert\" onclick=\"convertToInteractive('df-7eda9930-e15b-48a8-af8b-04a39682b1d2')\"\n",
              "            title=\"Convert this dataframe to an interactive table.\"\n",
              "            style=\"display:none;\">\n",
              "\n",
              "  <svg xmlns=\"http://www.w3.org/2000/svg\" height=\"24px\" viewBox=\"0 -960 960 960\">\n",
              "    <path d=\"M120-120v-720h720v720H120Zm60-500h600v-160H180v160Zm220 220h160v-160H400v160Zm0 220h160v-160H400v160ZM180-400h160v-160H180v160Zm440 0h160v-160H620v160ZM180-180h160v-160H180v160Zm440 0h160v-160H620v160Z\"/>\n",
              "  </svg>\n",
              "    </button>\n",
              "\n",
              "  <style>\n",
              "    .colab-df-container {\n",
              "      display:flex;\n",
              "      gap: 12px;\n",
              "    }\n",
              "\n",
              "    .colab-df-convert {\n",
              "      background-color: #E8F0FE;\n",
              "      border: none;\n",
              "      border-radius: 50%;\n",
              "      cursor: pointer;\n",
              "      display: none;\n",
              "      fill: #1967D2;\n",
              "      height: 32px;\n",
              "      padding: 0 0 0 0;\n",
              "      width: 32px;\n",
              "    }\n",
              "\n",
              "    .colab-df-convert:hover {\n",
              "      background-color: #E2EBFA;\n",
              "      box-shadow: 0px 1px 2px rgba(60, 64, 67, 0.3), 0px 1px 3px 1px rgba(60, 64, 67, 0.15);\n",
              "      fill: #174EA6;\n",
              "    }\n",
              "\n",
              "    .colab-df-buttons div {\n",
              "      margin-bottom: 4px;\n",
              "    }\n",
              "\n",
              "    [theme=dark] .colab-df-convert {\n",
              "      background-color: #3B4455;\n",
              "      fill: #D2E3FC;\n",
              "    }\n",
              "\n",
              "    [theme=dark] .colab-df-convert:hover {\n",
              "      background-color: #434B5C;\n",
              "      box-shadow: 0px 1px 3px 1px rgba(0, 0, 0, 0.15);\n",
              "      filter: drop-shadow(0px 1px 2px rgba(0, 0, 0, 0.3));\n",
              "      fill: #FFFFFF;\n",
              "    }\n",
              "  </style>\n",
              "\n",
              "    <script>\n",
              "      const buttonEl =\n",
              "        document.querySelector('#df-7eda9930-e15b-48a8-af8b-04a39682b1d2 button.colab-df-convert');\n",
              "      buttonEl.style.display =\n",
              "        google.colab.kernel.accessAllowed ? 'block' : 'none';\n",
              "\n",
              "      async function convertToInteractive(key) {\n",
              "        const element = document.querySelector('#df-7eda9930-e15b-48a8-af8b-04a39682b1d2');\n",
              "        const dataTable =\n",
              "          await google.colab.kernel.invokeFunction('convertToInteractive',\n",
              "                                                    [key], {});\n",
              "        if (!dataTable) return;\n",
              "\n",
              "        const docLinkHtml = 'Like what you see? Visit the ' +\n",
              "          '<a target=\"_blank\" href=https://colab.research.google.com/notebooks/data_table.ipynb>data table notebook</a>'\n",
              "          + ' to learn more about interactive tables.';\n",
              "        element.innerHTML = '';\n",
              "        dataTable['output_type'] = 'display_data';\n",
              "        await google.colab.output.renderOutput(dataTable, element);\n",
              "        const docLink = document.createElement('div');\n",
              "        docLink.innerHTML = docLinkHtml;\n",
              "        element.appendChild(docLink);\n",
              "      }\n",
              "    </script>\n",
              "  </div>\n",
              "\n",
              "\n",
              "<div id=\"df-3c7f81d8-fcd0-4744-b825-872cd4b5e1bf\">\n",
              "  <button class=\"colab-df-quickchart\" onclick=\"quickchart('df-3c7f81d8-fcd0-4744-b825-872cd4b5e1bf')\"\n",
              "            title=\"Suggest charts\"\n",
              "            style=\"display:none;\">\n",
              "\n",
              "<svg xmlns=\"http://www.w3.org/2000/svg\" height=\"24px\"viewBox=\"0 0 24 24\"\n",
              "     width=\"24px\">\n",
              "    <g>\n",
              "        <path d=\"M19 3H5c-1.1 0-2 .9-2 2v14c0 1.1.9 2 2 2h14c1.1 0 2-.9 2-2V5c0-1.1-.9-2-2-2zM9 17H7v-7h2v7zm4 0h-2V7h2v10zm4 0h-2v-4h2v4z\"/>\n",
              "    </g>\n",
              "</svg>\n",
              "  </button>\n",
              "\n",
              "<style>\n",
              "  .colab-df-quickchart {\n",
              "      --bg-color: #E8F0FE;\n",
              "      --fill-color: #1967D2;\n",
              "      --hover-bg-color: #E2EBFA;\n",
              "      --hover-fill-color: #174EA6;\n",
              "      --disabled-fill-color: #AAA;\n",
              "      --disabled-bg-color: #DDD;\n",
              "  }\n",
              "\n",
              "  [theme=dark] .colab-df-quickchart {\n",
              "      --bg-color: #3B4455;\n",
              "      --fill-color: #D2E3FC;\n",
              "      --hover-bg-color: #434B5C;\n",
              "      --hover-fill-color: #FFFFFF;\n",
              "      --disabled-bg-color: #3B4455;\n",
              "      --disabled-fill-color: #666;\n",
              "  }\n",
              "\n",
              "  .colab-df-quickchart {\n",
              "    background-color: var(--bg-color);\n",
              "    border: none;\n",
              "    border-radius: 50%;\n",
              "    cursor: pointer;\n",
              "    display: none;\n",
              "    fill: var(--fill-color);\n",
              "    height: 32px;\n",
              "    padding: 0;\n",
              "    width: 32px;\n",
              "  }\n",
              "\n",
              "  .colab-df-quickchart:hover {\n",
              "    background-color: var(--hover-bg-color);\n",
              "    box-shadow: 0 1px 2px rgba(60, 64, 67, 0.3), 0 1px 3px 1px rgba(60, 64, 67, 0.15);\n",
              "    fill: var(--button-hover-fill-color);\n",
              "  }\n",
              "\n",
              "  .colab-df-quickchart-complete:disabled,\n",
              "  .colab-df-quickchart-complete:disabled:hover {\n",
              "    background-color: var(--disabled-bg-color);\n",
              "    fill: var(--disabled-fill-color);\n",
              "    box-shadow: none;\n",
              "  }\n",
              "\n",
              "  .colab-df-spinner {\n",
              "    border: 2px solid var(--fill-color);\n",
              "    border-color: transparent;\n",
              "    border-bottom-color: var(--fill-color);\n",
              "    animation:\n",
              "      spin 1s steps(1) infinite;\n",
              "  }\n",
              "\n",
              "  @keyframes spin {\n",
              "    0% {\n",
              "      border-color: transparent;\n",
              "      border-bottom-color: var(--fill-color);\n",
              "      border-left-color: var(--fill-color);\n",
              "    }\n",
              "    20% {\n",
              "      border-color: transparent;\n",
              "      border-left-color: var(--fill-color);\n",
              "      border-top-color: var(--fill-color);\n",
              "    }\n",
              "    30% {\n",
              "      border-color: transparent;\n",
              "      border-left-color: var(--fill-color);\n",
              "      border-top-color: var(--fill-color);\n",
              "      border-right-color: var(--fill-color);\n",
              "    }\n",
              "    40% {\n",
              "      border-color: transparent;\n",
              "      border-right-color: var(--fill-color);\n",
              "      border-top-color: var(--fill-color);\n",
              "    }\n",
              "    60% {\n",
              "      border-color: transparent;\n",
              "      border-right-color: var(--fill-color);\n",
              "    }\n",
              "    80% {\n",
              "      border-color: transparent;\n",
              "      border-right-color: var(--fill-color);\n",
              "      border-bottom-color: var(--fill-color);\n",
              "    }\n",
              "    90% {\n",
              "      border-color: transparent;\n",
              "      border-bottom-color: var(--fill-color);\n",
              "    }\n",
              "  }\n",
              "</style>\n",
              "\n",
              "  <script>\n",
              "    async function quickchart(key) {\n",
              "      const quickchartButtonEl =\n",
              "        document.querySelector('#' + key + ' button');\n",
              "      quickchartButtonEl.disabled = true;  // To prevent multiple clicks.\n",
              "      quickchartButtonEl.classList.add('colab-df-spinner');\n",
              "      try {\n",
              "        const charts = await google.colab.kernel.invokeFunction(\n",
              "            'suggestCharts', [key], {});\n",
              "      } catch (error) {\n",
              "        console.error('Error during call to suggestCharts:', error);\n",
              "      }\n",
              "      quickchartButtonEl.classList.remove('colab-df-spinner');\n",
              "      quickchartButtonEl.classList.add('colab-df-quickchart-complete');\n",
              "    }\n",
              "    (() => {\n",
              "      let quickchartButtonEl =\n",
              "        document.querySelector('#df-3c7f81d8-fcd0-4744-b825-872cd4b5e1bf button');\n",
              "      quickchartButtonEl.style.display =\n",
              "        google.colab.kernel.accessAllowed ? 'block' : 'none';\n",
              "    })();\n",
              "  </script>\n",
              "</div>\n",
              "\n",
              "    </div>\n",
              "  </div>\n"
            ],
            "application/vnd.google.colaboratory.intrinsic+json": {
              "type": "dataframe"
            }
          },
          "metadata": {},
          "execution_count": 7
        }
      ]
    },
    {
      "cell_type": "code",
      "source": [
        "#let's filter out two cell lines MCF=ACH-000019 and MDA=ACH-000768\n",
        "import pandas as pd\n",
        "\n",
        "# Load the gene expression file\n",
        "# Replace 'gene_expression.csv' with the path to your file\n",
        "\n",
        "data=pd.read_csv('/content/drive/MyDrive/Essex_MSc_AI_24-25/MSc_Project_24/Data_to_work_with/GRAND_datasets/MCF7_raw/CCLE_expression_withinSample.csv', index_col=0)\n",
        "# Specify the two cell lines to keep\n",
        "cell_lines_to_keep = ['ACH-000019', 'ACH-000768']\n",
        "\n",
        "# Filter columns to keep only the specified cell lines\n",
        "filtered_gene_expression = data[cell_lines_to_keep]\n",
        "\n",
        "# Save the filtered data to a new file (optional)\n",
        "filtered_gene_expression.to_csv('MCF7_MDA_gene_expression.csv', index=True)\n",
        "\n",
        "\n"
      ],
      "metadata": {
        "id": "SZfKOrZNjRF7"
      },
      "execution_count": 8,
      "outputs": []
    },
    {
      "cell_type": "code",
      "source": [
        "filtered_gene_expression.head()"
      ],
      "metadata": {
        "id": "dqlCBVJFkJHA",
        "outputId": "539a1d86-e228-484a-88a3-d7da1f16551b",
        "colab": {
          "base_uri": "https://localhost:8080/",
          "height": 206
        }
      },
      "execution_count": 9,
      "outputs": [
        {
          "output_type": "execute_result",
          "data": {
            "text/plain": [
              "          ACH-000019  ACH-000768\n",
              "TSPAN6     10.202802   11.031839\n",
              "TNMD        7.801777    7.801777\n",
              "DPM1       12.930274   11.814957\n",
              "SCYL3      10.525537   10.149789\n",
              "C1orf112   10.247321   11.429073"
            ],
            "text/html": [
              "\n",
              "  <div id=\"df-bd264261-148f-4416-9dd6-46ec8dc5ebb0\" class=\"colab-df-container\">\n",
              "    <div>\n",
              "<style scoped>\n",
              "    .dataframe tbody tr th:only-of-type {\n",
              "        vertical-align: middle;\n",
              "    }\n",
              "\n",
              "    .dataframe tbody tr th {\n",
              "        vertical-align: top;\n",
              "    }\n",
              "\n",
              "    .dataframe thead th {\n",
              "        text-align: right;\n",
              "    }\n",
              "</style>\n",
              "<table border=\"1\" class=\"dataframe\">\n",
              "  <thead>\n",
              "    <tr style=\"text-align: right;\">\n",
              "      <th></th>\n",
              "      <th>ACH-000019</th>\n",
              "      <th>ACH-000768</th>\n",
              "    </tr>\n",
              "  </thead>\n",
              "  <tbody>\n",
              "    <tr>\n",
              "      <th>TSPAN6</th>\n",
              "      <td>10.202802</td>\n",
              "      <td>11.031839</td>\n",
              "    </tr>\n",
              "    <tr>\n",
              "      <th>TNMD</th>\n",
              "      <td>7.801777</td>\n",
              "      <td>7.801777</td>\n",
              "    </tr>\n",
              "    <tr>\n",
              "      <th>DPM1</th>\n",
              "      <td>12.930274</td>\n",
              "      <td>11.814957</td>\n",
              "    </tr>\n",
              "    <tr>\n",
              "      <th>SCYL3</th>\n",
              "      <td>10.525537</td>\n",
              "      <td>10.149789</td>\n",
              "    </tr>\n",
              "    <tr>\n",
              "      <th>C1orf112</th>\n",
              "      <td>10.247321</td>\n",
              "      <td>11.429073</td>\n",
              "    </tr>\n",
              "  </tbody>\n",
              "</table>\n",
              "</div>\n",
              "    <div class=\"colab-df-buttons\">\n",
              "\n",
              "  <div class=\"colab-df-container\">\n",
              "    <button class=\"colab-df-convert\" onclick=\"convertToInteractive('df-bd264261-148f-4416-9dd6-46ec8dc5ebb0')\"\n",
              "            title=\"Convert this dataframe to an interactive table.\"\n",
              "            style=\"display:none;\">\n",
              "\n",
              "  <svg xmlns=\"http://www.w3.org/2000/svg\" height=\"24px\" viewBox=\"0 -960 960 960\">\n",
              "    <path d=\"M120-120v-720h720v720H120Zm60-500h600v-160H180v160Zm220 220h160v-160H400v160Zm0 220h160v-160H400v160ZM180-400h160v-160H180v160Zm440 0h160v-160H620v160ZM180-180h160v-160H180v160Zm440 0h160v-160H620v160Z\"/>\n",
              "  </svg>\n",
              "    </button>\n",
              "\n",
              "  <style>\n",
              "    .colab-df-container {\n",
              "      display:flex;\n",
              "      gap: 12px;\n",
              "    }\n",
              "\n",
              "    .colab-df-convert {\n",
              "      background-color: #E8F0FE;\n",
              "      border: none;\n",
              "      border-radius: 50%;\n",
              "      cursor: pointer;\n",
              "      display: none;\n",
              "      fill: #1967D2;\n",
              "      height: 32px;\n",
              "      padding: 0 0 0 0;\n",
              "      width: 32px;\n",
              "    }\n",
              "\n",
              "    .colab-df-convert:hover {\n",
              "      background-color: #E2EBFA;\n",
              "      box-shadow: 0px 1px 2px rgba(60, 64, 67, 0.3), 0px 1px 3px 1px rgba(60, 64, 67, 0.15);\n",
              "      fill: #174EA6;\n",
              "    }\n",
              "\n",
              "    .colab-df-buttons div {\n",
              "      margin-bottom: 4px;\n",
              "    }\n",
              "\n",
              "    [theme=dark] .colab-df-convert {\n",
              "      background-color: #3B4455;\n",
              "      fill: #D2E3FC;\n",
              "    }\n",
              "\n",
              "    [theme=dark] .colab-df-convert:hover {\n",
              "      background-color: #434B5C;\n",
              "      box-shadow: 0px 1px 3px 1px rgba(0, 0, 0, 0.15);\n",
              "      filter: drop-shadow(0px 1px 2px rgba(0, 0, 0, 0.3));\n",
              "      fill: #FFFFFF;\n",
              "    }\n",
              "  </style>\n",
              "\n",
              "    <script>\n",
              "      const buttonEl =\n",
              "        document.querySelector('#df-bd264261-148f-4416-9dd6-46ec8dc5ebb0 button.colab-df-convert');\n",
              "      buttonEl.style.display =\n",
              "        google.colab.kernel.accessAllowed ? 'block' : 'none';\n",
              "\n",
              "      async function convertToInteractive(key) {\n",
              "        const element = document.querySelector('#df-bd264261-148f-4416-9dd6-46ec8dc5ebb0');\n",
              "        const dataTable =\n",
              "          await google.colab.kernel.invokeFunction('convertToInteractive',\n",
              "                                                    [key], {});\n",
              "        if (!dataTable) return;\n",
              "\n",
              "        const docLinkHtml = 'Like what you see? Visit the ' +\n",
              "          '<a target=\"_blank\" href=https://colab.research.google.com/notebooks/data_table.ipynb>data table notebook</a>'\n",
              "          + ' to learn more about interactive tables.';\n",
              "        element.innerHTML = '';\n",
              "        dataTable['output_type'] = 'display_data';\n",
              "        await google.colab.output.renderOutput(dataTable, element);\n",
              "        const docLink = document.createElement('div');\n",
              "        docLink.innerHTML = docLinkHtml;\n",
              "        element.appendChild(docLink);\n",
              "      }\n",
              "    </script>\n",
              "  </div>\n",
              "\n",
              "\n",
              "<div id=\"df-9ef828a6-442a-4e31-9227-b548db23492e\">\n",
              "  <button class=\"colab-df-quickchart\" onclick=\"quickchart('df-9ef828a6-442a-4e31-9227-b548db23492e')\"\n",
              "            title=\"Suggest charts\"\n",
              "            style=\"display:none;\">\n",
              "\n",
              "<svg xmlns=\"http://www.w3.org/2000/svg\" height=\"24px\"viewBox=\"0 0 24 24\"\n",
              "     width=\"24px\">\n",
              "    <g>\n",
              "        <path d=\"M19 3H5c-1.1 0-2 .9-2 2v14c0 1.1.9 2 2 2h14c1.1 0 2-.9 2-2V5c0-1.1-.9-2-2-2zM9 17H7v-7h2v7zm4 0h-2V7h2v10zm4 0h-2v-4h2v4z\"/>\n",
              "    </g>\n",
              "</svg>\n",
              "  </button>\n",
              "\n",
              "<style>\n",
              "  .colab-df-quickchart {\n",
              "      --bg-color: #E8F0FE;\n",
              "      --fill-color: #1967D2;\n",
              "      --hover-bg-color: #E2EBFA;\n",
              "      --hover-fill-color: #174EA6;\n",
              "      --disabled-fill-color: #AAA;\n",
              "      --disabled-bg-color: #DDD;\n",
              "  }\n",
              "\n",
              "  [theme=dark] .colab-df-quickchart {\n",
              "      --bg-color: #3B4455;\n",
              "      --fill-color: #D2E3FC;\n",
              "      --hover-bg-color: #434B5C;\n",
              "      --hover-fill-color: #FFFFFF;\n",
              "      --disabled-bg-color: #3B4455;\n",
              "      --disabled-fill-color: #666;\n",
              "  }\n",
              "\n",
              "  .colab-df-quickchart {\n",
              "    background-color: var(--bg-color);\n",
              "    border: none;\n",
              "    border-radius: 50%;\n",
              "    cursor: pointer;\n",
              "    display: none;\n",
              "    fill: var(--fill-color);\n",
              "    height: 32px;\n",
              "    padding: 0;\n",
              "    width: 32px;\n",
              "  }\n",
              "\n",
              "  .colab-df-quickchart:hover {\n",
              "    background-color: var(--hover-bg-color);\n",
              "    box-shadow: 0 1px 2px rgba(60, 64, 67, 0.3), 0 1px 3px 1px rgba(60, 64, 67, 0.15);\n",
              "    fill: var(--button-hover-fill-color);\n",
              "  }\n",
              "\n",
              "  .colab-df-quickchart-complete:disabled,\n",
              "  .colab-df-quickchart-complete:disabled:hover {\n",
              "    background-color: var(--disabled-bg-color);\n",
              "    fill: var(--disabled-fill-color);\n",
              "    box-shadow: none;\n",
              "  }\n",
              "\n",
              "  .colab-df-spinner {\n",
              "    border: 2px solid var(--fill-color);\n",
              "    border-color: transparent;\n",
              "    border-bottom-color: var(--fill-color);\n",
              "    animation:\n",
              "      spin 1s steps(1) infinite;\n",
              "  }\n",
              "\n",
              "  @keyframes spin {\n",
              "    0% {\n",
              "      border-color: transparent;\n",
              "      border-bottom-color: var(--fill-color);\n",
              "      border-left-color: var(--fill-color);\n",
              "    }\n",
              "    20% {\n",
              "      border-color: transparent;\n",
              "      border-left-color: var(--fill-color);\n",
              "      border-top-color: var(--fill-color);\n",
              "    }\n",
              "    30% {\n",
              "      border-color: transparent;\n",
              "      border-left-color: var(--fill-color);\n",
              "      border-top-color: var(--fill-color);\n",
              "      border-right-color: var(--fill-color);\n",
              "    }\n",
              "    40% {\n",
              "      border-color: transparent;\n",
              "      border-right-color: var(--fill-color);\n",
              "      border-top-color: var(--fill-color);\n",
              "    }\n",
              "    60% {\n",
              "      border-color: transparent;\n",
              "      border-right-color: var(--fill-color);\n",
              "    }\n",
              "    80% {\n",
              "      border-color: transparent;\n",
              "      border-right-color: var(--fill-color);\n",
              "      border-bottom-color: var(--fill-color);\n",
              "    }\n",
              "    90% {\n",
              "      border-color: transparent;\n",
              "      border-bottom-color: var(--fill-color);\n",
              "    }\n",
              "  }\n",
              "</style>\n",
              "\n",
              "  <script>\n",
              "    async function quickchart(key) {\n",
              "      const quickchartButtonEl =\n",
              "        document.querySelector('#' + key + ' button');\n",
              "      quickchartButtonEl.disabled = true;  // To prevent multiple clicks.\n",
              "      quickchartButtonEl.classList.add('colab-df-spinner');\n",
              "      try {\n",
              "        const charts = await google.colab.kernel.invokeFunction(\n",
              "            'suggestCharts', [key], {});\n",
              "      } catch (error) {\n",
              "        console.error('Error during call to suggestCharts:', error);\n",
              "      }\n",
              "      quickchartButtonEl.classList.remove('colab-df-spinner');\n",
              "      quickchartButtonEl.classList.add('colab-df-quickchart-complete');\n",
              "    }\n",
              "    (() => {\n",
              "      let quickchartButtonEl =\n",
              "        document.querySelector('#df-9ef828a6-442a-4e31-9227-b548db23492e button');\n",
              "      quickchartButtonEl.style.display =\n",
              "        google.colab.kernel.accessAllowed ? 'block' : 'none';\n",
              "    })();\n",
              "  </script>\n",
              "</div>\n",
              "\n",
              "    </div>\n",
              "  </div>\n"
            ],
            "application/vnd.google.colaboratory.intrinsic+json": {
              "type": "dataframe",
              "variable_name": "filtered_gene_expression",
              "summary": "{\n  \"name\": \"filtered_gene_expression\",\n  \"rows\": 19177,\n  \"fields\": [\n    {\n      \"column\": \"ACH-000019\",\n      \"properties\": {\n        \"dtype\": \"number\",\n        \"std\": 2.0261295673932995,\n        \"min\": 7.801776821,\n        \"max\": 19.8063544,\n        \"num_unique_values\": 6364,\n        \"samples\": [\n          14.74191724,\n          13.14280325,\n          12.21169564\n        ],\n        \"semantic_type\": \"\",\n        \"description\": \"\"\n      }\n    },\n    {\n      \"column\": \"ACH-000768\",\n      \"properties\": {\n        \"dtype\": \"number\",\n        \"std\": 2.0496761795319762,\n        \"min\": 7.801776821,\n        \"max\": 19.79745916,\n        \"num_unique_values\": 5872,\n        \"samples\": [\n          12.33899341,\n          12.86723089,\n          13.1178963\n        ],\n        \"semantic_type\": \"\",\n        \"description\": \"\"\n      }\n    }\n  ]\n}"
            }
          },
          "metadata": {},
          "execution_count": 9
        }
      ]
    },
    {
      "cell_type": "code",
      "source": [
        "#filtered_gene_expression.info()"
      ],
      "metadata": {
        "id": "5Mj5I87QmrFj"
      },
      "execution_count": 10,
      "outputs": []
    },
    {
      "cell_type": "code",
      "source": [
        "import pandas as pd\n",
        "import numpy as np\n",
        "\n",
        "# Assuming 'filtered_gene_expression' has two columns: 'ACH-000019' and 'ACH-000768'\n",
        "\n",
        "# Make a copy to avoid SettingWithCopyWarning\n",
        "filtered_gene_expression = filtered_gene_expression.copy()\n",
        "\n",
        "# Calculate fold change (ACH-000768 / ACH-000019)\n",
        "filtered_gene_expression.loc[:, 'fold_change'] = (\n",
        "    filtered_gene_expression['ACH-000768'] / filtered_gene_expression['ACH-000019']\n",
        ")\n",
        "\n",
        "# Replace infinite values with NaN and drop them\n",
        "filtered_gene_expression.replace([np.inf, -np.inf], np.nan, inplace=True)\n",
        "\n",
        "# Drop rows where fold_change is NaN\n",
        "filtered_gene_expression.dropna(subset=['fold_change'], inplace=True)\n",
        "\n",
        "# Calculate log2 fold change\n",
        "filtered_gene_expression.loc[:, 'log2_fold_change'] = np.log2(filtered_gene_expression['fold_change'])\n",
        "\n",
        "# Debug: Check the intermediate DataFrame\n",
        "print(\"After fold change calculation:\\n\", filtered_gene_expression.head())\n",
        "\n",
        "# Filter for significant fold changes (e.g., fold_change > 2 or < 0.5)\n",
        "significant_genes_grand_database = filtered_gene_expression[\n",
        "    (filtered_gene_expression['fold_change'] > 2) | (filtered_gene_expression['fold_change'] < 0.5)\n",
        "]\n",
        "\n",
        "# Debug: Check if there are any significant genes\n",
        "import pandas as pd\n",
        "import numpy as np\n",
        "\n",
        "# Assuming 'filtered_gene_expression' has two columns: 'ACH-000019' and 'ACH-000768'\n",
        "\n",
        "# Make a copy to avoid SettingWithCopyWarning\n",
        "filtered_gene_expression = filtered_gene_expression.copy()\n",
        "\n",
        "# Calculate fold change (ACH-000768 / ACH-000019)\n",
        "filtered_gene_expression.loc[:, 'fold_change'] = (\n",
        "    filtered_gene_expression['ACH-000768'] / filtered_gene_expression['ACH-000019']\n",
        ")\n",
        "\n",
        "# Replace infinite values with NaN and drop them\n",
        "filtered_gene_expression.replace([np.inf, -np.inf], np.nan, inplace=True)\n",
        "\n",
        "# Drop rows where fold_change is NaN\n",
        "filtered_gene_expression.dropna(subset=['fold_change'], inplace=True)\n",
        "\n",
        "# Calculate log2 fold change\n",
        "filtered_gene_expression.loc[:, 'log2_fold_change'] = np.log2(filtered_gene_expression['fold_change'])\n",
        "\n",
        "# Debug: Check the intermediate DataFrame\n",
        "print(\"After fold change calculation:\\n\", filtered_gene_expression.head())\n",
        "\n",
        "# Filter for significant fold changes (e.g., fold_change > 2 or < 0.5)\n",
        "significant_genes_grand_database = filtered_gene_expression[\n",
        "    (filtered_gene_expression['fold_change'] > 2) | (filtered_gene_expression['fold_change'] < 0.5)\n",
        "]\n",
        "\n",
        "# Debug: Check if there are any significant genes\n",
        "print(\"Significant genes:\\n\", significant_genes_grand_database.head())"
      ],
      "metadata": {
        "id": "5FUp1j4jb7T5",
        "colab": {
          "base_uri": "https://localhost:8080/"
        },
        "outputId": "7ceaf796-8470-4b2c-f7c9-d71f2463c14c"
      },
      "execution_count": 11,
      "outputs": [
        {
          "output_type": "stream",
          "name": "stdout",
          "text": [
            "After fold change calculation:\n",
            "           ACH-000019  ACH-000768  fold_change  log2_fold_change\n",
            "TSPAN6     10.202802   11.031839     1.081256          0.112708\n",
            "TNMD        7.801777    7.801777     1.000000          0.000000\n",
            "DPM1       12.930274   11.814957     0.913744         -0.130138\n",
            "SCYL3      10.525537   10.149789     0.964301         -0.052444\n",
            "C1orf112   10.247321   11.429073     1.115323          0.157462\n",
            "After fold change calculation:\n",
            "           ACH-000019  ACH-000768  fold_change  log2_fold_change\n",
            "TSPAN6     10.202802   11.031839     1.081256          0.112708\n",
            "TNMD        7.801777    7.801777     1.000000          0.000000\n",
            "DPM1       12.930274   11.814957     0.913744         -0.130138\n",
            "SCYL3      10.525537   10.149789     0.964301         -0.052444\n",
            "C1orf112   10.247321   11.429073     1.115323          0.157462\n",
            "Significant genes:\n",
            " Empty DataFrame\n",
            "Columns: [ACH-000019, ACH-000768, fold_change, log2_fold_change]\n",
            "Index: []\n"
          ]
        }
      ]
    },
    {
      "cell_type": "markdown",
      "source": [
        "# *There is no genes with fold change between ACH-000019 and ACH000-768, so let's consider another dataset*"
      ],
      "metadata": {
        "id": "J9Y4NkazL3cm"
      }
    },
    {
      "cell_type": "code",
      "source": [
        "import numpy as np\n",
        "import pandas as pd\n",
        "\n",
        "def normalize_matrix(matrix: pd.DataFrame) -> pd.DataFrame:\n",
        "    \"\"\"\n",
        "    Normalize the values in the matrix to a range of [0, 1].\n",
        "    \"\"\"\n",
        "    normalized_matrix = (matrix - matrix.min().min()) / (matrix.max().max() - matrix.min().min())\n",
        "    return normalized_matrix\n",
        "\n",
        "def filter_by_threshold(matrix: pd.DataFrame, threshold: float, mode: str = 'greater') -> pd.DataFrame:\n",
        "    \"\"\"\n",
        "    Filter the matrix based on a threshold.\n",
        "    Parameters:\n",
        "        matrix: The TF vs Genes interaction matrix.\n",
        "        threshold: The threshold value for filtering.\n",
        "        mode: 'greater' to keep values greater than threshold, 'less' to keep values less than threshold.\n",
        "    \"\"\"\n",
        "    if mode == 'greater':\n",
        "        return matrix[matrix > threshold].fillna(0)\n",
        "    elif mode == 'less':\n",
        "        return matrix[matrix < threshold].fillna(0)\n",
        "    else:\n",
        "        raise ValueError(\"Mode must be either 'greater' or 'less'\")\n",
        "\n",
        "def binarize_matrix(matrix: pd.DataFrame, threshold: float) -> pd.DataFrame:\n",
        "    \"\"\"\n",
        "    Binarize the matrix based on a threshold.\n",
        "    Values greater than or equal to the threshold become 1, otherwise 0.\n",
        "    \"\"\"\n",
        "    binary_matrix = (matrix >= threshold).astype(int)\n",
        "    return binary_matrix\n",
        "\n",
        "def rank_interactions(matrix: pd.DataFrame, top_n: int = 5) -> pd.DataFrame:\n",
        "    \"\"\"\n",
        "    Rank the top N interactions for each transcription factor.\n",
        "    Parameters:\n",
        "        matrix: The TF vs Genes interaction matrix.\n",
        "        top_n: Number of top interactions to return for each TF.\n",
        "    \"\"\"\n",
        "    ranked_interactions = pd.DataFrame()\n",
        "    for tf in matrix.index:\n",
        "        top_genes = matrix.loc[tf].nlargest(top_n)\n",
        "        ranked_interactions = pd.concat([ranked_interactions, top_genes], axis=1)\n",
        "    return ranked_interactions.T\n",
        "\n",
        "def aggregate_interactions(matrix: pd.DataFrame, axis: int = 0) -> pd.Series:\n",
        "    \"\"\"\n",
        "    Aggregate interaction strengths.\n",
        "    Parameters:\n",
        "        axis: 0 to aggregate across genes (per TF), 1 to aggregate across TFs (per Gene).\n",
        "    \"\"\"\n",
        "    return matrix.sum(axis=axis)\n",
        "\n",
        "def construct_interaction_network(matrix: pd.DataFrame, threshold: float) -> pd.DataFrame:\n",
        "    \"\"\"\n",
        "    Construct an interaction network by keeping only interactions above a threshold.\n",
        "    Returns a DataFrame representing edges in the network.\n",
        "    \"\"\"\n",
        "    filtered_matrix = filter_by_threshold(matrix, threshold, mode='greater')\n",
        "    edges = []\n",
        "    for tf in filtered_matrix.index:\n",
        "        for gene in filtered_matrix.columns:\n",
        "            if filtered_matrix.loc[tf, gene] > 0:\n",
        "                edges.append((tf, gene, filtered_matrix.loc[tf, gene]))\n",
        "    network_df = pd.DataFrame(edges, columns=['TF', 'Gene', 'Interaction_Strength'])\n",
        "    return network_df\n",
        "\n",
        "def split_positive_negative_matrices(matrix: pd.DataFrame) -> (pd.DataFrame, pd.DataFrame):\n",
        "    \"\"\"\n",
        "    Split the matrix into two DataFrames: one for positive values and one for negative values.\n",
        "    Ensure that the matrix values are numeric by coercing errors and replacing non-numeric values with NaN.\n",
        "    Retain the index and columns in both matrices.\n",
        "    \"\"\"\n",
        "    matrix_numeric = matrix.apply(pd.to_numeric, errors='coerce')\n",
        "    positive_matrix = matrix_numeric.where(matrix_numeric > 0).fillna(0)\n",
        "    negative_matrix = matrix_numeric.where(matrix_numeric < 0).fillna(0)\n",
        "    positive_matrix.index = matrix.index\n",
        "    positive_matrix.columns = matrix.columns\n",
        "    negative_matrix.index = matrix.index\n",
        "    negative_matrix.columns = matrix.columns\n",
        "    return positive_matrix, negative_matrix\n",
        "\n",
        "def check_repeated_indices_columns(matrix: pd.DataFrame):\n",
        "    \"\"\"\n",
        "    Check for repeated transcription factors (rows) and genes (columns) in the matrix.\n",
        "    \"\"\"\n",
        "    repeated_rows = matrix.index[matrix.index.duplicated()].unique()\n",
        "    repeated_columns = matrix.columns[matrix.columns.duplicated()].unique()\n",
        "\n",
        "    print(\"Repeated Rows (TFs):\")\n",
        "    if len(repeated_rows) > 0:\n",
        "        print(repeated_rows)\n",
        "    else:\n",
        "        print(\"No repeated rows found.\")\n",
        "\n",
        "    print(\"\\nRepeated Columns (Genes):\")\n",
        "    if len(repeated_columns) > 0:\n",
        "        print(repeated_columns)\n",
        "    else:\n",
        "        print(\"No repeated columns found.\")\n",
        "\n"
      ],
      "metadata": {
        "id": "d_1lbOcqMfYX"
      },
      "execution_count": 12,
      "outputs": []
    },
    {
      "cell_type": "code",
      "source": [
        "# Example Usage\n",
        "# Read the TF vs Genes matrix from a CSV file\n",
        "#df_MCF7_TF_Genes = pd.read_csv('/content/drive/MyDrive/Essex_MSc_AI_24-25/MSc_Project_24/Data_to_work_with/GRAND_datasets/MCF7_raw/ACH-000019_TF_vs_Genes_total expression.csv', index_col=0)\n",
        "\n",
        "# Normalize the matrix\n",
        "#normalized_df = normalize_matrix(df_MCF7_TF_Genes)\n",
        "\n",
        "# Filter interactions greater than 0.5\n",
        "#filtered_df = filter_by_threshold(df_MCF7_TF_Genes, threshold=0.5, mode='greater')\n",
        "\n",
        "# Binarize the matrix with a threshold of 0.5\n",
        "#binary_df = binarize_matrix(df_MCF7_TF_Genes, threshold=0.5)\n",
        "\n",
        "# Rank top 2 interactions for each TF\n",
        "#ranked_df = rank_interactions(df_MCF7_TF_Genes, top_n=2)\n",
        "\n",
        "# Aggregate interactions across genes (per TF)\n",
        "#aggregated_series = aggregate_interactions(df_MCF7_TF_Genes, axis=1)\n",
        "\n",
        "# Construct interaction network with a threshold of 0.5\n",
        "#network_df = construct_interaction_network(df_MCF7_TF_Genes, threshold=0.5)\n",
        "\n",
        "# Split the matrix into positive and negative interaction matrices\n",
        "#positive_df, negative_df = split_positive_negative_matrices(df_MCF7_TF_Genes)"
      ],
      "metadata": {
        "id": "6v-hqZv7PI5k"
      },
      "execution_count": 13,
      "outputs": []
    },
    {
      "cell_type": "markdown",
      "source": [
        "# **1. Let's process the gene expression data set GSE73857 dataset for MCF7 and MDA-MB231 cells**"
      ],
      "metadata": {
        "id": "S3BSeaTPEtH6"
      }
    },
    {
      "cell_type": "markdown",
      "source": [
        "*the* oridinal *gene* expression count file had ENSEMBL id for genes instead of their names, so I use R studio and Biomart package to find the gene names and add as an additional column, however it seems that there are unannotated genes which we need to remove later on.\n",
        "the data set also had experimental duplicates for MCF7 and triplicates for MDA-MB231 cells so I averaged them. I could have done student-T test and find significantly different genes, but I went ahead with averaging and calculating fold-change."
      ],
      "metadata": {
        "id": "Xsx14_3aMIgQ"
      }
    },
    {
      "cell_type": "code",
      "source": [
        "import pandas as pd\n",
        "\n",
        "# Load RNA-seq data\n",
        "df = pd.read_csv(\"/content/drive/MyDrive/Essex_MSc_AI_24-25/MSc_Project_24/Data_to_work_with/GRAND_datasets/MCF7_raw/GSE73857_MCF7_MDA_gene_expression.txt\", sep=\"\\t\")  # Replace with your RNA-seq file\n",
        "\n",
        "\n",
        "\n",
        "# Step 1: Remove the `ensembl.id` column\n",
        "if \"ensembl.id\" in df.columns:\n",
        "    df.drop(columns=[\"ensembl.id\"], inplace=True)\n",
        "\n",
        "# Step 2: Move the `gene_name` column to be the first column\n",
        "if \"gene_name\" in df.columns:\n",
        "    gene_name_column = df.pop(\"gene_name\")  # Remove and retrieve `gene.name` column\n",
        "    df.insert(0, \"gene_name\", gene_name_column)  # Insert it as the first column\n",
        "\n",
        "# Step 3: Set `gene_name` as the index\n",
        "df.set_index(\"gene_name\", inplace=True)\n",
        "\n",
        "\n",
        "# Step 1: Calculate averages\n",
        "MCF7_average = df.iloc[:, [0, 1]].mean(axis=1)\n",
        "MDA_MB231_average = df.iloc[:, [2, 3, 4]].mean(axis=1)\n",
        "\n",
        "# Step 2: Drop the original columns\n",
        "df.drop(df.columns[[0, 1, 2, 3, 4]], axis=1, inplace=True)\n",
        "\n",
        "# Step 3: Add the new averaged columns\n",
        "df[\"MCF7\"] = MCF7_average\n",
        "df[\"MDA-MB231\"] = MDA_MB231_average\n",
        "\n",
        "# Step 1: Remove rows where both `MCF7` and `MDA-MB231` have zero expression\n",
        "MCF7_MDA_filtered_expression = df[(df[\"MCF7\"] != 0) | (df[\"MDA-MB231\"] != 0)]\n",
        "\n"
      ],
      "metadata": {
        "id": "lUqjyYRcFV1l"
      },
      "execution_count": 14,
      "outputs": []
    },
    {
      "cell_type": "code",
      "source": [
        "MCF7_MDA_filtered_expression.head()"
      ],
      "metadata": {
        "id": "rJjkNwDeINEW",
        "outputId": "1dd38f3f-1c75-4ef2-dd4e-00762f90ec07",
        "colab": {
          "base_uri": "https://localhost:8080/",
          "height": 238
        }
      },
      "execution_count": 15,
      "outputs": [
        {
          "output_type": "execute_result",
          "data": {
            "text/plain": [
              "               MCF7    MDA-MB231\n",
              "gene_name                       \n",
              "TSPAN6      494.000  1198.373333\n",
              "DPM1       4458.000  2367.000000\n",
              "SCYL3       851.405   406.156667\n",
              "FIRRM      1408.270  1153.816667\n",
              "FGR           0.000     0.333333"
            ],
            "text/html": [
              "\n",
              "  <div id=\"df-e34ced37-542e-4f88-9f2e-08221a2921dc\" class=\"colab-df-container\">\n",
              "    <div>\n",
              "<style scoped>\n",
              "    .dataframe tbody tr th:only-of-type {\n",
              "        vertical-align: middle;\n",
              "    }\n",
              "\n",
              "    .dataframe tbody tr th {\n",
              "        vertical-align: top;\n",
              "    }\n",
              "\n",
              "    .dataframe thead th {\n",
              "        text-align: right;\n",
              "    }\n",
              "</style>\n",
              "<table border=\"1\" class=\"dataframe\">\n",
              "  <thead>\n",
              "    <tr style=\"text-align: right;\">\n",
              "      <th></th>\n",
              "      <th>MCF7</th>\n",
              "      <th>MDA-MB231</th>\n",
              "    </tr>\n",
              "    <tr>\n",
              "      <th>gene_name</th>\n",
              "      <th></th>\n",
              "      <th></th>\n",
              "    </tr>\n",
              "  </thead>\n",
              "  <tbody>\n",
              "    <tr>\n",
              "      <th>TSPAN6</th>\n",
              "      <td>494.000</td>\n",
              "      <td>1198.373333</td>\n",
              "    </tr>\n",
              "    <tr>\n",
              "      <th>DPM1</th>\n",
              "      <td>4458.000</td>\n",
              "      <td>2367.000000</td>\n",
              "    </tr>\n",
              "    <tr>\n",
              "      <th>SCYL3</th>\n",
              "      <td>851.405</td>\n",
              "      <td>406.156667</td>\n",
              "    </tr>\n",
              "    <tr>\n",
              "      <th>FIRRM</th>\n",
              "      <td>1408.270</td>\n",
              "      <td>1153.816667</td>\n",
              "    </tr>\n",
              "    <tr>\n",
              "      <th>FGR</th>\n",
              "      <td>0.000</td>\n",
              "      <td>0.333333</td>\n",
              "    </tr>\n",
              "  </tbody>\n",
              "</table>\n",
              "</div>\n",
              "    <div class=\"colab-df-buttons\">\n",
              "\n",
              "  <div class=\"colab-df-container\">\n",
              "    <button class=\"colab-df-convert\" onclick=\"convertToInteractive('df-e34ced37-542e-4f88-9f2e-08221a2921dc')\"\n",
              "            title=\"Convert this dataframe to an interactive table.\"\n",
              "            style=\"display:none;\">\n",
              "\n",
              "  <svg xmlns=\"http://www.w3.org/2000/svg\" height=\"24px\" viewBox=\"0 -960 960 960\">\n",
              "    <path d=\"M120-120v-720h720v720H120Zm60-500h600v-160H180v160Zm220 220h160v-160H400v160Zm0 220h160v-160H400v160ZM180-400h160v-160H180v160Zm440 0h160v-160H620v160ZM180-180h160v-160H180v160Zm440 0h160v-160H620v160Z\"/>\n",
              "  </svg>\n",
              "    </button>\n",
              "\n",
              "  <style>\n",
              "    .colab-df-container {\n",
              "      display:flex;\n",
              "      gap: 12px;\n",
              "    }\n",
              "\n",
              "    .colab-df-convert {\n",
              "      background-color: #E8F0FE;\n",
              "      border: none;\n",
              "      border-radius: 50%;\n",
              "      cursor: pointer;\n",
              "      display: none;\n",
              "      fill: #1967D2;\n",
              "      height: 32px;\n",
              "      padding: 0 0 0 0;\n",
              "      width: 32px;\n",
              "    }\n",
              "\n",
              "    .colab-df-convert:hover {\n",
              "      background-color: #E2EBFA;\n",
              "      box-shadow: 0px 1px 2px rgba(60, 64, 67, 0.3), 0px 1px 3px 1px rgba(60, 64, 67, 0.15);\n",
              "      fill: #174EA6;\n",
              "    }\n",
              "\n",
              "    .colab-df-buttons div {\n",
              "      margin-bottom: 4px;\n",
              "    }\n",
              "\n",
              "    [theme=dark] .colab-df-convert {\n",
              "      background-color: #3B4455;\n",
              "      fill: #D2E3FC;\n",
              "    }\n",
              "\n",
              "    [theme=dark] .colab-df-convert:hover {\n",
              "      background-color: #434B5C;\n",
              "      box-shadow: 0px 1px 3px 1px rgba(0, 0, 0, 0.15);\n",
              "      filter: drop-shadow(0px 1px 2px rgba(0, 0, 0, 0.3));\n",
              "      fill: #FFFFFF;\n",
              "    }\n",
              "  </style>\n",
              "\n",
              "    <script>\n",
              "      const buttonEl =\n",
              "        document.querySelector('#df-e34ced37-542e-4f88-9f2e-08221a2921dc button.colab-df-convert');\n",
              "      buttonEl.style.display =\n",
              "        google.colab.kernel.accessAllowed ? 'block' : 'none';\n",
              "\n",
              "      async function convertToInteractive(key) {\n",
              "        const element = document.querySelector('#df-e34ced37-542e-4f88-9f2e-08221a2921dc');\n",
              "        const dataTable =\n",
              "          await google.colab.kernel.invokeFunction('convertToInteractive',\n",
              "                                                    [key], {});\n",
              "        if (!dataTable) return;\n",
              "\n",
              "        const docLinkHtml = 'Like what you see? Visit the ' +\n",
              "          '<a target=\"_blank\" href=https://colab.research.google.com/notebooks/data_table.ipynb>data table notebook</a>'\n",
              "          + ' to learn more about interactive tables.';\n",
              "        element.innerHTML = '';\n",
              "        dataTable['output_type'] = 'display_data';\n",
              "        await google.colab.output.renderOutput(dataTable, element);\n",
              "        const docLink = document.createElement('div');\n",
              "        docLink.innerHTML = docLinkHtml;\n",
              "        element.appendChild(docLink);\n",
              "      }\n",
              "    </script>\n",
              "  </div>\n",
              "\n",
              "\n",
              "<div id=\"df-196f8743-a46b-485d-9a50-895a959ba7c1\">\n",
              "  <button class=\"colab-df-quickchart\" onclick=\"quickchart('df-196f8743-a46b-485d-9a50-895a959ba7c1')\"\n",
              "            title=\"Suggest charts\"\n",
              "            style=\"display:none;\">\n",
              "\n",
              "<svg xmlns=\"http://www.w3.org/2000/svg\" height=\"24px\"viewBox=\"0 0 24 24\"\n",
              "     width=\"24px\">\n",
              "    <g>\n",
              "        <path d=\"M19 3H5c-1.1 0-2 .9-2 2v14c0 1.1.9 2 2 2h14c1.1 0 2-.9 2-2V5c0-1.1-.9-2-2-2zM9 17H7v-7h2v7zm4 0h-2V7h2v10zm4 0h-2v-4h2v4z\"/>\n",
              "    </g>\n",
              "</svg>\n",
              "  </button>\n",
              "\n",
              "<style>\n",
              "  .colab-df-quickchart {\n",
              "      --bg-color: #E8F0FE;\n",
              "      --fill-color: #1967D2;\n",
              "      --hover-bg-color: #E2EBFA;\n",
              "      --hover-fill-color: #174EA6;\n",
              "      --disabled-fill-color: #AAA;\n",
              "      --disabled-bg-color: #DDD;\n",
              "  }\n",
              "\n",
              "  [theme=dark] .colab-df-quickchart {\n",
              "      --bg-color: #3B4455;\n",
              "      --fill-color: #D2E3FC;\n",
              "      --hover-bg-color: #434B5C;\n",
              "      --hover-fill-color: #FFFFFF;\n",
              "      --disabled-bg-color: #3B4455;\n",
              "      --disabled-fill-color: #666;\n",
              "  }\n",
              "\n",
              "  .colab-df-quickchart {\n",
              "    background-color: var(--bg-color);\n",
              "    border: none;\n",
              "    border-radius: 50%;\n",
              "    cursor: pointer;\n",
              "    display: none;\n",
              "    fill: var(--fill-color);\n",
              "    height: 32px;\n",
              "    padding: 0;\n",
              "    width: 32px;\n",
              "  }\n",
              "\n",
              "  .colab-df-quickchart:hover {\n",
              "    background-color: var(--hover-bg-color);\n",
              "    box-shadow: 0 1px 2px rgba(60, 64, 67, 0.3), 0 1px 3px 1px rgba(60, 64, 67, 0.15);\n",
              "    fill: var(--button-hover-fill-color);\n",
              "  }\n",
              "\n",
              "  .colab-df-quickchart-complete:disabled,\n",
              "  .colab-df-quickchart-complete:disabled:hover {\n",
              "    background-color: var(--disabled-bg-color);\n",
              "    fill: var(--disabled-fill-color);\n",
              "    box-shadow: none;\n",
              "  }\n",
              "\n",
              "  .colab-df-spinner {\n",
              "    border: 2px solid var(--fill-color);\n",
              "    border-color: transparent;\n",
              "    border-bottom-color: var(--fill-color);\n",
              "    animation:\n",
              "      spin 1s steps(1) infinite;\n",
              "  }\n",
              "\n",
              "  @keyframes spin {\n",
              "    0% {\n",
              "      border-color: transparent;\n",
              "      border-bottom-color: var(--fill-color);\n",
              "      border-left-color: var(--fill-color);\n",
              "    }\n",
              "    20% {\n",
              "      border-color: transparent;\n",
              "      border-left-color: var(--fill-color);\n",
              "      border-top-color: var(--fill-color);\n",
              "    }\n",
              "    30% {\n",
              "      border-color: transparent;\n",
              "      border-left-color: var(--fill-color);\n",
              "      border-top-color: var(--fill-color);\n",
              "      border-right-color: var(--fill-color);\n",
              "    }\n",
              "    40% {\n",
              "      border-color: transparent;\n",
              "      border-right-color: var(--fill-color);\n",
              "      border-top-color: var(--fill-color);\n",
              "    }\n",
              "    60% {\n",
              "      border-color: transparent;\n",
              "      border-right-color: var(--fill-color);\n",
              "    }\n",
              "    80% {\n",
              "      border-color: transparent;\n",
              "      border-right-color: var(--fill-color);\n",
              "      border-bottom-color: var(--fill-color);\n",
              "    }\n",
              "    90% {\n",
              "      border-color: transparent;\n",
              "      border-bottom-color: var(--fill-color);\n",
              "    }\n",
              "  }\n",
              "</style>\n",
              "\n",
              "  <script>\n",
              "    async function quickchart(key) {\n",
              "      const quickchartButtonEl =\n",
              "        document.querySelector('#' + key + ' button');\n",
              "      quickchartButtonEl.disabled = true;  // To prevent multiple clicks.\n",
              "      quickchartButtonEl.classList.add('colab-df-spinner');\n",
              "      try {\n",
              "        const charts = await google.colab.kernel.invokeFunction(\n",
              "            'suggestCharts', [key], {});\n",
              "      } catch (error) {\n",
              "        console.error('Error during call to suggestCharts:', error);\n",
              "      }\n",
              "      quickchartButtonEl.classList.remove('colab-df-spinner');\n",
              "      quickchartButtonEl.classList.add('colab-df-quickchart-complete');\n",
              "    }\n",
              "    (() => {\n",
              "      let quickchartButtonEl =\n",
              "        document.querySelector('#df-196f8743-a46b-485d-9a50-895a959ba7c1 button');\n",
              "      quickchartButtonEl.style.display =\n",
              "        google.colab.kernel.accessAllowed ? 'block' : 'none';\n",
              "    })();\n",
              "  </script>\n",
              "</div>\n",
              "\n",
              "    </div>\n",
              "  </div>\n"
            ],
            "application/vnd.google.colaboratory.intrinsic+json": {
              "type": "dataframe",
              "variable_name": "MCF7_MDA_filtered_expression",
              "summary": "{\n  \"name\": \"MCF7_MDA_filtered_expression\",\n  \"rows\": 40677,\n  \"fields\": [\n    {\n      \"column\": \"gene_name\",\n      \"properties\": {\n        \"dtype\": \"string\",\n        \"num_unique_values\": 25879,\n        \"samples\": [\n          \"CDK11A\",\n          \"DPH5-DT\",\n          \"RPL7P20\"\n        ],\n        \"semantic_type\": \"\",\n        \"description\": \"\"\n      }\n    },\n    {\n      \"column\": \"MCF7\",\n      \"properties\": {\n        \"dtype\": \"number\",\n        \"std\": 6237.217290257559,\n        \"min\": 0.0,\n        \"max\": 464997.55000000005,\n        \"num_unique_values\": 16213,\n        \"samples\": [\n          4628.5,\n          2.8499999999999996,\n          1289.0\n        ],\n        \"semantic_type\": \"\",\n        \"description\": \"\"\n      }\n    },\n    {\n      \"column\": \"MDA-MB231\",\n      \"properties\": {\n        \"dtype\": \"number\",\n        \"std\": 6225.729842027893,\n        \"min\": 0.0,\n        \"max\": 523521.8566666667,\n        \"num_unique_values\": 17316,\n        \"samples\": [\n          404.6666666666667,\n          162.17999999999998,\n          969.7800000000001\n        ],\n        \"semantic_type\": \"\",\n        \"description\": \"\"\n      }\n    }\n  ]\n}"
            }
          },
          "metadata": {},
          "execution_count": 15
        }
      ]
    },
    {
      "cell_type": "markdown",
      "source": [],
      "metadata": {
        "id": "le-WEpg-L4c9"
      }
    },
    {
      "cell_type": "code",
      "source": [
        "MCF7_MDA_filtered_expression.info()\n"
      ],
      "metadata": {
        "id": "7E-3xtN7OEJR",
        "outputId": "60eccd5f-eb21-498e-cadd-f3b992ff16af",
        "colab": {
          "base_uri": "https://localhost:8080/"
        }
      },
      "execution_count": 16,
      "outputs": [
        {
          "output_type": "stream",
          "name": "stdout",
          "text": [
            "<class 'pandas.core.frame.DataFrame'>\n",
            "Index: 40677 entries, TSPAN6 to nan\n",
            "Data columns (total 2 columns):\n",
            " #   Column     Non-Null Count  Dtype  \n",
            "---  ------     --------------  -----  \n",
            " 0   MCF7       40677 non-null  float64\n",
            " 1   MDA-MB231  40677 non-null  float64\n",
            "dtypes: float64(2)\n",
            "memory usage: 953.4+ KB\n"
          ]
        }
      ]
    },
    {
      "cell_type": "markdown",
      "source": [
        "# **2. Lets check whether there are differently expressed genes between two cell line so I could narrow down my graphs, by checking the fold change:**"
      ],
      "metadata": {
        "id": "43HUocln34lS"
      }
    },
    {
      "cell_type": "code",
      "source": [
        "import pandas as pd\n",
        "import numpy as np\n",
        "\n",
        "\n",
        "\n",
        "# Step 1: Separate rows with zero expression for further investigation\n",
        "zero_expression_genes = MCF7_MDA_filtered_expression[\n",
        "    (MCF7_MDA_filtered_expression['MCF7'] == 0) | (MCF7_MDA_filtered_expression['MDA-MB231'] == 0)\n",
        "].copy()\n",
        "\n",
        "# Save genes with zero expression to a new file\n",
        "zero_expression_genes.to_csv(\"zero_expression_genes.tsv\", sep=\"\\t\", index=False)\n",
        "\n",
        "# Step 2: Filter out rows with zero expression from the original DataFrame\n",
        "MCF7_MDA_filtered_expression_no_zeros = MCF7_MDA_filtered_expression[\n",
        "    (MCF7_MDA_filtered_expression['MCF7'] != 0) & (MCF7_MDA_filtered_expression['MDA-MB231'] != 0)\n",
        "].copy()\n",
        "\n",
        "# Step 3: Calculate fold change and log2 fold change\n",
        "MCF7_MDA_filtered_expression_no_zeros['fold_change'] =MCF7_MDA_filtered_expression_no_zeros['MDA-MB231'] / MCF7_MDA_filtered_expression_no_zeros['MCF7']\n",
        "MCF7_MDA_filtered_expression_no_zeros.replace([np.inf, -np.inf], np.nan, inplace=True)  # Replace inf with NaN\n",
        "MCF7_MDA_filtered_expression_no_zeros.dropna(subset=['fold_change'], inplace=True)  # Drop rows with NaN in fold_change\n",
        "MCF7_MDA_filtered_expression_no_zeros['log2_fold_change'] = np.log2(MCF7_MDA_filtered_expression_no_zeros['fold_change'])\n",
        "\n",
        "# Step 4: Filter for significant fold change (e.g., >2 or <0.5)\n",
        "significant_genes = MCF7_MDA_filtered_expression_no_zeros[\n",
        "    (MCF7_MDA_filtered_expression_no_zeros['fold_change'] > 2) | (MCF7_MDA_filtered_expression_no_zeros['fold_change'] < 0.5)\n",
        "]\n",
        "\n",
        "# Save the cleaned DataFrame and significant genes to new files\n",
        "MCF7_MDA_filtered_expression_no_zeros.to_csv(\"cleaned_gene_expression.tsv\", sep=\"\\t\", index=False)\n",
        "significant_genes.to_csv(\"significant_genes.tsv\", sep=\"\\t\", index=False)\n",
        "\n",
        "print(\"Files generated:\")\n",
        "print(\"1. 'zero_expression_genes.tsv' for further investigation.\") #####this is an important file as it may show which genes switched on/off\n",
        "print(\"2. 'cleaned_gene_expression.tsv' with cleaned data.\")#####this is a file which has zero expression genes removed\n",
        "print(\"3. 'significant_genes.tsv' with significant fold change.\")####this is a file which as 2 fold change and 0.5 fold chane between 2 cell lines\n"
      ],
      "metadata": {
        "colab": {
          "base_uri": "https://localhost:8080/"
        },
        "id": "64ZYZc3TqHSs",
        "outputId": "ecb63c6b-7130-4039-e0d9-cd777e5e55d8"
      },
      "execution_count": null,
      "outputs": [
        {
          "output_type": "stream",
          "name": "stdout",
          "text": [
            "Files generated:\n",
            "1. 'zero_expression_genes.tsv' for further investigation.\n",
            "2. 'cleaned_gene_expression.tsv' with cleaned data.\n",
            "3. 'significant_genes.tsv' with significant fold change.\n"
          ]
        }
      ]
    },
    {
      "cell_type": "code",
      "source": [
        "significant_genes.head()"
      ],
      "metadata": {
        "id": "vF1Cz1dBs8cg"
      },
      "execution_count": null,
      "outputs": []
    },
    {
      "cell_type": "code",
      "source": [
        "# Remove rows with NaN in the index (gene names)\n",
        "# Remove rows with NaN in the index (if gene names are in the index)\n",
        "significant_genes_cleaned = significant_genes[~significant_genes.index.isnull()]\n",
        "\n",
        "# Save the cleaned significant genes to a new file\n",
        "significant_genes_cleaned.to_csv(\"significant_genes_cleaned.tsv\", sep=\"\\t\")\n",
        "\n",
        "print(\"Significant genes with NaN in gene names removed. Saved to 'significant_genes_cleaned.tsv'.\")\n"
      ],
      "metadata": {
        "id": "voRPrJ_6tWXL"
      },
      "execution_count": null,
      "outputs": []
    },
    {
      "cell_type": "code",
      "source": [
        "significant_genes_cleaned.info()"
      ],
      "metadata": {
        "id": "5omLbFLatYCF"
      },
      "execution_count": null,
      "outputs": []
    },
    {
      "cell_type": "markdown",
      "source": [
        "# **3. Let's modify our TF-Gene matrices per cell line keeping only the genes found in significant_genes_cleaned**"
      ],
      "metadata": {
        "id": "kCuTd8QYL9C1"
      }
    },
    {
      "cell_type": "code",
      "source": [
        "\n",
        "# Step 1: Load the TF-genes matrix and the filtered gene list\n",
        "#df_MCF7_TF_Genes ===matrix\n",
        "#df_MDA_MB231_TF_Genes ===matrix\n",
        "#MCF7_MDA_filtered_expression===gene expression file\n",
        "\n",
        "\n",
        "\n",
        "# Extract the gene names from df_filtered\n",
        "filtered_genes = set(significant_genes_cleaned.index)  # Assuming `gene_name` is the column with gene names\n",
        "\n",
        "# Step 3: Filter the columns of the TF-genes matrix\n",
        "MCF7_filtered_tf_gene_matrix = df_MCF7_TF_Genes.loc[:, df_MCF7_TF_Genes.columns.isin(filtered_genes)]\n",
        "MDA_MB231_filtered_tf_gene_matrix = df_MDA_MB231_TF_Genes.loc[:, df_MDA_MB231_TF_Genes.columns.isin(filtered_genes)]\n",
        "\n"
      ],
      "metadata": {
        "id": "IJFde83QMI1y"
      },
      "execution_count": null,
      "outputs": []
    },
    {
      "cell_type": "markdown",
      "source": [
        "# **4. Lets approach this slightly differently; lets rank genes based on log2_fold_change in the significant_genes_cleaned file. Then select top 300 upregulated genes and top 300 downregulated genes and only then use these for graph construction**"
      ],
      "metadata": {
        "id": "E9vTNhkTcQYm"
      }
    },
    {
      "cell_type": "code",
      "source": [
        "import pandas as pd\n",
        "\n",
        "\n",
        "# Sort genes by log2 fold change (descending)\n",
        "ranked_genes = significant_genes_cleaned.sort_values(\n",
        "    by=\"log2_fold_change\", ascending=False\n",
        ")\n",
        "\n",
        "# Save the ranked genes to a new file\n",
        "ranked_genes.to_csv(\"ranked_significant_genes_cleaned.csv\", index=False)\n",
        "\n",
        "# Display top upregulated and downregulated genes\n",
        "top_upregulated = ranked_genes.head(300)  # Top 300 overexpressed genes\n",
        "top_downregulated = ranked_genes.tail(300)  # Top 300 downexpressed genes\n",
        "\n",
        "print(\"Top 300 Upregulated Genes:\")\n",
        "print(top_upregulated)\n",
        "\n",
        "print(\"\\nTop 300 Downregulated Genes:\")\n",
        "print(top_downregulated)\n"
      ],
      "metadata": {
        "id": "E7c4Isy8cmgD"
      },
      "execution_count": null,
      "outputs": []
    },
    {
      "cell_type": "markdown",
      "source": [
        "# **5. Filter the TF-Gene matrix to contain top 300 upregulated and top 300 downregulated genes per cell line**"
      ],
      "metadata": {
        "id": "_GA2v3fQs6Jg"
      }
    },
    {
      "cell_type": "code",
      "source": [
        "# Ensure gene names are not used as index\n",
        "if top_upregulated.index.name == 'gene_name':\n",
        "    top_upregulated.reset_index(inplace=True)\n",
        "if top_downregulated.index.name == 'gene_name':\n",
        "    top_downregulated.reset_index(inplace=True)"
      ],
      "metadata": {
        "id": "ayhtxWHfHkF8"
      },
      "execution_count": null,
      "outputs": []
    },
    {
      "cell_type": "code",
      "source": [
        "# Combine the two lists\n",
        "combined_genes_upregulated_downregulated = pd.concat([top_upregulated, top_downregulated], ignore_index=True)\n",
        "\n",
        "combined_genes_upregulated_downregulated.head()"
      ],
      "metadata": {
        "id": "W96An_UwID0u"
      },
      "execution_count": null,
      "outputs": []
    },
    {
      "cell_type": "code",
      "source": [
        "import pandas as pd\n",
        "#df_MCF7_TF_Genes ===matrix\n",
        "#df_MDA_MB231_TF_Genes ===matrix\n",
        "#top_upregulated = ranked_genes.head(300)  # Top 300 overexpressed genes\n",
        "#top_downregulated = ranked_genes.tail(300)  # Top 300 downexpressed genes\n",
        "\n",
        "\n",
        "\n",
        "# Filter the TF-Gene matrix for upregulated genes\n",
        "#MCF7_upregulated_matrix = df_MCF7_TF_Genes.loc[:, df_MCF7_TF_Genes.columns.isin(top_upregulated)]\n",
        "#MDA_MB231_upregulated_matrix = df_MDA_MB231_TF_Genes.loc[:, df_MDA_MB231_TF_Genes.columns.isin(top_upregulated)]\n",
        "\n",
        "# Filter the TF-Gene matrix for downregulated genes\n",
        "#MCF7_downregulated_matrix = df_MCF7_TF_Genes.loc[:, df_MCF7_TF_Genes.columns.isin(top_downregulated)]\n",
        "#MDA_MB231_downregulated_matrix = df_MDA_MB231_TF_Genes.loc[:, df_MDA_MB231_TF_Genes.columns.isin(top_downregulated)]\n",
        "\n",
        "\n",
        "# Save the filtered matrices\n",
        "#MCF7_upregulated_matrix.to_csv(\"MCF7_upregulated_tf_gene_matrix.tsv\", sep=\"\\t\")\n",
        "#MCF7_downregulated_matrix.to_csv(\"MCF7_downregulated_tf_gene_matrix.tsv\", sep=\"\\t\")\n",
        "#MDA_MB231_upregulated_matrix.to_csv(\"MDA_MB231_upregulated_tf_gene_matrix.tsv\", sep=\"\\t\")\n",
        "#MDA_MB231_downregulated_matrix.to_csv(\"MDA_MB231_downregulated_tf_gene_matrix.tsv\", sep=\"\\t\")\n",
        "\n",
        "#print(\"Filtered matrices saved.\")\n"
      ],
      "metadata": {
        "id": "07LDa78ds58a"
      },
      "execution_count": null,
      "outputs": []
    },
    {
      "cell_type": "markdown",
      "source": [
        "# **BUILDING GRAPHS**:\n",
        "-> lets combine top 300 upregulated and top 300 downregulated genes\n",
        "\n",
        "-> filter the Tf-gene matrix based on these genes per cell line (MCf7 and MDA_MB231)\n",
        "\n",
        "-> build the graphs with NetworkX and visualize\n",
        "\n",
        "-> Do GSP with PyGSP"
      ],
      "metadata": {
        "id": "VinIAU8rCA8e"
      }
    },
    {
      "cell_type": "markdown",
      "source": [
        "# **1) Combine gene list and fiter the matrix**"
      ],
      "metadata": {
        "id": "ItCek0DMDO16"
      }
    },
    {
      "cell_type": "code",
      "source": [
        "import pandas as pd\n",
        "\n",
        "\n",
        "\n",
        "# combined gene list is 'combined_genes_upregulated_downregulated'\n",
        "# Filter the matrices using the combined gene list\n",
        "selected_genes = combined_genes_upregulated_downregulated['gene_name'].tolist()\n",
        "\n",
        "\n",
        "# Filter the matrices to keep only the selected genes as columns\n",
        "filtered_matrix_mcf7_combined_edges = df_MCF7_TF_Genes.loc[:, df_MCF7_TF_Genes.columns.isin(selected_genes)]\n",
        "filtered_matrix_mda_combined_edges= df_MDA_MB231_TF_Genes.loc[:, df_MDA_MB231_TF_Genes.columns.isin(selected_genes)]\n",
        "\n",
        "# Save the filtered matrices for reference\n",
        "filtered_matrix_mcf7_combined_edges.to_csv(\"filtered_matrix_mcf7_combined_edges.tsv\", sep=\"\\t\")\n",
        "filtered_matrix_mda_combined_edges.to_csv(\"filtered_matrix_mda_combined_edges.tsv\", sep=\"\\t\")\n",
        "\n",
        "print(\"Filtered matrices saved.\")\n"
      ],
      "metadata": {
        "id": "4wopqxjEDUOK"
      },
      "execution_count": null,
      "outputs": []
    },
    {
      "cell_type": "code",
      "source": [
        "filtered_matrix_mcf7_combined_edges.head()"
      ],
      "metadata": {
        "id": "eooLSvdVJgJs"
      },
      "execution_count": null,
      "outputs": []
    },
    {
      "cell_type": "code",
      "source": [
        "filtered_matrix_mda_combined_edges.head()"
      ],
      "metadata": {
        "id": "IeeFHBHiJpJj"
      },
      "execution_count": null,
      "outputs": []
    },
    {
      "cell_type": "markdown",
      "source": [
        "# **2. Build Graphs with Annonated Edges for each cell line**"
      ],
      "metadata": {
        "id": "Pz5byyAAESTd"
      }
    },
    {
      "cell_type": "markdown",
      "source": [
        "**MCF7** **GRAPH**"
      ],
      "metadata": {
        "id": "gzhowUPlEdjX"
      }
    },
    {
      "cell_type": "code",
      "source": [
        "import networkx as nx\n",
        "\n",
        "# Create a directed graph for MCF7\n",
        "G_mcf7 = nx.DiGraph()\n",
        "\n",
        "# Add edges with annotations for MCF7\n",
        "for tf in filtered_matrix_mcf7_combined_edges.index:\n",
        "    for gene, weight in filtered_matrix_mcf7_combined_edges.loc[tf].items():\n",
        "        if weight > 0:\n",
        "            edge_type = \"positive\"  # Activation\n",
        "        elif weight < 0:\n",
        "            edge_type = \"negative\"  # Repression\n",
        "        else:\n",
        "            continue  # Skip edges with weight 0\n",
        "\n",
        "        G_mcf7.add_edge(tf, gene, weight=weight, type=edge_type)\n",
        "\n",
        "print(\"MCF7 graph created.\")\n"
      ],
      "metadata": {
        "id": "SlDdvOqNJyn9"
      },
      "execution_count": null,
      "outputs": []
    },
    {
      "cell_type": "markdown",
      "source": [
        "**MDA_MB231 GRAPH**"
      ],
      "metadata": {
        "id": "x4LAPoguE3qg"
      }
    },
    {
      "cell_type": "code",
      "source": [
        "# Create a directed graph for MDA-MB231\n",
        "G_mda = nx.DiGraph()\n",
        "\n",
        "# Add edges with annotations for MDA-MB231\n",
        "for tf in filtered_matrix_mda_combined_edges.index:\n",
        "    for gene, weight in filtered_matrix_mda_combined_edges.loc[tf].items():\n",
        "        if weight > 0:\n",
        "            edge_type = \"positive\"  # Activation\n",
        "        elif weight < 0:\n",
        "            edge_type = \"negative\"  # Repression\n",
        "        else:\n",
        "            continue  # Skip edges with weight 0\n",
        "\n",
        "        G_mda.add_edge(tf, gene, weight=weight, type=edge_type)\n",
        "\n",
        "print(\"MDA-MB231 graph created.\")\n"
      ],
      "metadata": {
        "id": "5irhjgKMFC35"
      },
      "execution_count": null,
      "outputs": []
    },
    {
      "cell_type": "markdown",
      "source": [
        "# **3. Save the Graphs for Further Analysis**\n",
        "\n"
      ],
      "metadata": {
        "id": "bUFxEc8TFWp0"
      }
    },
    {
      "cell_type": "code",
      "source": [
        "# Save the graphs as GraphML files\n",
        "nx.write_graphml(G_mcf7, \"mcf7_graph_with_annotations.graphml\")\n",
        "nx.write_graphml(G_mda, \"mda_mb231_graph_with_annotations.graphml\")\n",
        "\n",
        "print(\"Graphs saved with annotated edges.\")\n"
      ],
      "metadata": {
        "id": "Q6dFZJR4FdLB"
      },
      "execution_count": null,
      "outputs": []
    },
    {
      "cell_type": "code",
      "source": [
        "import matplotlib.pyplot as plt\n",
        "import networkx as nx\n",
        "\n",
        "def visualize_graph(graph, title):\n",
        "    # Define edge colors based on annotations\n",
        "    edge_colors = [\n",
        "        \"green\" if graph[u][v]['type'] == \"positive\" else \"red\"\n",
        "        for u, v in graph.edges\n",
        "    ]\n",
        "\n",
        "    # Draw the graph\n",
        "    pos = nx.spring_layout(graph, seed=42)  # Spring layout for better visualization\n",
        "    nx.draw(\n",
        "        graph, pos, with_labels=True, edge_color=edge_colors, node_size=500, font_size=10\n",
        "    )\n",
        "\n",
        "    # Add a legend for edge colors\n",
        "    plt.title(title)\n",
        "    plt.show()\n",
        "\n",
        "# Load the graphs\n",
        "G_mcf7 = nx.read_graphml(\"mcf7_graph_with_annotations.graphml\")\n",
        "G_mda = nx.read_graphml(\"mda_mb231_graph_with_annotations.graphml\")\n",
        "\n",
        "# Visualize MCF7 graph\n",
        "visualize_graph(G_mcf7, \"MCF7 Graph\")\n",
        "\n",
        "# Visualize MDA-MB231 graph\n",
        "#visualize_graph(G_mda, \"MDA-MB231 Graph\")\n"
      ],
      "metadata": {
        "id": "WnZEihNODJwQ"
      },
      "execution_count": null,
      "outputs": []
    },
    {
      "cell_type": "code",
      "source": [
        "print(\"Nodes in MCF7 graph:\", G_mcf7.nodes(data=True))\n",
        "print(\"Edges in MCF7 graph:\", G_mcf7.edges(data=True))\n"
      ],
      "metadata": {
        "id": "u5Tpa1V8GOrG"
      },
      "execution_count": null,
      "outputs": []
    },
    {
      "cell_type": "code",
      "source": [
        "# Flatten the dataframe into a series with TF-Gene pair as the index\n",
        "ranked_positive_df = positive_df.stack().sort_values(ascending=False)\n",
        "\n",
        "# Get the top 200 interactions\n",
        "top_300_positive_df = ranked_positive_df.head(300)\n",
        "print(top_300_positive_df)\n"
      ],
      "metadata": {
        "id": "FQtBZMFU_4Dm"
      },
      "execution_count": null,
      "outputs": []
    },
    {
      "cell_type": "code",
      "source": [
        "# Flatten the dataframe into a series with TF-Gene pair as the index\n",
        "ranked_negative_df = negative_df.stack().sort_values(ascending=True)\n",
        "\n",
        "# Get the top 200 interactions\n",
        "top_300_negative_df = ranked_negative_df.head(300)\n",
        "print(top_300_negative_df)\n"
      ],
      "metadata": {
        "id": "yqy1Y0OKAejl"
      },
      "execution_count": null,
      "outputs": []
    },
    {
      "cell_type": "code",
      "source": [
        "# Rename the columns of the positive and negative dataframes\n",
        "top_300_positive_df = top_300_positive_df.reset_index()\n",
        "top_300_positive_df.columns = [\"Source\", \"Target\", \"Edge weight\"]\n",
        "\n",
        "top_300_negative_df = top_300_negative_df.reset_index()\n",
        "top_300_negative_df.columns = [\"Source\", \"Target\", \"Edge weight\"]\n",
        "\n",
        "# Display the updated dataframes\n",
        "print(\"Top 300 Positive Interactions:\")\n",
        "print(top_300_positive_df.head())\n",
        "\n",
        "print(\"\\nTop 300 Negative Interactions:\")\n",
        "print(top_300_negative_df.head())\n"
      ],
      "metadata": {
        "id": "7mUQHd-PVXaI"
      },
      "execution_count": null,
      "outputs": []
    },
    {
      "cell_type": "code",
      "source": [
        "import matplotlib.pyplot as plt\n",
        "import networkx as nx\n",
        "import pandas as pd\n",
        "from networkx.algorithms import community\n",
        "\n",
        "\n",
        "\n",
        "# Initialize directed graph for positive interactions\n",
        "G_positive = nx.DiGraph()\n",
        "\n",
        "# Add edges from the dataframe to the directed graph\n",
        "for _, row in top_300_positive_df.iterrows():\n",
        "    G_positive.add_edge(row['Source'], row['Target'], weight=row['Edge weight'])\n",
        "\n",
        "# Set a layout for the graph\n",
        "pos = nx.spring_layout(G_positive, k=0.8, iterations=100)\n",
        "\n",
        "# Separate nodes based on Source and Target\n",
        "source_nodes = set(top_300_positive_df['Source'])\n",
        "target_nodes = set(top_300_positive_df['Target'])\n",
        "\n",
        "# Draw the main graph\n",
        "plt.figure(figsize=(12, 10))\n",
        "nx.draw(\n",
        "    G_positive, pos, with_labels=True, node_size=200, nodelist=source_nodes,\n",
        "    node_color=\"pink\", alpha=0.7, font_size=8, edge_color=\"darkgrey\"\n",
        ")\n",
        "nx.draw(\n",
        "    G_positive, pos, with_labels=True, node_size=200, nodelist=target_nodes,\n",
        "    node_color=\"blue\", alpha=0.6, font_size=8, edge_color=\"darkgrey\"\n",
        ")\n",
        "plt.title(\"Main Graph with TFs (Pink) and Genes (Blue)\")\n",
        "plt.show()\n",
        "\n",
        "# Calculate communities\n",
        "communities = community.greedy_modularity_communities(G_positive)\n",
        "# Create subplots for communities\n",
        "fig, axes = plt.subplots(1, 2, figsize=(14, 7))\n",
        "\n",
        "for idx, comm in enumerate(communities[:2]):  # First two communities\n",
        "    subgraph = G_positive.subgraph(comm)\n",
        "    sub_pos = nx.spring_layout(subgraph, k=0.8)  # Separate layout for each community\n",
        "\n",
        "    # Separate nodes into TFs and genes for this subgraph\n",
        "    sub_source_nodes = [node for node in comm if node in source_nodes]\n",
        "    sub_target_nodes = [node for node in comm if node in target_nodes]\n",
        "\n",
        "    # Draw source nodes (TFs) in pink\n",
        "    nx.draw(\n",
        "        subgraph, sub_pos, ax=axes[idx], with_labels=True, node_size=200,\n",
        "        nodelist=sub_source_nodes, node_color=\"pink\", alpha=0.7, font_size=8\n",
        "    )\n",
        "\n",
        "    # Draw target nodes (genes) in blue\n",
        "    nx.draw(\n",
        "        subgraph, sub_pos, ax=axes[idx], with_labels=True, node_size=200,\n",
        "        nodelist=sub_target_nodes, node_color=\"blue\", alpha=0.6, font_size=8\n",
        "    )\n",
        "\n",
        "    axes[idx].set_title(f\"Community {idx + 1}\")\n",
        "\n",
        "plt.tight_layout()\n",
        "plt.show()\n"
      ],
      "metadata": {
        "id": "5tOb1QD0OrUf"
      },
      "execution_count": null,
      "outputs": []
    },
    {
      "cell_type": "code",
      "source": [],
      "metadata": {
        "id": "ZVc-JxH4Hu32"
      },
      "execution_count": null,
      "outputs": []
    },
    {
      "cell_type": "code",
      "source": [
        "import matplotlib.pyplot as plt\n",
        "import networkx as nx\n",
        "import pandas as pd\n",
        "\n",
        "\n",
        "# Initialize directed graph for positive interactions\n",
        "G_negative = nx.DiGraph()\n",
        "\n",
        "# Add edges from the dataframe to the directed graph\n",
        "for _, row in top_300_negative_df.iterrows():\n",
        "    G_negative.add_edge(row['Source'], row['Target'], weight=row['Edge weight'])\n",
        "\n",
        "# Set a layout for the graph\n",
        "pos = nx.spring_layout(G_negative, k=0.6, iterations=30)\n",
        "\n",
        "# Separate nodes based on Source and Target\n",
        "source_nodes = set(top_300_negative_df['Source'])\n",
        "target_nodes = set(top_300_negative_df['Target'])\n",
        "\n",
        "# Draw the source nodes in pink\n",
        "nx.draw(G_negative, pos, with_labels=True, node_size=1000, nodelist=source_nodes, node_color=\"orange\", font_size=8, edge_color='darkgrey')\n",
        "\n",
        "# Draw the target nodes in blue, without overriding the previously drawn source nodes\n",
        "nx.draw(G_negative, pos, with_labels=True, node_size=1000, nodelist=target_nodes, node_color=\"green\", alpha=0.6, font_size=8, edge_color='darkgrey')\n",
        "\n",
        "# Draw edge labels to show weights with smaller font size\n",
        "#edge_labels = nx.get_edge_attributes(G_negative, 'weight')\n",
        "#nx.draw_networkx_edge_labels(G_negative, pos, edge_labels=edge_labels, font_size=8)\n",
        "\n",
        "# Show the plot\n",
        "plt.show()\n"
      ],
      "metadata": {
        "id": "2pBO2CeBHvQp"
      },
      "execution_count": null,
      "outputs": []
    },
    {
      "cell_type": "code",
      "source": [
        "import matplotlib.pyplot as plt\n",
        "import networkx as nx\n",
        "import pandas as pd\n",
        "from networkx.algorithms import community\n",
        "\n",
        "# Initialize directed graph for negative interactions\n",
        "G_negative = nx.DiGraph()\n",
        "\n",
        "# Add edges from the dataframe to the directed graph\n",
        "for _, row in top_300_negative_df.iterrows():\n",
        "    G_negative.add_edge(row['Source'], row['Target'], weight=row['Edge weight'])\n",
        "\n",
        "# Set a layout for the graph\n",
        "pos = nx.spring_layout(G_negative, k=0.6, iterations=30)\n",
        "\n",
        "# Separate nodes based on Source and Target\n",
        "source_nodes = set(top_300_negative_df['Source'])\n",
        "target_nodes = set(top_300_negative_df['Target'])\n",
        "\n",
        "# Draw the main graph\n",
        "plt.figure(figsize=(10, 8))\n",
        "nx.draw(\n",
        "    G_negative, pos, with_labels=True, node_size=1000, nodelist=source_nodes,\n",
        "    node_color=\"orange\", alpha=0.7, font_size=8, edge_color=\"darkgrey\"\n",
        ")\n",
        "nx.draw(\n",
        "    G_negative, pos, with_labels=True, node_size=1000, nodelist=target_nodes,\n",
        "    node_color=\"green\", alpha=0.6, font_size=8, edge_color=\"darkgrey\"\n",
        ")\n",
        "plt.title(\"Main Graph with TFs (Orange) and Genes (Green)\")\n",
        "plt.show()\n",
        "\n",
        "# Calculate communities for the negative graph\n",
        "communities_negative = community.greedy_modularity_communities(G_negative)\n",
        "\n",
        "# Create subplots for communities\n",
        "fig, axes = plt.subplots(1, 2, figsize=(14, 7))\n",
        "\n",
        "for idx, comm in enumerate(communities_negative[:2]):  # First two communities\n",
        "    subgraph = G_negative.subgraph(comm)\n",
        "    sub_pos = nx.spring_layout(subgraph, k=0.8)  # Separate layout for each community\n",
        "\n",
        "    # Separate nodes into TFs and genes for this subgraph\n",
        "    sub_source_nodes = [node for node in comm if node in source_nodes]\n",
        "    sub_target_nodes = [node for node in comm if node in target_nodes]\n",
        "\n",
        "    # Draw source nodes (TFs) in orange\n",
        "    nx.draw(\n",
        "        subgraph, sub_pos, ax=axes[idx], with_labels=True, node_size=1000,\n",
        "        nodelist=sub_source_nodes, node_color=\"orange\", alpha=0.7, font_size=8\n",
        "    )\n",
        "\n",
        "    # Draw target nodes (genes) in green\n",
        "    nx.draw(\n",
        "        subgraph, sub_pos, ax=axes[idx], with_labels=True, node_size=1000,\n",
        "        nodelist=sub_target_nodes, node_color=\"green\", alpha=0.6, font_size=8\n",
        "    )\n",
        "\n",
        "    axes[idx].set_title(f\"Community {idx + 1}\")\n",
        "\n",
        "plt.tight_layout()\n",
        "plt.show()\n"
      ],
      "metadata": {
        "id": "aISIBbjVP8gq"
      },
      "execution_count": null,
      "outputs": []
    },
    {
      "cell_type": "markdown",
      "source": [
        "I have attempted using Kamada and Planar layouts and it did not yield any explainable or reasonable plots"
      ],
      "metadata": {
        "id": "eD5qgEHeiaQc"
      }
    },
    {
      "cell_type": "code",
      "source": [
        "#Save the graph in formats like GraphML or GEXF for visualization in tools like Gephi.\n",
        "nx.write_graphml(G_positive, \"positive_interactions.graphml\")\n",
        "nx.write_graphml(G_negative, \"negative_interactions.graphml\")"
      ],
      "metadata": {
        "id": "8OfyDndKWLBk"
      },
      "execution_count": null,
      "outputs": []
    },
    {
      "cell_type": "code",
      "source": [
        "\n"
      ],
      "metadata": {
        "id": "KIccc7VzWEXi"
      },
      "execution_count": null,
      "outputs": []
    },
    {
      "cell_type": "markdown",
      "source": [
        "# Let's install PyGPS (suggested by Ortega) and use it for signal processing:"
      ],
      "metadata": {
        "id": "gIYvte8vZL39"
      }
    },
    {
      "cell_type": "code",
      "source": [
        "pip install pygsp\n"
      ],
      "metadata": {
        "id": "OOeMRp5EZVKP"
      },
      "execution_count": null,
      "outputs": []
    },
    {
      "cell_type": "markdown",
      "source": [
        "# **1. Convert NetworkX Graph to PyGSP Graph**"
      ],
      "metadata": {
        "id": "mHsBdtpnix_L"
      }
    },
    {
      "cell_type": "code",
      "source": [
        "#I decided to use PyGSP package so few adjustments will be required\n",
        "import networkx as nx\n",
        "import pygsp as pg\n",
        "from networkx import to_scipy_sparse_array\n",
        "\n",
        "# Extract adjacency matrix from NetworkX graph\n",
        "# Extract adjacency matrix from NetworkX graph as a sparse array\n",
        "G_positive.remove_edges_from(nx.selfloop_edges(G_positive))##### remove the loop here so now I have 299 edges\n",
        "adjacency_matrix_pos = to_scipy_sparse_array(G_positive, weight=\" Edge weight\")\n",
        "\n",
        "# Create PyGSP graph\n",
        "gsp_graph_pos= pg.graphs.Graph(adjacency_matrix_pos)\n",
        "\n",
        "# Display basic graph info\n",
        "print(f\"PyGSP Graph Positive with {gsp_graph_pos.N} nodes and {gsp_graph_pos.Ne} edges.\")\n"
      ],
      "metadata": {
        "id": "pH1eqnZpaHmr"
      },
      "execution_count": null,
      "outputs": []
    },
    {
      "cell_type": "code",
      "source": [],
      "metadata": {
        "id": "5RjCzHHEfHS5"
      },
      "execution_count": null,
      "outputs": []
    },
    {
      "cell_type": "code",
      "source": [
        "# Extract adjacency matrix from NetworkX graph for Negative graph\n",
        "# Extract adjacency matrix from NetworkX graph as a sparse array\n",
        "adjacency_matrix_neg = to_scipy_sparse_array(G_negative, weight=\" Edge weight\")\n",
        "\n",
        "# Create PyGSP graph\n",
        "gsp_graph_neg= pg.graphs.Graph(adjacency_matrix_neg)\n",
        "\n",
        "# Display basic graph info\n",
        "print(f\"PyGSP Graph Negative with {gsp_graph_neg.N} nodes and {gsp_graph_neg.Ne} edges.\")\n"
      ],
      "metadata": {
        "id": "5UAU4SwQfHsD"
      },
      "execution_count": null,
      "outputs": []
    },
    {
      "cell_type": "markdown",
      "source": [
        "since our positive graph has loops, i.e. gene strongly interacting with itself (may be acts as a dimer?), I decided to remove that loop for further analysis.\n",
        "\n",
        "\n",
        "---\n",
        "\n",
        "\n"
      ],
      "metadata": {
        "id": "VzsK-OGPhaAi"
      }
    },
    {
      "cell_type": "markdown",
      "source": [
        "# **2.Compute the Laplacian Matrix**\n"
      ],
      "metadata": {
        "id": "pc6C0vOGi48H"
      }
    },
    {
      "cell_type": "code",
      "source": [
        "# Compute Laplacian (default is combinatorial)\n",
        "gsp_graph_pos.compute_laplacian(lap_type=\"combinatorial\")\n",
        "laplacian = gsp_graph_pos.L\n",
        "\n",
        "print(\"Laplacian Matrix Pos:\")\n",
        "print(laplacian.toarray())  # Display dense matrix for small graphs\n"
      ],
      "metadata": {
        "id": "XVNmcnLVi127"
      },
      "execution_count": null,
      "outputs": []
    },
    {
      "cell_type": "code",
      "source": [
        "# Compute Laplacian (default is combinatorial)\n",
        "gsp_graph_neg.compute_laplacian(lap_type=\"combinatorial\")\n",
        "laplacian = gsp_graph_neg.L\n",
        "\n",
        "print(\"Laplacian Matrix Neg:\")\n",
        "print(laplacian.toarray())  # Display dense matrix for small graphs\n"
      ],
      "metadata": {
        "id": "gAvHFzB9jpZm"
      },
      "execution_count": null,
      "outputs": []
    },
    {
      "cell_type": "markdown",
      "source": [
        "# 3. Assign Graph Signal\n",
        "Assign RNa-seq data as the graph signal"
      ],
      "metadata": {
        "id": "L-B1rzLI_5ah"
      }
    },
    {
      "cell_type": "code",
      "source": [
        "import pandas as pd\n",
        "\n",
        "# Load RNA-seq data\n",
        "rna_seq_data = pd.read_csv(\"/content/drive/MyDrive/Essex_MSc_AI_24-25/MSc_Project_24/Data_to_work_with/GRAND_datasets/MCF7_raw/MCF_RNAseq_countsGSE208731.csv\")  # Replace with your RNA-seq file\n",
        "# Columns: gene, expression\n",
        "\n",
        "# Extract genes from graphs\n",
        "positive_genes = set(G_positive.nodes)\n",
        "negative_genes = set(G_negative.nodes)\n",
        "all_genes_in_graph = positive_genes.union(negative_genes)\n",
        "\n",
        "# Filter RNA-seq data to include only relevant genes\n",
        "filtered_rna_seq_data = rna_seq_data[rna_seq_data['Gene'].isin(all_genes_in_graph)]\n",
        "\n",
        "# Verify the alignment\n",
        "missing_genes = all_genes_in_graph - set(filtered_rna_seq_data['Gene'])\n",
        "if missing_genes:\n",
        "    print(f\"Warning: The following genes are missing in the RNA-seq data: {missing_genes}\")\n",
        "else:\n",
        "    print(\"All graph genes have corresponding RNA-seq data.\")\n",
        "\n"
      ],
      "metadata": {
        "id": "GN6Q05xsZQnK"
      },
      "execution_count": null,
      "outputs": []
    },
    {
      "cell_type": "code",
      "source": [
        "#average the expression data based on experimental coditions\n",
        "import pandas as pd\n",
        "\n",
        "\n",
        "\n",
        "# Averaging specific column groups and renaming them\n",
        "column_groups = {\n",
        "    \"MCF7_2D_exp1\": [1, 2, 3],      # Columns 1, 2, 3\n",
        "    \"MCF7_3D_exp1\": [4, 5, 6],      # Columns 4, 5, 6\n",
        "    \"MCF7_2D_exp2\": [7, 8, 9, 10, 11, 12],  # Columns 7 to 12\n",
        "    \"MCF7_3D_exp2\": [13, 14, 15, 16, 17, 18]  # Columns 13 to 18\n",
        "}\n",
        "\n",
        "# Initialize a new DataFrame with the 'gene' column\n",
        "averaged_data = filtered_rna_seq_data[['Gene']].copy()\n",
        "\n",
        "# Compute averages for each group and add to the new DataFrame\n",
        "for new_column, indices in column_groups.items():\n",
        "    averaged_data[new_column] = rna_seq_data.iloc[:, indices].mean(axis=1).round(2)\n",
        "\n",
        "# Save or inspect the resulting DataFrame\n",
        "print(averaged_data.head())\n",
        "averaged_data.to_csv(\"averaged_rna_seq_data.csv\", index=False)\n"
      ],
      "metadata": {
        "id": "GLARvrxc6MTp"
      },
      "execution_count": null,
      "outputs": []
    },
    {
      "cell_type": "code",
      "source": [],
      "metadata": {
        "id": "f6HsRrp6AHya"
      },
      "execution_count": null,
      "outputs": []
    },
    {
      "cell_type": "code",
      "source": [
        "import networkx as nx\n",
        "import pandas as pd\n",
        "\n",
        "#Load RNA-seq data\n",
        "averaged_rna_seq_data = pd.read_csv(\"/content/drive/MyDrive/Essex_MSc_AI_24-25/MSc_Project_24/Data_to_work_with/GRAND_datasets/averaged_rna_seq_data.csv\")  # Replace with your RNA-seq file\n",
        "\n",
        "\n",
        "\n",
        "# Ensure the RNA-seq data has a 'Gene' column and averaged columns (e.g., MCF7_2D_exp1, etc.)\n",
        "# Create a mapping of genes to expression values for each condition\n",
        "\n",
        "# Extract nodes for G_positive and G_negative\n",
        "positive_genes = set(G_positive.nodes)\n",
        "negative_genes = set(G_negative.nodes)\n",
        "\n",
        "# Filter RNA-seq data for genes in G_positive and G_negative\n",
        "positive_rna_seq = averaged_rna_seq_data[averaged_rna_seq_data['Gene'].isin(positive_genes)]\n",
        "negative_rna_seq = averaged_rna_seq_data[averaged_rna_seq_data['Gene'].isin(negative_genes)]\n",
        "\n",
        "# Create dictionaries for each graph and each condition\n",
        "expression_dicts_positive = {\n",
        "    condition: dict(zip(positive_rna_seq['Gene'], positive_rna_seq[condition]))\n",
        "    for condition in averaged_rna_seq_data.columns[1:]  # Skip 'gene' column\n",
        "}\n",
        "\n",
        "expression_dicts_negative = {\n",
        "    condition: dict(zip(negative_rna_seq['Gene'], negative_rna_seq[condition]))\n",
        "    for condition in averaged_rna_seq_data.columns[1:]  # Skip 'gene' column\n",
        "}\n",
        "\n",
        "# Assign expression values to nodes in G_positive for a specific condition (example: MCF7_2D_exp1)\n",
        "selected_condition = \"MCF7_2D_exp1\"  # Replace with the condition you want to use\n",
        "nx.set_node_attributes(G_positive, expression_dicts_positive[selected_condition], name='expression')\n",
        "nx.set_node_attributes(G_negative, expression_dicts_negative[selected_condition], name='expression')\n",
        "\n",
        "# Verify attributes are set correctly\n",
        "print(\"G_positive node attributes:\")\n",
        "for node, data in G_positive.nodes(data=True):\n",
        "    print(node, data)\n",
        "\n",
        "print(\"\\nG_negative node attributes:\")\n",
        "for node, data in G_negative.nodes(data=True):\n",
        "    print(node, data)\n"
      ],
      "metadata": {
        "id": "YTw4v3zt9nkP"
      },
      "execution_count": null,
      "outputs": []
    },
    {
      "cell_type": "code",
      "source": [
        "# --- Convert to PyGSP ---\n",
        "# Convert NetworkX graphs to PyGSP format\n",
        "adjacency_matrix_positive = to_scipy_sparse_array(G_positive, weight=\" Edge weight\")\n",
        "adjacency_matrix_negative = to_scipy_sparse_array(G_negative, weight=\"Edge weight\")\n",
        "\n",
        "gsp_graph_positive = pg.graphs.Graph(adjacency_matrix_positive)\n",
        "gsp_graph_negative = pg.graphs.Graph(adjacency_matrix_negative)\n",
        "\n",
        "# Extract RNA-seq expression as signal vectors for PyGSP\n",
        "signal_positive = np.array([data['expression'] for _, data in G_positive.nodes(data=True)])\n",
        "signal_negative = np.array([data['expression'] for _, data in G_negative.nodes(data=True)])\n",
        "\n",
        "# Ensure signals match graph sizes\n",
        "assert len(signal_positive) == gsp_graph_positive.N, \"Positive graph signal length mismatch!\"\n",
        "assert len(signal_negative) == gsp_graph_negative.N, \"Negative graph signal length mismatch!\"\n",
        "\n",
        "# Display signals\n",
        "print(\"\\nSignal (Positive Graph):\", signal_positive[:5])  # Display first 5 for brevity\n",
        "print(\"\\nSignal (Negative Graph):\", signal_negative[:5])  # Display first 5 for brevity"
      ],
      "metadata": {
        "id": "6NBhSl7hd0T3"
      },
      "execution_count": null,
      "outputs": []
    },
    {
      "cell_type": "markdown",
      "source": [
        "==========================================================================\n",
        "Steps to Continue\n",
        "\n",
        "--Compute Laplacians\n",
        "\n",
        "Calculate the Laplacian matrices for both graphs using PyGSP.\n",
        "\n",
        "\n",
        "--Analyze Signal Variation\n",
        "\n",
        "Measure the variation of RNA-seq signals on the graph using\n",
        "𝑆(𝑓)=𝑓𝑇𝐿𝑓\n",
        "S(f)=**fTLf**.\n",
        "\n",
        "--Optional: Visualize Signal Distribution\n",
        "\n",
        "Plot the RNA-seq signals or their variations.\n"
      ],
      "metadata": {
        "id": "J9ptCE8Se4Fk"
      }
    },
    {
      "cell_type": "markdown",
      "source": [
        "## 4 **Compute Laplacians**"
      ],
      "metadata": {
        "id": "cu14dzG_fVqe"
      }
    },
    {
      "cell_type": "code",
      "source": [
        "# Compute Laplacians for positive and negative graphs\n",
        "gsp_graph_positive.compute_laplacian(lap_type=\"combinatorial\")\n",
        "gsp_graph_negative.compute_laplacian(lap_type=\"combinatorial\")\n",
        "\n",
        "# Access Laplacian matrices\n",
        "laplacian_positive = gsp_graph_positive.L\n",
        "laplacian_negative = gsp_graph_negative.L\n",
        "\n",
        "print(\"\\nLaplacian Matrix (Positive Graph):\")\n",
        "print(laplacian_positive.toarray()[:5, :5])  # Display first 5x5 for brevity\n",
        "\n",
        "print(\"\\nLaplacian Matrix (Negative Graph):\")\n",
        "print(laplacian_negative.toarray()[:5, :5])  # Display first 5x5 for brevity\n"
      ],
      "metadata": {
        "id": "esMzeSORfFDN"
      },
      "execution_count": null,
      "outputs": []
    },
    {
      "cell_type": "markdown",
      "source": [
        "# **5. Analyze Signal Variation**"
      ],
      "metadata": {
        "id": "rg6NCjYxfhOK"
      }
    },
    {
      "cell_type": "code",
      "source": [
        "# Signal variation for positive and negative graphs\n",
        "signal_variation_positive = signal_positive.T @ laplacian_positive @ signal_positive\n",
        "signal_variation_negative = signal_negative.T @ laplacian_negative @ signal_negative\n",
        "\n",
        "print(f\"\\nSignal Variation (Positive Graph): {signal_variation_positive}\")\n",
        "print(f\"Signal Variation (Negative Graph): {signal_variation_negative}\")\n"
      ],
      "metadata": {
        "id": "jlsc_nAtfbjP"
      },
      "execution_count": null,
      "outputs": []
    },
    {
      "cell_type": "markdown",
      "source": [
        "# 6.**Optional: Visualize Signal Distribution**"
      ],
      "metadata": {
        "id": "YI1Phw32frG9"
      }
    },
    {
      "cell_type": "code",
      "source": [
        "import matplotlib.pyplot as plt\n",
        "\n",
        "# Plot RNA-seq signals for positive graph\n",
        "plt.figure(figsize=(10, 6))\n",
        "plt.hist(signal_positive, bins=30, alpha=0.7, label=\"Positive Graph\", color='blue')\n",
        "plt.hist(signal_negative, bins=30, alpha=0.7, label=\"Negative Graph\", color='orange')\n",
        "plt.xlabel(\"RNA-seq Expression Level\")\n",
        "plt.ylabel(\"Frequency\")\n",
        "plt.title(\"Distribution of RNA-seq Expression Levels\")\n",
        "plt.legend()\n",
        "plt.show()\n"
      ],
      "metadata": {
        "id": "jJNZps_yfqz_"
      },
      "execution_count": null,
      "outputs": []
    },
    {
      "cell_type": "markdown",
      "source": [
        "# Next Steps\n",
        "Clustering:\n",
        "Perform spectral clustering using the eigenvalues and eigenvectors of the Laplacians.\n",
        "\n",
        "Filtering:\n",
        "Apply graph filters to smooth or enhance RNA-seq signals on the graphs.\n",
        "\n",
        "Comparative Analysis:\n",
        "Compare the results from the positive and negative graphs to identify key genes or regulatory patterns."
      ],
      "metadata": {
        "id": "r7pJ8Qo7f_HR"
      }
    },
    {
      "cell_type": "markdown",
      "source": [
        "# **1. Clustering**\n",
        "We’ll now perform spectral clustering using the eigenvalues and eigenvectors of the Laplacian matrices for the positive and negative graphs. This helps group nodes (genes) into clusters based on their connectivity patterns and RNA-seq signal variations.\n",
        "\n",
        "Steps for Spectral Clustering:\n",
        "\n",
        "A) Compute Eigenvalues and Eigenvectors\n",
        "\n",
        "Use PyGSP to extract the Fourier basis (eigenvectors of the Laplacian) and corresponding eigenvalues.\n",
        "\n",
        "B) Cluster Nodes\n",
        "\n",
        "Use the eigenvectors corresponding to the smallest non-zero eigenvalues for clustering (spectral embedding).\n",
        "\n",
        "C) Visualize Clustering\n",
        "\n",
        "Optionally visualize clusters for insights.\n"
      ],
      "metadata": {
        "id": "geeIbGcDgRTh"
      }
    },
    {
      "cell_type": "code",
      "source": [
        "#Compute Eigenvalues and Eigenvectors\n",
        "\n",
        "# Compute Fourier basis (eigenvalues and eigenvectors) for both graphs\n",
        "gsp_graph_positive.compute_fourier_basis()\n",
        "gsp_graph_negative.compute_fourier_basis()\n",
        "\n",
        "eigvals_positive = gsp_graph_positive.e  # Eigenvalues\n",
        "eigvecs_positive = gsp_graph_positive.U  # Eigenvectors\n",
        "\n",
        "eigvals_negative = gsp_graph_negative.e  # Eigenvalues\n",
        "eigvecs_negative = gsp_graph_negative.U  # Eigenvectors\n",
        "\n",
        "# Display smallest eigenvalues (skip 0 for connected components)\n",
        "print(\"\\nEigenvalues (Positive Graph):\", eigvals_positive[:10])  # First 10 for brevity\n",
        "print(\"\\nEigenvalues (Negative Graph):\", eigvals_negative[:10])  # First 10 for brevity\n"
      ],
      "metadata": {
        "id": "wOIfDwSBgLKk"
      },
      "execution_count": null,
      "outputs": []
    },
    {
      "cell_type": "code",
      "source": [
        "#Perform Spectral Clustering\n",
        "#Use the eigenvectors associated with the smallest non-zero eigenvalues to cluster the nodes (genes).\n",
        "\n",
        "from sklearn.cluster import KMeans\n",
        "\n",
        "# Number of clusters\n",
        "num_clusters = 3\n",
        "\n",
        "# Use first few eigenvectors (excluding the first constant eigenvector)\n",
        "clusters_positive = KMeans(n_clusters=num_clusters).fit_predict(eigvecs_positive[:, 1:num_clusters+1])\n",
        "clusters_negative = KMeans(n_clusters=num_clusters).fit_predict(eigvecs_negative[:, 1:num_clusters+1])\n",
        "\n",
        "print(\"\\nClusters (Positive Graph):\", clusters_positive[:10])  # First 10 clusters for brevity\n",
        "print(\"\\nClusters (Negative Graph):\", clusters_negative[:10])  # First 10 clusters for brevity)\n"
      ],
      "metadata": {
        "id": "jq8WT-IjgwMh"
      },
      "execution_count": null,
      "outputs": []
    },
    {
      "cell_type": "code",
      "source": [
        "#Assign Clusters to Nodes\n",
        "#Assign the cluster labels to nodes in the NetworkX graph for further exploration.\n",
        "\n",
        "# Assign cluster labels as node attributes\n",
        "nx.set_node_attributes(G_positive, dict(zip(G_positive.nodes, clusters_positive)), \"cluster\")\n",
        "nx.set_node_attributes(G_negative, dict(zip(G_negative.nodes, clusters_negative)), \"cluster\")\n",
        "\n",
        "# Verify node clusters\n",
        "print(\"\\nG_positive Clusters:\")\n",
        "for node, data in list(G_positive.nodes(data=True))[:5]:  # First 5 for brevity\n",
        "    print(node, data)\n",
        "\n",
        "print(\"\\nG_negative Clusters:\")\n",
        "for node, data in list(G_negative.nodes(data=True))[:5]:  # First 5 for brevity\n",
        "    print(node, data)\n",
        "\n",
        "\n"
      ],
      "metadata": {
        "id": "lNMuAaSthCWr"
      },
      "execution_count": null,
      "outputs": []
    },
    {
      "cell_type": "code",
      "source": [
        "#Visualize Clustering Results\n",
        "#(Optional) You can visualize the clustering using a library like Matplotlib.\n",
        "\n",
        "import matplotlib.pyplot as plt\n",
        "import networkx as nx\n",
        "\n",
        "# Visualize positive graph clustering\n",
        "pos = nx.spring_layout(G_positive)  # Spring layout for visualization\n",
        "plt.figure(figsize=(12, 8))\n",
        "nx.draw_networkx_nodes(G_positive, pos, node_size=50, node_color=clusters_positive, cmap=plt.cm.Set3)\n",
        "nx.draw_networkx_edges(G_positive, pos, alpha=0.3)\n",
        "plt.title(\"Clustering of Positive Graph Nodes\")\n",
        "plt.show()\n",
        "\n",
        "# Visualize negative graph clustering\n",
        "pos = nx.spring_layout(G_negative)  # Spring layout for visualization\n",
        "plt.figure(figsize=(12, 8))\n",
        "nx.draw_networkx_nodes(G_negative, pos, node_size=50, node_color=clusters_negative, cmap=plt.cm.Set3)\n",
        "nx.draw_networkx_edges(G_negative, pos, alpha=0.3)\n",
        "plt.title(\"Clustering of Negative Graph Nodes\")\n",
        "plt.show()\n"
      ],
      "metadata": {
        "id": "l9QjDWZfhNJb"
      },
      "execution_count": null,
      "outputs": []
    },
    {
      "cell_type": "code",
      "source": [],
      "metadata": {
        "id": "hpQXaM9t7PPJ"
      },
      "execution_count": null,
      "outputs": []
    },
    {
      "cell_type": "code",
      "source": [
        "#Visualize Clustering Results\n",
        "#(Optional) You can visualize the clustering using a library like Matplotlib.\n",
        "\n",
        "import matplotlib.pyplot as plt\n",
        "import networkx as nx\n",
        "\n",
        "# Visualize positive graph clustering\n",
        "pos = nx.spring_layout(G_positive)  # Spring layout for visualization\n",
        "plt.figure(figsize=(12, 8))\n",
        "nx.draw_networkx_nodes(G_positive, pos, node_size=50, node_color=clusters_positive, cmap=plt.cm.Set3)\n",
        "nx.draw_networkx_edges(G_positive, pos, alpha=0.5)\n",
        "plt.title(\"Clustering of Positive Graph Nodes\")\n",
        "plt.show()\n",
        "\n",
        "# Visualize negative graph clustering\n",
        "pos = nx.spring_layout(G_negative)  # Spring layout for visualization\n",
        "plt.figure(figsize=(12, 8))\n",
        "nx.draw_networkx_nodes(G_negative, pos, node_size=50, node_color=clusters_negative, cmap=plt.cm.Set3)\n",
        "nx.draw_networkx_edges(G_negative, pos, alpha=0.5)\n",
        "plt.title(\"Clustering of Negative Graph Nodes\")\n",
        "plt.show()\n"
      ],
      "metadata": {
        "id": "ICcgEozc7Prk"
      },
      "execution_count": null,
      "outputs": []
    },
    {
      "cell_type": "markdown",
      "source": [
        "# Lets try to identify the positive graph with stronger interaction hub depicted with thicker edges"
      ],
      "metadata": {
        "id": "cSBXYfhk7PB1"
      }
    },
    {
      "cell_type": "markdown",
      "source": [
        "# 1. Identify the Hub Node\n",
        "# The hub node is likely the node with the highest degree or the strongest total edge weight. You can calculate these metrics:\n",
        "\n",
        "# Degree Centrality (Number of Connections)"
      ],
      "metadata": {
        "id": "13uZ2eHd8MYD"
      }
    },
    {
      "cell_type": "code",
      "source": [
        "# Get degree centrality for G_positive\n",
        "degree_centrality = nx.degree_centrality(G_positive)\n",
        "\n",
        "# Sort nodes by degree centrality\n",
        "sorted_degree = sorted(degree_centrality.items(), key=lambda x: x[1], reverse=True)\n",
        "\n",
        "# Display the top nodes\n",
        "print(\"Top Nodes by Degree Centrality (Positive Graph):\")\n",
        "for node, centrality in sorted_degree[:5]:  # Top 5 nodes\n",
        "    print(f\"Node: {node}, Degree Centrality: {centrality}\")\n"
      ],
      "metadata": {
        "id": "bfoWCBqv8Qyk"
      },
      "execution_count": null,
      "outputs": []
    },
    {
      "cell_type": "code",
      "source": [
        "# Compute strength (sum of edge weights) for each node\n",
        "strength = {node: sum(data[\"weight\"] for _, _, data in G_positive.edges(node, data=True)) for node in G_positive.nodes()}\n",
        "\n",
        "# Sort nodes by strength\n",
        "sorted_strength = sorted(strength.items(), key=lambda x: x[1], reverse=True)\n",
        "\n",
        "# Display the top nodes\n",
        "print(\"\\nTop Nodes by Strength (Edge Weights, Positive Graph):\")\n",
        "for node, weight in sorted_strength[:5]:  # Top 5 nodes\n",
        "    print(f\"Node: {node}, Strength (Sum of Weights): {weight}\")\n"
      ],
      "metadata": {
        "id": "mVynvQBz8IXw"
      },
      "execution_count": null,
      "outputs": []
    },
    {
      "cell_type": "markdown",
      "source": [
        "# **2. Identify Genes and TFs Connected to the Hub**\n",
        "# Once you identify the hub node, find all nodes connected to it and analyze their edge weights:"
      ],
      "metadata": {
        "id": "PERjc-ky8gvW"
      }
    },
    {
      "cell_type": "code",
      "source": [
        "# Get the top hub node (by strength or degree centrality)\n",
        "top_hub_node = sorted_strength[0][0]  # Replace with your preferred metric\n",
        "\n",
        "# Get neighbors (connected nodes) of the hub\n",
        "neighbors = G_positive[top_hub_node]\n",
        "\n",
        "print(f\"\\nNeighbors of Hub Node ({top_hub_node}):\")\n",
        "for neighbor, edge_data in neighbors.items():\n",
        "    print(f\"Connected Node: {neighbor}, Edge Weight: {edge_data['weight']}\")\n"
      ],
      "metadata": {
        "id": "QlqjErJN8lBG"
      },
      "execution_count": null,
      "outputs": []
    },
    {
      "cell_type": "code",
      "source": [
        "top_hub_node = sorted_degree[0][0]  # Use degree centrality to select the hub\n",
        "# Get neighbors (connected nodes) of the hub\n",
        "neighbors = G_positive[top_hub_node]\n",
        "\n",
        "print(f\"\\nNeighbors of Hub Node ({top_hub_node}):\")\n",
        "for neighbor, edge_data in neighbors.items():\n",
        "    print(f\"Connected Node: {neighbor}, Edge Weight: {edge_data['weight']}\")"
      ],
      "metadata": {
        "id": "Zlq6W-zhv_Ri"
      },
      "execution_count": null,
      "outputs": []
    },
    {
      "cell_type": "markdown",
      "source": [
        "# **3. Visualize the Hub and Its Connections**\n",
        "# You can highlight the hub and its neighbors in a graph visualization:"
      ],
      "metadata": {
        "id": "uK7wDxGB8teA"
      }
    },
    {
      "cell_type": "code",
      "source": [
        "import matplotlib.pyplot as plt\n",
        "\n",
        "# Get the subgraph for the hub and its neighbors\n",
        "hub_subgraph = G_positive.subgraph([top_hub_node] + list(neighbors.keys()))\n",
        "\n",
        "# Visualize the subgraph\n",
        "pos = nx.spring_layout(hub_subgraph)  # Layout for visualization\n",
        "plt.figure(figsize=(8, 6))\n",
        "nx.draw_networkx_nodes(hub_subgraph, pos, node_size=700, node_color=\"lightblue\")\n",
        "nx.draw_networkx_edges(hub_subgraph, pos, width=[d[\"weight\"] for (_, _, d) in hub_subgraph.edges(data=True)])\n",
        "nx.draw_networkx_labels(hub_subgraph, pos, font_size=10)\n",
        "plt.title(f\"Hub Node ({top_hub_node}) and Its Connections\")\n",
        "plt.show()\n"
      ],
      "metadata": {
        "id": "bx5YIe0G8wU1"
      },
      "execution_count": null,
      "outputs": []
    },
    {
      "cell_type": "markdown",
      "source": [
        "# **4. Export Hub Connections for Further Analysis**\n",
        "# If you want to analyze this data outside Python, export the hub’s connections to a file:"
      ],
      "metadata": {
        "id": "zsFq4Z3x9AwQ"
      }
    },
    {
      "cell_type": "code",
      "source": [
        "import pandas as pd\n",
        "\n",
        "# Create a DataFrame for the hub's connections\n",
        "hub_connections = pd.DataFrame({\n",
        "    \"TF\": [top_hub_node] * len(neighbors),\n",
        "    \"Gene\": list(neighbors.keys()),\n",
        "    \"Edge Weight\": [data[\"weight\"] for _, data in neighbors.items()]\n",
        "})\n",
        "\n",
        "# Save to CSV\n",
        "hub_connections.to_csv(\"hub_connections_positive.csv\", index=False)\n",
        "print(\"\\nHub connections exported to 'hub_connections_positive.csv'\")\n"
      ],
      "metadata": {
        "id": "lgA9BxeG9AZX"
      },
      "execution_count": null,
      "outputs": []
    }
  ]
}