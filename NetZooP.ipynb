{
  "nbformat": 4,
  "nbformat_minor": 0,
  "metadata": {
    "colab": {
      "provenance": [],
      "authorship_tag": "ABX9TyNRONpmUO7XC5d5eCvySd0m",
      "include_colab_link": true
    },
    "kernelspec": {
      "name": "python3",
      "display_name": "Python 3"
    },
    "language_info": {
      "name": "python"
    }
  },
  "cells": [
    {
      "cell_type": "markdown",
      "metadata": {
        "id": "view-in-github",
        "colab_type": "text"
      },
      "source": [
        "<a href=\"https://colab.research.google.com/github/Guliko24/NetZoo_network/blob/main/NetZooP.ipynb\" target=\"_parent\"><img src=\"https://colab.research.google.com/assets/colab-badge.svg\" alt=\"Open In Colab\"/></a>"
      ]
    },
    {
      "cell_type": "code",
      "execution_count": null,
      "metadata": {
        "colab": {
          "base_uri": "https://localhost:8080/"
        },
        "id": "MNaTmCbZNZVz",
        "outputId": "7d7af6b4-fa38-4d50-c38b-a9907794f759"
      },
      "outputs": [
        {
          "output_type": "stream",
          "name": "stdout",
          "text": [
            "fatal: destination path 'netZooM' already exists and is not an empty directory.\n",
            "/content/netZooM/netZooM\n"
          ]
        }
      ],
      "source": [
        "!git clone https://github.com/netZoo/netZooM.git\n",
        "%cd netZooM"
      ]
    },
    {
      "cell_type": "code",
      "source": [
        "!git tag -l"
      ],
      "metadata": {
        "colab": {
          "base_uri": "https://localhost:8080/"
        },
        "id": "ITOIQHSUR4qP",
        "outputId": "0986ff16-d3ce-4173-cdad-49a17b55c505"
      },
      "execution_count": null,
      "outputs": [
        {
          "output_type": "stream",
          "name": "stdout",
          "text": [
            "0.1\n",
            "0.2\n",
            "0.3\n",
            "0.4\n",
            "0.4.1\n",
            "0.4.2\n",
            "0.4.3\n",
            "0.5\n",
            "0.5.1\n",
            "0.5.2\n",
            "0.5.3\n",
            "0.5.4\n",
            "0.5.5\n",
            "0.5.5.1\n",
            "0.5.6\n"
          ]
        }
      ]
    },
    {
      "cell_type": "code",
      "source": [
        "!git checkout tags/0.1 -b v0.1"
      ],
      "metadata": {
        "colab": {
          "base_uri": "https://localhost:8080/"
        },
        "id": "5s6CDAwhR-9D",
        "outputId": "7dd65997-46f3-4d90-a491-4ac2d69a8cfa"
      },
      "execution_count": null,
      "outputs": [
        {
          "output_type": "stream",
          "name": "stdout",
          "text": [
            "fatal: A branch named 'v0.1' already exists.\n"
          ]
        }
      ]
    },
    {
      "cell_type": "code",
      "source": [
        "!git checkout master"
      ],
      "metadata": {
        "colab": {
          "base_uri": "https://localhost:8080/"
        },
        "id": "ymnmHgT_Sx5W",
        "outputId": "63b93de1-e930-4420-81d1-cf401e0f14f6"
      },
      "execution_count": null,
      "outputs": [
        {
          "output_type": "stream",
          "name": "stdout",
          "text": [
            "Already on 'master'\n",
            "Your branch is up to date with 'origin/master'.\n"
          ]
        }
      ]
    },
    {
      "cell_type": "code",
      "source": [
        "!mkdir MCF7\n",
        "!cd MCF7\n"
      ],
      "metadata": {
        "id": "Kj7kaux0S6nG"
      },
      "execution_count": null,
      "outputs": []
    },
    {
      "cell_type": "code",
      "source": [
        "!url='https://grand.networkmedicine.org/api/v1/tissueapi/';\n",
        "!cells=webread(url);\n",
        "!cells.results(11)"
      ],
      "metadata": {
        "colab": {
          "base_uri": "https://localhost:8080/"
        },
        "id": "Jnrmzm3ZT0Fv",
        "outputId": "db1e76b6-7269-4f76-845c-5ab72998dcd8"
      },
      "execution_count": null,
      "outputs": [
        {
          "output_type": "stream",
          "name": "stdout",
          "text": [
            "/bin/bash: -c: line 1: syntax error near unexpected token `('\n",
            "/bin/bash: -c: line 1: `cells=webread(url);'\n",
            "/bin/bash: -c: line 1: syntax error near unexpected token `11'\n",
            "/bin/bash: -c: line 1: `cells.results(11)'\n"
          ]
        }
      ]
    },
    {
      "cell_type": "code",
      "source": [
        "import requests\n",
        "\n",
        "# Define the URL for the API\n",
        "url = 'https://grand.networkmedicine.org/api/v1/tissueapi/'\n",
        "\n",
        "# Fetch the data\n",
        "response = requests.get(url)\n",
        "\n",
        "# Check if the request was successful\n",
        "if response.status_code == 200:\n",
        "    data = response.json()  # Parse the JSON response\n",
        "    # Access the 11th result\n",
        "    print(data['results'][10])  # Python uses zero-based indexing\n",
        "else:\n",
        "    print(f\"Failed to fetch data: {response.status_code}\")\n"
      ],
      "metadata": {
        "colab": {
          "base_uri": "https://localhost:8080/"
        },
        "id": "wIz5bLDJVVxC",
        "outputId": "437a8919-bd34-4bb8-bd36-853d2e2f661a"
      },
      "execution_count": null,
      "outputs": [
        {
          "output_type": "stream",
          "name": "stdout",
          "text": [
            "{'tissue': 'Lymphoblastoid cell line', 'tissueLink': 'https://gtexportal.org/home/tissue/Lymphoblastoid_Cell_Line', 'tool': 'PANDA', 'netzoo': 'netZooM', 'netzooLink': 'https://github.com/netZoo/netZooM/releases', 'netzooRel': '0.1', 'network': 'https://granddb.s3.amazonaws.com/tissues/networks/Lymphoblastoid_Cell_Line.csv', 'ppi': 'https://granddb.s3.amazonaws.com/tissues/ppi/tissues_ppi.txt', 'ppiLink': 'https://string-db.org/cgi/access?sessionId=byCOpSLj1JSS&footer_active_subpage=archive', 'motif': 'https://granddb.s3.amazonaws.com/tissues/motif/tissues_motif.txt', 'expression': 'https://granddb.s3.amazonaws.com/tissues/expression/Lymphoblastoid_Cell_Line.csv', 'expLink': 'https://gtexportal.org/home/tissue/Lymphoblastoid_Cell_Line', 'tfs': 644, 'genes': 30243, 'refs': 'https://www.cell.com/cell-reports/fulltext/S2211-1247(17)31418-3?_returnURL=https%3A%2F%2Flinkinghub.elsevier.com%2Fretrieve%2Fpii%2FS2211124717314183%3Fshowall%3Dtrue', 'refs2': 'https://zenodo.org/record/838734', 'samples': 132}\n"
          ]
        }
      ]
    },
    {
      "cell_type": "code",
      "source": [
        "#since I need a file related to MCF7 cell line, lets explore the JSON structure\n",
        "# Display the JSON structure\n",
        "for i, entry in enumerate(data['results']):\n",
        "        print(f\"Entry {i + 1}: {entry}\")  # Inspect each entry\n",
        "else:\n",
        "    print(f\"Error: Unable to fetch data (status code {response.status_code})\")"
      ],
      "metadata": {
        "colab": {
          "base_uri": "https://localhost:8080/"
        },
        "id": "tKclXKhUWFLA",
        "outputId": "99a72cd4-c0f6-4ee1-f536-75eb871dc1f6"
      },
      "execution_count": null,
      "outputs": [
        {
          "output_type": "stream",
          "name": "stdout",
          "text": [
            "Entry 1: {'tissue': 'Adipose subcutaneous', 'tissueLink': 'https://gtexportal.org/home/tissue/Adipose_Subcutaneous', 'tool': 'PANDA', 'netzoo': 'netZooM', 'netzooLink': 'https://github.com/netZoo/netZooM/releases', 'netzooRel': '0.1', 'network': 'https://granddb.s3.amazonaws.com/tissues/networks/Adipose_Subcutaneous.csv', 'ppi': 'https://granddb.s3.amazonaws.com/tissues/ppi/tissues_ppi.txt', 'ppiLink': 'https://string-db.org/cgi/access?sessionId=byCOpSLj1JSS&footer_active_subpage=archive', 'motif': 'https://granddb.s3.amazonaws.com/tissues/motif/tissues_motif.txt', 'expression': 'https://granddb.s3.amazonaws.com/tissues/expression/Adipose_Subcutaneous.csv', 'expLink': 'https://gtexportal.org/home/tissue/Adipose_Subcutaneous', 'tfs': 644, 'genes': 30243, 'refs': 'https://www.cell.com/cell-reports/fulltext/S2211-1247(17)31418-3?_returnURL=https%3A%2F%2Flinkinghub.elsevier.com%2Fretrieve%2Fpii%2FS2211124717314183%3Fshowall%3Dtrue', 'refs2': 'https://zenodo.org/record/838734', 'samples': 380}\n",
            "Entry 2: {'tissue': 'Adipose visceral', 'tissueLink': 'https://gtexportal.org/home/tissue/Adipose_Visceral', 'tool': 'PANDA', 'netzoo': 'netZooM', 'netzooLink': 'https://github.com/netZoo/netZooM/releases', 'netzooRel': '0.1', 'network': 'https://granddb.s3.amazonaws.com/tissues/networks/Adipose_Visceral.csv', 'ppi': 'https://granddb.s3.amazonaws.com/tissues/ppi/tissues_ppi.txt', 'ppiLink': 'https://string-db.org/cgi/access?sessionId=byCOpSLj1JSS&footer_active_subpage=archive', 'motif': 'https://granddb.s3.amazonaws.com/tissues/motif/tissues_motif.txt', 'expression': 'https://granddb.s3.amazonaws.com/tissues/expression/Adipose_Visceral.csv', 'expLink': 'https://gtexportal.org/home/tissue/Adipose_Visceral', 'tfs': 644, 'genes': 30243, 'refs': 'https://www.cell.com/cell-reports/fulltext/S2211-1247(17)31418-3?_returnURL=https%3A%2F%2Flinkinghub.elsevier.com%2Fretrieve%2Fpii%2FS2211124717314183%3Fshowall%3Dtrue', 'refs2': 'https://zenodo.org/record/838734', 'samples': 234}\n",
            "Entry 3: {'tissue': 'Adrenal gland', 'tissueLink': 'https://gtexportal.org/home/tissue/Adrenal_Gland', 'tool': 'PANDA', 'netzoo': 'netZooM', 'netzooLink': 'https://github.com/netZoo/netZooM/releases', 'netzooRel': '0.1', 'network': 'https://granddb.s3.amazonaws.com/tissues/networks/Adrenal_Gland.csv', 'ppi': 'https://granddb.s3.amazonaws.com/tissues/ppi/tissues_ppi.txt', 'ppiLink': 'https://string-db.org/cgi/access?sessionId=byCOpSLj1JSS&footer_active_subpage=archive', 'motif': 'https://granddb.s3.amazonaws.com/tissues/motif/tissues_motif.txt', 'expression': 'https://granddb.s3.amazonaws.com/tissues/expression/Adrenal_Gland.csv', 'expLink': 'https://gtexportal.org/home/tissue/Adrenal_Gland', 'tfs': 644, 'genes': 30243, 'refs': 'https://www.cell.com/cell-reports/fulltext/S2211-1247(17)31418-3?_returnURL=https%3A%2F%2Flinkinghub.elsevier.com%2Fretrieve%2Fpii%2FS2211124717314183%3Fshowall%3Dtrue', 'refs2': 'https://zenodo.org/record/838734', 'samples': 159}\n",
            "Entry 4: {'tissue': 'Artery aorta', 'tissueLink': 'https://gtexportal.org/home/tissue/Artery_Aorta', 'tool': 'PANDA', 'netzoo': 'netZooM', 'netzooLink': 'https://github.com/netZoo/netZooM/releases', 'netzooRel': '0.1', 'network': 'https://granddb.s3.amazonaws.com/tissues/networks/Artery_Aorta.csv', 'ppi': 'https://granddb.s3.amazonaws.com/tissues/ppi/tissues_ppi.txt', 'ppiLink': 'https://string-db.org/cgi/access?sessionId=byCOpSLj1JSS&footer_active_subpage=archive', 'motif': 'https://granddb.s3.amazonaws.com/tissues/motif/tissues_motif.txt', 'expression': 'https://granddb.s3.amazonaws.com/tissues/expression/Artery_Aorta.csv', 'expLink': 'https://gtexportal.org/home/tissue/Artery_Aorta', 'tfs': 644, 'genes': 30243, 'refs': 'https://www.cell.com/cell-reports/fulltext/S2211-1247(17)31418-3?_returnURL=https%3A%2F%2Flinkinghub.elsevier.com%2Fretrieve%2Fpii%2FS2211124717314183%3Fshowall%3Dtrue', 'refs2': 'https://zenodo.org/record/838734', 'samples': 247}\n",
            "Entry 5: {'tissue': 'Artery coronary', 'tissueLink': 'https://gtexportal.org/home/tissue/Artery_Coronary', 'tool': 'PANDA', 'netzoo': 'netZooM', 'netzooLink': 'https://github.com/netZoo/netZooM/releases', 'netzooRel': '0.1', 'network': 'https://granddb.s3.amazonaws.com/tissues/networks/Artery_Coronary.csv', 'ppi': 'https://granddb.s3.amazonaws.com/tissues/ppi/tissues_ppi.txt', 'ppiLink': 'https://string-db.org/cgi/access?sessionId=byCOpSLj1JSS&footer_active_subpage=archive', 'motif': 'https://granddb.s3.amazonaws.com/tissues/motif/tissues_motif.txt', 'expression': 'https://granddb.s3.amazonaws.com/tissues/expression/Artery_Coronary.csv', 'expLink': 'https://gtexportal.org/home/tissue/Artery_Coronary', 'tfs': 644, 'genes': 30243, 'refs': 'https://www.cell.com/cell-reports/fulltext/S2211-1247(17)31418-3?_returnURL=https%3A%2F%2Flinkinghub.elsevier.com%2Fretrieve%2Fpii%2FS2211124717314183%3Fshowall%3Dtrue', 'refs2': 'https://zenodo.org/record/838734', 'samples': 140}\n",
            "Entry 6: {'tissue': 'Artery tibial', 'tissueLink': 'https://gtexportal.org/home/tissue/Artery_Tibial', 'tool': 'PANDA', 'netzoo': 'netZooM', 'netzooLink': 'https://github.com/netZoo/netZooM/releases', 'netzooRel': '0.1', 'network': 'https://granddb.s3.amazonaws.com/tissues/networks/Artery_Tibial.csv', 'ppi': 'https://granddb.s3.amazonaws.com/tissues/ppi/tissues_ppi.txt', 'ppiLink': 'https://string-db.org/cgi/access?sessionId=byCOpSLj1JSS&footer_active_subpage=archive', 'motif': 'https://granddb.s3.amazonaws.com/tissues/motif/tissues_motif.txt', 'expression': 'https://granddb.s3.amazonaws.com/tissues/expression/Artery_Tibial.csv', 'expLink': 'https://gtexportal.org/home/tissue/Artery_Tibial', 'tfs': 644, 'genes': 30243, 'refs': 'https://www.cell.com/cell-reports/fulltext/S2211-1247(17)31418-3?_returnURL=https%3A%2F%2Flinkinghub.elsevier.com%2Fretrieve%2Fpii%2FS2211124717314183%3Fshowall%3Dtrue', 'refs2': 'https://zenodo.org/record/838734', 'samples': 357}\n",
            "Entry 7: {'tissue': 'Brain other', 'tissueLink': 'https://gtexportal.org/home/tissue/Brain_Other', 'tool': 'PANDA', 'netzoo': 'netZooM', 'netzooLink': 'https://github.com/netZoo/netZooM/releases', 'netzooRel': '0.1', 'network': 'https://granddb.s3.amazonaws.com/tissues/networks/Brain_Other.csv', 'ppi': 'https://granddb.s3.amazonaws.com/tissues/ppi/tissues_ppi.txt', 'ppiLink': 'https://string-db.org/cgi/access?sessionId=byCOpSLj1JSS&footer_active_subpage=archive', 'motif': 'https://granddb.s3.amazonaws.com/tissues/motif/tissues_motif.txt', 'expression': 'https://granddb.s3.amazonaws.com/tissues/expression/Brain_Other.csv', 'expLink': 'https://gtexportal.org/home/tissue/Brain_Other', 'tfs': 644, 'genes': 30243, 'refs': 'https://www.cell.com/cell-reports/fulltext/S2211-1247(17)31418-3?_returnURL=https%3A%2F%2Flinkinghub.elsevier.com%2Fretrieve%2Fpii%2FS2211124717314183%3Fshowall%3Dtrue', 'refs2': 'https://zenodo.org/record/838734', 'samples': 779}\n",
            "Entry 8: {'tissue': 'Brain cerebellum', 'tissueLink': 'https://gtexportal.org/home/tissue/Brain_Cerebellum', 'tool': 'PANDA', 'netzoo': 'netZooM', 'netzooLink': 'https://github.com/netZoo/netZooM/releases', 'netzooRel': '0.1', 'network': 'https://granddb.s3.amazonaws.com/tissues/networks/Brain_Cerebellum.csv', 'ppi': 'https://granddb.s3.amazonaws.com/tissues/ppi/tissues_ppi.txt', 'ppiLink': 'https://string-db.org/cgi/access?sessionId=byCOpSLj1JSS&footer_active_subpage=archive', 'motif': 'https://granddb.s3.amazonaws.com/tissues/motif/tissues_motif.txt', 'expression': 'https://granddb.s3.amazonaws.com/tissues/expression/Brain_Cerebellum.csv', 'expLink': 'https://gtexportal.org/home/tissue/Brain_Cerebellum', 'tfs': 644, 'genes': 30243, 'refs': 'https://www.cell.com/cell-reports/fulltext/S2211-1247(17)31418-3?_returnURL=https%3A%2F%2Flinkinghub.elsevier.com%2Fretrieve%2Fpii%2FS2211124717314183%3Fshowall%3Dtrue', 'refs2': 'https://zenodo.org/record/838734', 'samples': 254}\n",
            "Entry 9: {'tissue': 'Brain basal ganglia', 'tissueLink': 'https://gtexportal.org/home/tissue/Brain_Basal_Ganglia', 'tool': 'PANDA', 'netzoo': 'netZooM', 'netzooLink': 'https://github.com/netZoo/netZooM/releases', 'netzooRel': '0.1', 'network': 'https://granddb.s3.amazonaws.com/tissues/networks/Brain_Basal_Ganglia.csv', 'ppi': 'https://granddb.s3.amazonaws.com/tissues/ppi/tissues_ppi.txt', 'ppiLink': 'https://string-db.org/cgi/access?sessionId=byCOpSLj1JSS&footer_active_subpage=archive', 'motif': 'https://granddb.s3.amazonaws.com/tissues/motif/tissues_motif.txt', 'expression': 'https://granddb.s3.amazonaws.com/tissues/expression/Brain_Basal_Ganglia.csv', 'expLink': 'https://gtexportal.org/home/tissue/Brain_Basal_Ganglia', 'tfs': 644, 'genes': 30243, 'refs': 'https://www.cell.com/cell-reports/fulltext/S2211-1247(17)31418-3?_returnURL=https%3A%2F%2Flinkinghub.elsevier.com%2Fretrieve%2Fpii%2FS2211124717314183%3Fshowall%3Dtrue', 'refs2': 'https://zenodo.org/record/838734', 'samples': 360}\n",
            "Entry 10: {'tissue': 'Breast', 'tissueLink': 'https://gtexportal.org/home/tissue/Breast', 'tool': 'PANDA', 'netzoo': 'netZooM', 'netzooLink': 'https://github.com/netZoo/netZooM/releases', 'netzooRel': '0.1', 'network': 'https://granddb.s3.amazonaws.com/tissues/networks/Breast.csv', 'ppi': 'https://granddb.s3.amazonaws.com/tissues/ppi/tissues_ppi.txt', 'ppiLink': 'https://string-db.org/cgi/access?sessionId=byCOpSLj1JSS&footer_active_subpage=archive', 'motif': 'https://granddb.s3.amazonaws.com/tissues/motif/tissues_motif.txt', 'expression': 'https://granddb.s3.amazonaws.com/tissues/expression/Breast.csv', 'expLink': 'https://gtexportal.org/home/tissue/Breast', 'tfs': 644, 'genes': 30243, 'refs': 'https://www.cell.com/cell-reports/fulltext/S2211-1247(17)31418-3?_returnURL=https%3A%2F%2Flinkinghub.elsevier.com%2Fretrieve%2Fpii%2FS2211124717314183%3Fshowall%3Dtrue', 'refs2': 'https://zenodo.org/record/838734', 'samples': 217}\n",
            "Entry 11: {'tissue': 'Lymphoblastoid cell line', 'tissueLink': 'https://gtexportal.org/home/tissue/Lymphoblastoid_Cell_Line', 'tool': 'PANDA', 'netzoo': 'netZooM', 'netzooLink': 'https://github.com/netZoo/netZooM/releases', 'netzooRel': '0.1', 'network': 'https://granddb.s3.amazonaws.com/tissues/networks/Lymphoblastoid_Cell_Line.csv', 'ppi': 'https://granddb.s3.amazonaws.com/tissues/ppi/tissues_ppi.txt', 'ppiLink': 'https://string-db.org/cgi/access?sessionId=byCOpSLj1JSS&footer_active_subpage=archive', 'motif': 'https://granddb.s3.amazonaws.com/tissues/motif/tissues_motif.txt', 'expression': 'https://granddb.s3.amazonaws.com/tissues/expression/Lymphoblastoid_Cell_Line.csv', 'expLink': 'https://gtexportal.org/home/tissue/Lymphoblastoid_Cell_Line', 'tfs': 644, 'genes': 30243, 'refs': 'https://www.cell.com/cell-reports/fulltext/S2211-1247(17)31418-3?_returnURL=https%3A%2F%2Flinkinghub.elsevier.com%2Fretrieve%2Fpii%2FS2211124717314183%3Fshowall%3Dtrue', 'refs2': 'https://zenodo.org/record/838734', 'samples': 132}\n",
            "Entry 12: {'tissue': 'Fibroblast cell line', 'tissueLink': 'https://gtexportal.org/home/tissue/Fibroblast_Cell_Line', 'tool': 'PANDA', 'netzoo': 'netZooM', 'netzooLink': 'https://github.com/netZoo/netZooM/releases', 'netzooRel': '0.1', 'network': 'https://granddb.s3.amazonaws.com/tissues/networks/Fibroblast_Cell_Line.csv', 'ppi': 'https://granddb.s3.amazonaws.com/tissues/ppi/tissues_ppi.txt', 'ppiLink': 'https://string-db.org/cgi/access?sessionId=byCOpSLj1JSS&footer_active_subpage=archive', 'motif': 'https://granddb.s3.amazonaws.com/tissues/motif/tissues_motif.txt', 'expression': 'https://granddb.s3.amazonaws.com/tissues/expression/Fibroblast_Cell_Line.csv', 'expLink': 'https://gtexportal.org/home/tissue/Fibroblast_Cell_Line', 'tfs': 644, 'genes': 30243, 'refs': 'https://www.cell.com/cell-reports/fulltext/S2211-1247(17)31418-3?_returnURL=https%3A%2F%2Flinkinghub.elsevier.com%2Fretrieve%2Fpii%2FS2211124717314183%3Fshowall%3Dtrue', 'refs2': 'https://zenodo.org/record/838734', 'samples': 305}\n",
            "Entry 13: {'tissue': 'Colon sigmoid', 'tissueLink': 'https://gtexportal.org/home/tissue/Colon_Sigmoid', 'tool': 'PANDA', 'netzoo': 'netZooM', 'netzooLink': 'https://github.com/netZoo/netZooM/releases', 'netzooRel': '0.1', 'network': 'https://granddb.s3.amazonaws.com/tissues/networks/Colon_Sigmoid.csv', 'ppi': 'https://granddb.s3.amazonaws.com/tissues/ppi/tissues_ppi.txt', 'ppiLink': 'https://string-db.org/cgi/access?sessionId=byCOpSLj1JSS&footer_active_subpage=archive', 'motif': 'https://granddb.s3.amazonaws.com/tissues/motif/tissues_motif.txt', 'expression': 'https://granddb.s3.amazonaws.com/tissues/expression/Colon_Sigmoid.csv', 'expLink': 'https://gtexportal.org/home/tissue/Colon_Sigmoid', 'tfs': 644, 'genes': 30243, 'refs': 'https://www.cell.com/cell-reports/fulltext/S2211-1247(17)31418-3?_returnURL=https%3A%2F%2Flinkinghub.elsevier.com%2Fretrieve%2Fpii%2FS2211124717314183%3Fshowall%3Dtrue', 'refs2': 'https://zenodo.org/record/838734', 'samples': 173}\n",
            "Entry 14: {'tissue': 'Colon transverse', 'tissueLink': 'https://gtexportal.org/home/tissue/Colon_Transverse', 'tool': 'PANDA', 'netzoo': 'netZooM', 'netzooLink': 'https://github.com/netZoo/netZooM/releases', 'netzooRel': '0.1', 'network': 'https://granddb.s3.amazonaws.com/tissues/networks/Colon_Transverse.csv', 'ppi': 'https://granddb.s3.amazonaws.com/tissues/ppi/tissues_ppi.txt', 'ppiLink': 'https://string-db.org/cgi/access?sessionId=byCOpSLj1JSS&footer_active_subpage=archive', 'motif': 'https://granddb.s3.amazonaws.com/tissues/motif/tissues_motif.txt', 'expression': 'https://granddb.s3.amazonaws.com/tissues/expression/Colon_Transverse.csv', 'expLink': 'https://gtexportal.org/home/tissue/Colon_Transverse', 'tfs': 644, 'genes': 30243, 'refs': 'https://www.cell.com/cell-reports/fulltext/S2211-1247(17)31418-3?_returnURL=https%3A%2F%2Flinkinghub.elsevier.com%2Fretrieve%2Fpii%2FS2211124717314183%3Fshowall%3Dtrue', 'refs2': 'https://zenodo.org/record/838734', 'samples': 203}\n",
            "Entry 15: {'tissue': 'Gastroesophageal junction', 'tissueLink': 'https://gtexportal.org/home/tissue/Gastroesophageal_Junction', 'tool': 'PANDA', 'netzoo': 'netZooM', 'netzooLink': 'https://github.com/netZoo/netZooM/releases', 'netzooRel': '0.1', 'network': 'https://granddb.s3.amazonaws.com/tissues/networks/Gastroesophageal_Junction.csv', 'ppi': 'https://granddb.s3.amazonaws.com/tissues/ppi/tissues_ppi.txt', 'ppiLink': 'https://string-db.org/cgi/access?sessionId=byCOpSLj1JSS&footer_active_subpage=archive', 'motif': 'https://granddb.s3.amazonaws.com/tissues/motif/tissues_motif.txt', 'expression': 'https://granddb.s3.amazonaws.com/tissues/expression/Gastroesophageal_Junction.csv', 'expLink': 'https://gtexportal.org/home/tissue/Gastroesophageal_Junction', 'tfs': 644, 'genes': 30243, 'refs': 'https://www.cell.com/cell-reports/fulltext/S2211-1247(17)31418-3?_returnURL=https%3A%2F%2Flinkinghub.elsevier.com%2Fretrieve%2Fpii%2FS2211124717314183%3Fshowall%3Dtrue', 'refs2': 'https://zenodo.org/record/838734', 'samples': 176}\n",
            "Entry 16: {'tissue': 'Esophagus mucosa', 'tissueLink': 'https://gtexportal.org/home/tissue/Esophagus_Mucosa', 'tool': 'PANDA', 'netzoo': 'netZooM', 'netzooLink': 'https://github.com/netZoo/netZooM/releases', 'netzooRel': '0.1', 'network': 'https://granddb.s3.amazonaws.com/tissues/networks/Esophagus_Mucosa.csv', 'ppi': 'https://granddb.s3.amazonaws.com/tissues/ppi/tissues_ppi.txt', 'ppiLink': 'https://string-db.org/cgi/access?sessionId=byCOpSLj1JSS&footer_active_subpage=archive', 'motif': 'https://granddb.s3.amazonaws.com/tissues/motif/tissues_motif.txt', 'expression': 'https://granddb.s3.amazonaws.com/tissues/expression/Esophagus_Mucosa.csv', 'expLink': 'https://gtexportal.org/home/tissue/Esophagus_Mucosa', 'tfs': 644, 'genes': 30243, 'refs': 'https://www.cell.com/cell-reports/fulltext/S2211-1247(17)31418-3?_returnURL=https%3A%2F%2Flinkinghub.elsevier.com%2Fretrieve%2Fpii%2FS2211124717314183%3Fshowall%3Dtrue', 'refs2': 'https://zenodo.org/record/838734', 'samples': 330}\n",
            "Entry 17: {'tissue': 'Esophagus muscularis', 'tissueLink': 'https://gtexportal.org/home/tissue/Esophagus_Muscularis', 'tool': 'PANDA', 'netzoo': 'netZooM', 'netzooLink': 'https://github.com/netZoo/netZooM/releases', 'netzooRel': '0.1', 'network': 'https://granddb.s3.amazonaws.com/tissues/networks/Esophagus_Muscularis.csv', 'ppi': 'https://granddb.s3.amazonaws.com/tissues/ppi/tissues_ppi.txt', 'ppiLink': 'https://string-db.org/cgi/access?sessionId=byCOpSLj1JSS&footer_active_subpage=archive', 'motif': 'https://granddb.s3.amazonaws.com/tissues/motif/tissues_motif.txt', 'expression': 'https://granddb.s3.amazonaws.com/tissues/expression/Esophagus_Muscularis.csv', 'expLink': 'https://gtexportal.org/home/tissue/Esophagus_Muscularis', 'tfs': 644, 'genes': 30243, 'refs': 'https://www.cell.com/cell-reports/fulltext/S2211-1247(17)31418-3?_returnURL=https%3A%2F%2Flinkinghub.elsevier.com%2Fretrieve%2Fpii%2FS2211124717314183%3Fshowall%3Dtrue', 'refs2': 'https://zenodo.org/record/838734', 'samples': 283}\n",
            "Entry 18: {'tissue': 'Heart atrial appendage', 'tissueLink': 'https://gtexportal.org/home/tissue/Heart_Atrial_Appendage', 'tool': 'PANDA', 'netzoo': 'netZooM', 'netzooLink': 'https://github.com/netZoo/netZooM/releases', 'netzooRel': '0.1', 'network': 'https://granddb.s3.amazonaws.com/tissues/networks/Heart_Atrial_Appendage.csv', 'ppi': 'https://granddb.s3.amazonaws.com/tissues/ppi/tissues_ppi.txt', 'ppiLink': 'https://string-db.org/cgi/access?sessionId=byCOpSLj1JSS&footer_active_subpage=archive', 'motif': 'https://granddb.s3.amazonaws.com/tissues/motif/tissues_motif.txt', 'expression': 'https://granddb.s3.amazonaws.com/tissues/expression/Heart_Atrial_Appendage.csv', 'expLink': 'https://gtexportal.org/home/tissue/Heart_Atrial_Appendage', 'tfs': 644, 'genes': 30243, 'refs': 'https://www.cell.com/cell-reports/fulltext/S2211-1247(17)31418-3?_returnURL=https%3A%2F%2Flinkinghub.elsevier.com%2Fretrieve%2Fpii%2FS2211124717314183%3Fshowall%3Dtrue', 'refs2': 'https://zenodo.org/record/838734', 'samples': 217}\n",
            "Entry 19: {'tissue': 'Heart left ventricle', 'tissueLink': 'https://gtexportal.org/home/tissue/Heart_Left_Ventricle', 'tool': 'PANDA', 'netzoo': 'netZooM', 'netzooLink': 'https://github.com/netZoo/netZooM/releases', 'netzooRel': '0.1', 'network': 'https://granddb.s3.amazonaws.com/tissues/networks/Heart_Left_Ventricle.csv', 'ppi': 'https://granddb.s3.amazonaws.com/tissues/ppi/tissues_ppi.txt', 'ppiLink': 'https://string-db.org/cgi/access?sessionId=byCOpSLj1JSS&footer_active_subpage=archive', 'motif': 'https://granddb.s3.amazonaws.com/tissues/motif/tissues_motif.txt', 'expression': 'https://granddb.s3.amazonaws.com/tissues/expression/Heart_Left_Ventricle.csv', 'expLink': 'https://gtexportal.org/home/tissue/Heart_Left_Ventricle', 'tfs': 644, 'genes': 30243, 'refs': 'https://www.cell.com/cell-reports/fulltext/S2211-1247(17)31418-3?_returnURL=https%3A%2F%2Flinkinghub.elsevier.com%2Fretrieve%2Fpii%2FS2211124717314183%3Fshowall%3Dtrue', 'refs2': 'https://zenodo.org/record/838734', 'samples': 267}\n",
            "Entry 20: {'tissue': 'Kidney cortex', 'tissueLink': 'https://gtexportal.org/home/tissue/Kidney_Cortex', 'tool': 'PANDA', 'netzoo': 'netZooM', 'netzooLink': 'https://github.com/netZoo/netZooM/releases', 'netzooRel': '0.1', 'network': 'https://granddb.s3.amazonaws.com/tissues/networks/Kidney_Cortex.csv', 'ppi': 'https://granddb.s3.amazonaws.com/tissues/ppi/tissues_ppi.txt', 'ppiLink': 'https://string-db.org/cgi/access?sessionId=byCOpSLj1JSS&footer_active_subpage=archive', 'motif': 'https://granddb.s3.amazonaws.com/tissues/motif/tissues_motif.txt', 'expression': 'https://granddb.s3.amazonaws.com/tissues/expression/Kidney_Cortex.csv', 'expLink': 'https://gtexportal.org/home/tissue/Kidney_Cortex', 'tfs': 644, 'genes': 30243, 'refs': 'https://www.cell.com/cell-reports/fulltext/S2211-1247(17)31418-3?_returnURL=https%3A%2F%2Flinkinghub.elsevier.com%2Fretrieve%2Fpii%2FS2211124717314183%3Fshowall%3Dtrue', 'refs2': 'https://zenodo.org/record/838734', 'samples': 36}\n",
            "Entry 21: {'tissue': 'Liver', 'tissueLink': 'https://gtexportal.org/home/tissue/Liver', 'tool': 'PANDA', 'netzoo': 'netZooM', 'netzooLink': 'https://github.com/netZoo/netZooM/releases', 'netzooRel': '0.1', 'network': 'https://granddb.s3.amazonaws.com/tissues/networks/Liver.csv', 'ppi': 'https://granddb.s3.amazonaws.com/tissues/ppi/tissues_ppi.txt', 'ppiLink': 'https://string-db.org/cgi/access?sessionId=byCOpSLj1JSS&footer_active_subpage=archive', 'motif': 'https://granddb.s3.amazonaws.com/tissues/motif/tissues_motif.txt', 'expression': 'https://granddb.s3.amazonaws.com/tissues/expression/Liver.csv', 'expLink': 'https://gtexportal.org/home/tissue/Liver', 'tfs': 644, 'genes': 30243, 'refs': 'https://www.cell.com/cell-reports/fulltext/S2211-1247(17)31418-3?_returnURL=https%3A%2F%2Flinkinghub.elsevier.com%2Fretrieve%2Fpii%2FS2211124717314183%3Fshowall%3Dtrue', 'refs2': 'https://zenodo.org/record/838734', 'samples': 137}\n",
            "Entry 22: {'tissue': 'Lung', 'tissueLink': 'https://gtexportal.org/home/tissue/Lung', 'tool': 'PANDA', 'netzoo': 'netZooM', 'netzooLink': 'https://github.com/netZoo/netZooM/releases', 'netzooRel': '0.1', 'network': 'https://granddb.s3.amazonaws.com/tissues/networks/Lung.csv', 'ppi': 'https://granddb.s3.amazonaws.com/tissues/ppi/tissues_ppi.txt', 'ppiLink': 'https://string-db.org/cgi/access?sessionId=byCOpSLj1JSS&footer_active_subpage=archive', 'motif': 'https://granddb.s3.amazonaws.com/tissues/motif/tissues_motif.txt', 'expression': 'https://granddb.s3.amazonaws.com/tissues/expression/Lung.csv', 'expLink': 'https://gtexportal.org/home/tissue/Lung', 'tfs': 644, 'genes': 30243, 'refs': 'https://www.cell.com/cell-reports/fulltext/S2211-1247(17)31418-3?_returnURL=https%3A%2F%2Flinkinghub.elsevier.com%2Fretrieve%2Fpii%2FS2211124717314183%3Fshowall%3Dtrue', 'refs2': 'https://zenodo.org/record/838734', 'samples': 360}\n",
            "Entry 23: {'tissue': 'Minor salivary gland', 'tissueLink': 'https://gtexportal.org/home/tissue/Minor_Salivary_Gland', 'tool': 'PANDA', 'netzoo': 'netZooM', 'netzooLink': 'https://github.com/netZoo/netZooM/releases', 'netzooRel': '0.1', 'network': 'https://granddb.s3.amazonaws.com/tissues/networks/Minor_Salivary_Gland.csv', 'ppi': 'https://granddb.s3.amazonaws.com/tissues/ppi/tissues_ppi.txt', 'ppiLink': 'https://string-db.org/cgi/access?sessionId=byCOpSLj1JSS&footer_active_subpage=archive', 'motif': 'https://granddb.s3.amazonaws.com/tissues/motif/tissues_motif.txt', 'expression': 'https://granddb.s3.amazonaws.com/tissues/expression/Minor_Salivary_Gland.csv', 'expLink': 'https://gtexportal.org/home/tissue/Minor_Salivary_Gland', 'tfs': 644, 'genes': 30243, 'refs': 'https://www.cell.com/cell-reports/fulltext/S2211-1247(17)31418-3?_returnURL=https%3A%2F%2Flinkinghub.elsevier.com%2Fretrieve%2Fpii%2FS2211124717314183%3Fshowall%3Dtrue', 'refs2': 'https://zenodo.org/record/838734', 'samples': 70}\n",
            "Entry 24: {'tissue': 'Skeletal muscle', 'tissueLink': 'https://gtexportal.org/home/tissue/Skeletal_Muscle', 'tool': 'PANDA', 'netzoo': 'netZooM', 'netzooLink': 'https://github.com/netZoo/netZooM/releases', 'netzooRel': '0.1', 'network': 'https://granddb.s3.amazonaws.com/tissues/networks/Skeletal_Muscle.csv', 'ppi': 'https://granddb.s3.amazonaws.com/tissues/ppi/tissues_ppi.txt', 'ppiLink': 'https://string-db.org/cgi/access?sessionId=byCOpSLj1JSS&footer_active_subpage=archive', 'motif': 'https://granddb.s3.amazonaws.com/tissues/motif/tissues_motif.txt', 'expression': 'https://granddb.s3.amazonaws.com/tissues/expression/Skeletal_Muscle.csv', 'expLink': 'https://gtexportal.org/home/tissue/Skeletal_Muscle', 'tfs': 644, 'genes': 30243, 'refs': 'https://www.cell.com/cell-reports/fulltext/S2211-1247(17)31418-3?_returnURL=https%3A%2F%2Flinkinghub.elsevier.com%2Fretrieve%2Fpii%2FS2211124717314183%3Fshowall%3Dtrue', 'refs2': 'https://zenodo.org/record/838734', 'samples': 469}\n",
            "Entry 25: {'tissue': 'Tibial nerve', 'tissueLink': 'https://gtexportal.org/home/tissue/Tibial_Nerve', 'tool': 'PANDA', 'netzoo': 'netZooM', 'netzooLink': 'https://github.com/netZoo/netZooM/releases', 'netzooRel': '0.1', 'network': 'https://granddb.s3.amazonaws.com/tissues/networks/Tibial_Nerve.csv', 'ppi': 'https://granddb.s3.amazonaws.com/tissues/ppi/tissues_ppi.txt', 'ppiLink': 'https://string-db.org/cgi/access?sessionId=byCOpSLj1JSS&footer_active_subpage=archive', 'motif': 'https://granddb.s3.amazonaws.com/tissues/motif/tissues_motif.txt', 'expression': 'https://granddb.s3.amazonaws.com/tissues/expression/Tibial_Nerve.csv', 'expLink': 'https://gtexportal.org/home/tissue/Tibial_Nerve', 'tfs': 644, 'genes': 30243, 'refs': 'https://www.cell.com/cell-reports/fulltext/S2211-1247(17)31418-3?_returnURL=https%3A%2F%2Flinkinghub.elsevier.com%2Fretrieve%2Fpii%2FS2211124717314183%3Fshowall%3Dtrue', 'refs2': 'https://zenodo.org/record/838734', 'samples': 334}\n",
            "Entry 26: {'tissue': 'Ovary', 'tissueLink': 'https://gtexportal.org/home/tissue/Ovary', 'tool': 'PANDA', 'netzoo': 'netZooM', 'netzooLink': 'https://github.com/netZoo/netZooM/releases', 'netzooRel': '0.1', 'network': 'https://granddb.s3.amazonaws.com/tissues/networks/Ovary.csv', 'ppi': 'https://granddb.s3.amazonaws.com/tissues/ppi/tissues_ppi.txt', 'ppiLink': 'https://string-db.org/cgi/access?sessionId=byCOpSLj1JSS&footer_active_subpage=archive', 'motif': 'https://granddb.s3.amazonaws.com/tissues/motif/tissues_motif.txt', 'expression': 'https://granddb.s3.amazonaws.com/tissues/expression/Ovary.csv', 'expLink': 'https://gtexportal.org/home/tissue/Ovary', 'tfs': 644, 'genes': 30243, 'refs': 'https://www.cell.com/cell-reports/fulltext/S2211-1247(17)31418-3?_returnURL=https%3A%2F%2Flinkinghub.elsevier.com%2Fretrieve%2Fpii%2FS2211124717314183%3Fshowall%3Dtrue', 'refs2': 'https://zenodo.org/record/838734', 'samples': 108}\n",
            "Entry 27: {'tissue': 'Pancreas', 'tissueLink': 'https://gtexportal.org/home/tissue/Pancreas', 'tool': 'PANDA', 'netzoo': 'netZooM', 'netzooLink': 'https://github.com/netZoo/netZooM/releases', 'netzooRel': '0.1', 'network': 'https://granddb.s3.amazonaws.com/tissues/networks/Pancreas.csv', 'ppi': 'https://granddb.s3.amazonaws.com/tissues/ppi/tissues_ppi.txt', 'ppiLink': 'https://string-db.org/cgi/access?sessionId=byCOpSLj1JSS&footer_active_subpage=archive', 'motif': 'https://granddb.s3.amazonaws.com/tissues/motif/tissues_motif.txt', 'expression': 'https://granddb.s3.amazonaws.com/tissues/expression/Pancreas.csv', 'expLink': 'https://gtexportal.org/home/tissue/Pancreas', 'tfs': 644, 'genes': 30243, 'refs': 'https://www.cell.com/cell-reports/fulltext/S2211-1247(17)31418-3?_returnURL=https%3A%2F%2Flinkinghub.elsevier.com%2Fretrieve%2Fpii%2FS2211124717314183%3Fshowall%3Dtrue', 'refs2': 'https://zenodo.org/record/838734', 'samples': 193}\n",
            "Entry 28: {'tissue': 'Pituitary', 'tissueLink': 'https://gtexportal.org/home/tissue/Pituitary', 'tool': 'PANDA', 'netzoo': 'netZooM', 'netzooLink': 'https://github.com/netZoo/netZooM/releases', 'netzooRel': '0.1', 'network': 'https://granddb.s3.amazonaws.com/tissues/networks/Pituitary.csv', 'ppi': 'https://granddb.s3.amazonaws.com/tissues/ppi/tissues_ppi.txt', 'ppiLink': 'https://string-db.org/cgi/access?sessionId=byCOpSLj1JSS&footer_active_subpage=archive', 'motif': 'https://granddb.s3.amazonaws.com/tissues/motif/tissues_motif.txt', 'expression': 'https://granddb.s3.amazonaws.com/tissues/expression/Pituitary.csv', 'expLink': 'https://gtexportal.org/home/tissue/Pituitary', 'tfs': 644, 'genes': 30243, 'refs': 'https://www.cell.com/cell-reports/fulltext/S2211-1247(17)31418-3?_returnURL=https%3A%2F%2Flinkinghub.elsevier.com%2Fretrieve%2Fpii%2FS2211124717314183%3Fshowall%3Dtrue', 'refs2': 'https://zenodo.org/record/838734', 'samples': 124}\n",
            "Entry 29: {'tissue': 'Prostate', 'tissueLink': 'https://gtexportal.org/home/tissue/Prostate', 'tool': 'PANDA', 'netzoo': 'netZooM', 'netzooLink': 'https://github.com/netZoo/netZooM/releases', 'netzooRel': '0.1', 'network': 'https://granddb.s3.amazonaws.com/tissues/networks/Prostate.csv', 'ppi': 'https://granddb.s3.amazonaws.com/tissues/ppi/tissues_ppi.txt', 'ppiLink': 'https://string-db.org/cgi/access?sessionId=byCOpSLj1JSS&footer_active_subpage=archive', 'motif': 'https://granddb.s3.amazonaws.com/tissues/motif/tissues_motif.txt', 'expression': 'https://granddb.s3.amazonaws.com/tissues/expression/Prostate.csv', 'expLink': 'https://gtexportal.org/home/tissue/Prostate', 'tfs': 644, 'genes': 30243, 'refs': 'https://www.cell.com/cell-reports/fulltext/S2211-1247(17)31418-3?_returnURL=https%3A%2F%2Flinkinghub.elsevier.com%2Fretrieve%2Fpii%2FS2211124717314183%3Fshowall%3Dtrue', 'refs2': 'https://zenodo.org/record/838734', 'samples': 119}\n",
            "Entry 30: {'tissue': 'Skin', 'tissueLink': 'https://gtexportal.org/home/tissue/Skin', 'tool': 'PANDA', 'netzoo': 'netZooM', 'netzooLink': 'https://github.com/netZoo/netZooM/releases', 'netzooRel': '0.1', 'network': 'https://granddb.s3.amazonaws.com/tissues/networks/Skin.csv', 'ppi': 'https://granddb.s3.amazonaws.com/tissues/ppi/tissues_ppi.txt', 'ppiLink': 'https://string-db.org/cgi/access?sessionId=byCOpSLj1JSS&footer_active_subpage=archive', 'motif': 'https://granddb.s3.amazonaws.com/tissues/motif/tissues_motif.txt', 'expression': 'https://granddb.s3.amazonaws.com/tissues/expression/Skin.csv', 'expLink': 'https://gtexportal.org/home/tissue/Skin', 'tfs': 644, 'genes': 30243, 'refs': 'https://www.cell.com/cell-reports/fulltext/S2211-1247(17)31418-3?_returnURL=https%3A%2F%2Flinkinghub.elsevier.com%2Fretrieve%2Fpii%2FS2211124717314183%3Fshowall%3Dtrue', 'refs2': 'https://zenodo.org/record/838734', 'samples': 661}\n",
            "Entry 31: {'tissue': 'Intestine terminal ileum', 'tissueLink': 'https://gtexportal.org/home/tissue/Intestine_Terminal_Ileum', 'tool': 'PANDA', 'netzoo': 'netZooM', 'netzooLink': 'https://github.com/netZoo/netZooM/releases', 'netzooRel': '0.1', 'network': 'https://granddb.s3.amazonaws.com/tissues/networks/Intestine_Terminal_Ileum.csv', 'ppi': 'https://granddb.s3.amazonaws.com/tissues/ppi/tissues_ppi.txt', 'ppiLink': 'https://string-db.org/cgi/access?sessionId=byCOpSLj1JSS&footer_active_subpage=archive', 'motif': 'https://granddb.s3.amazonaws.com/tissues/motif/tissues_motif.txt', 'expression': 'https://granddb.s3.amazonaws.com/tissues/expression/Intestine_Terminal_Ileum.csv', 'expLink': 'https://gtexportal.org/home/tissue/Intestine_Terminal_Ileum', 'tfs': 644, 'genes': 30243, 'refs': 'https://www.cell.com/cell-reports/fulltext/S2211-1247(17)31418-3?_returnURL=https%3A%2F%2Flinkinghub.elsevier.com%2Fretrieve%2Fpii%2FS2211124717314183%3Fshowall%3Dtrue', 'refs2': 'https://zenodo.org/record/838734', 'samples': 104}\n",
            "Entry 32: {'tissue': 'Spleen', 'tissueLink': 'https://gtexportal.org/home/tissue/Spleen', 'tool': 'PANDA', 'netzoo': 'netZooM', 'netzooLink': 'https://github.com/netZoo/netZooM/releases', 'netzooRel': '0.1', 'network': 'https://granddb.s3.amazonaws.com/tissues/networks/Spleen.csv', 'ppi': 'https://granddb.s3.amazonaws.com/tissues/ppi/tissues_ppi.txt', 'ppiLink': 'https://string-db.org/cgi/access?sessionId=byCOpSLj1JSS&footer_active_subpage=archive', 'motif': 'https://granddb.s3.amazonaws.com/tissues/motif/tissues_motif.txt', 'expression': 'https://granddb.s3.amazonaws.com/tissues/expression/Spleen.csv', 'expLink': 'https://gtexportal.org/home/tissue/Spleen', 'tfs': 644, 'genes': 30243, 'refs': 'https://www.cell.com/cell-reports/fulltext/S2211-1247(17)31418-3?_returnURL=https%3A%2F%2Flinkinghub.elsevier.com%2Fretrieve%2Fpii%2FS2211124717314183%3Fshowall%3Dtrue', 'refs2': 'https://zenodo.org/record/838734', 'samples': 118}\n",
            "Entry 33: {'tissue': 'Stomach', 'tissueLink': 'https://gtexportal.org/home/tissue/Stomach', 'tool': 'PANDA', 'netzoo': 'netZooM', 'netzooLink': 'https://github.com/netZoo/netZooM/releases', 'netzooRel': '0.1', 'network': 'https://granddb.s3.amazonaws.com/tissues/networks/Stomach.csv', 'ppi': 'https://granddb.s3.amazonaws.com/tissues/ppi/tissues_ppi.txt', 'ppiLink': 'https://string-db.org/cgi/access?sessionId=byCOpSLj1JSS&footer_active_subpage=archive', 'motif': 'https://granddb.s3.amazonaws.com/tissues/motif/tissues_motif.txt', 'expression': 'https://granddb.s3.amazonaws.com/tissues/expression/Stomach.csv', 'expLink': 'https://gtexportal.org/home/tissue/Stomach', 'tfs': 644, 'genes': 30243, 'refs': 'https://www.cell.com/cell-reports/fulltext/S2211-1247(17)31418-3?_returnURL=https%3A%2F%2Flinkinghub.elsevier.com%2Fretrieve%2Fpii%2FS2211124717314183%3Fshowall%3Dtrue', 'refs2': 'https://zenodo.org/record/838734', 'samples': 204}\n",
            "Entry 34: {'tissue': 'Testis', 'tissueLink': 'https://gtexportal.org/home/tissue/Testis', 'tool': 'PANDA', 'netzoo': 'netZooM', 'netzooLink': 'https://github.com/netZoo/netZooM/releases', 'netzooRel': '0.1', 'network': 'https://granddb.s3.amazonaws.com/tissues/networks/Testis.csv', 'ppi': 'https://granddb.s3.amazonaws.com/tissues/ppi/tissues_ppi.txt', 'ppiLink': 'https://string-db.org/cgi/access?sessionId=byCOpSLj1JSS&footer_active_subpage=archive', 'motif': 'https://granddb.s3.amazonaws.com/tissues/motif/tissues_motif.txt', 'expression': 'https://granddb.s3.amazonaws.com/tissues/expression/Testis.csv', 'expLink': 'https://gtexportal.org/home/tissue/Testis', 'tfs': 644, 'genes': 30243, 'refs': 'https://www.cell.com/cell-reports/fulltext/S2211-1247(17)31418-3?_returnURL=https%3A%2F%2Flinkinghub.elsevier.com%2Fretrieve%2Fpii%2FS2211124717314183%3Fshowall%3Dtrue', 'refs2': 'https://zenodo.org/record/838734', 'samples': 199}\n",
            "Entry 35: {'tissue': 'Thyroid', 'tissueLink': 'https://gtexportal.org/home/tissue/Thyroid', 'tool': 'PANDA', 'netzoo': 'netZooM', 'netzooLink': 'https://github.com/netZoo/netZooM/releases', 'netzooRel': '0.1', 'network': 'https://granddb.s3.amazonaws.com/tissues/networks/Thyroid.csv', 'ppi': 'https://granddb.s3.amazonaws.com/tissues/ppi/tissues_ppi.txt', 'ppiLink': 'https://string-db.org/cgi/access?sessionId=byCOpSLj1JSS&footer_active_subpage=archive', 'motif': 'https://granddb.s3.amazonaws.com/tissues/motif/tissues_motif.txt', 'expression': 'https://granddb.s3.amazonaws.com/tissues/expression/Thyroid.csv', 'expLink': 'https://gtexportal.org/home/tissue/Thyroid', 'tfs': 644, 'genes': 30243, 'refs': 'https://www.cell.com/cell-reports/fulltext/S2211-1247(17)31418-3?_returnURL=https%3A%2F%2Flinkinghub.elsevier.com%2Fretrieve%2Fpii%2FS2211124717314183%3Fshowall%3Dtrue', 'refs2': 'https://zenodo.org/record/838734', 'samples': 355}\n",
            "Entry 36: {'tissue': 'Uterus', 'tissueLink': 'https://gtexportal.org/home/tissue/Uterus', 'tool': 'PANDA', 'netzoo': 'netZooM', 'netzooLink': 'https://github.com/netZoo/netZooM/releases', 'netzooRel': '0.1', 'network': 'https://granddb.s3.amazonaws.com/tissues/networks/Uterus.csv', 'ppi': 'https://granddb.s3.amazonaws.com/tissues/ppi/tissues_ppi.txt', 'ppiLink': 'https://string-db.org/cgi/access?sessionId=byCOpSLj1JSS&footer_active_subpage=archive', 'motif': 'https://granddb.s3.amazonaws.com/tissues/motif/tissues_motif.txt', 'expression': 'https://granddb.s3.amazonaws.com/tissues/expression/Uterus.csv', 'expLink': 'https://gtexportal.org/home/tissue/Uterus', 'tfs': 644, 'genes': 30243, 'refs': 'https://www.cell.com/cell-reports/fulltext/S2211-1247(17)31418-3?_returnURL=https%3A%2F%2Flinkinghub.elsevier.com%2Fretrieve%2Fpii%2FS2211124717314183%3Fshowall%3Dtrue', 'refs2': 'https://zenodo.org/record/838734', 'samples': 90}\n",
            "Entry 37: {'tissue': 'Vagina', 'tissueLink': 'https://gtexportal.org/home/tissue/Vagina', 'tool': 'PANDA', 'netzoo': 'netZooM', 'netzooLink': 'https://github.com/netZoo/netZooM/releases', 'netzooRel': '0.1', 'network': 'https://granddb.s3.amazonaws.com/tissues/networks/Vagina.csv', 'ppi': 'https://granddb.s3.amazonaws.com/tissues/ppi/tissues_ppi.txt', 'ppiLink': 'https://string-db.org/cgi/access?sessionId=byCOpSLj1JSS&footer_active_subpage=archive', 'motif': 'https://granddb.s3.amazonaws.com/tissues/motif/tissues_motif.txt', 'expression': 'https://granddb.s3.amazonaws.com/tissues/expression/Vagina.csv', 'expLink': 'https://gtexportal.org/home/tissue/Vagina', 'tfs': 644, 'genes': 30243, 'refs': 'https://www.cell.com/cell-reports/fulltext/S2211-1247(17)31418-3?_returnURL=https%3A%2F%2Flinkinghub.elsevier.com%2Fretrieve%2Fpii%2FS2211124717314183%3Fshowall%3Dtrue', 'refs2': 'https://zenodo.org/record/838734', 'samples': 97}\n",
            "Entry 38: {'tissue': 'Whole blood', 'tissueLink': 'https://gtexportal.org/home/tissue/Whole_Blood', 'tool': 'PANDA', 'netzoo': 'netZooM', 'netzooLink': 'https://github.com/netZoo/netZooM/releases', 'netzooRel': '0.1', 'network': 'https://granddb.s3.amazonaws.com/tissues/networks/Whole_Blood.csv', 'ppi': 'https://granddb.s3.amazonaws.com/tissues/ppi/tissues_ppi.txt', 'ppiLink': 'https://string-db.org/cgi/access?sessionId=byCOpSLj1JSS&footer_active_subpage=archive', 'motif': 'https://granddb.s3.amazonaws.com/tissues/motif/tissues_motif.txt', 'expression': 'https://granddb.s3.amazonaws.com/tissues/expression/Whole_Blood.csv', 'expLink': 'https://gtexportal.org/home/tissue/Whole_Blood', 'tfs': 644, 'genes': 30243, 'refs': 'https://www.cell.com/cell-reports/fulltext/S2211-1247(17)31418-3?_returnURL=https%3A%2F%2Flinkinghub.elsevier.com%2Fretrieve%2Fpii%2FS2211124717314183%3Fshowall%3Dtrue', 'refs2': 'https://zenodo.org/record/838734', 'samples': 444}\n",
            "Entry 39: {'tissue': 'Adipose subcutaneous', 'tissueLink': 'https://gtexportal.org/home/tissue/Adipose_Subcutaneous', 'tool': 'PANDA-LIONESS', 'netzoo': 'netZooM', 'netzooLink': 'https://github.com/netZoo/netZooM/releases', 'netzooRel': '0.1', 'network': 'https://granddb.s3.amazonaws.com/tissues/networks/lioness/Adipose_Subcutaneous_AllSamples.csv', 'ppi': 'https://granddb.s3.amazonaws.com/tissues/ppi/tissues_ppi.txt', 'ppiLink': 'https://string-db.org/cgi/access?sessionId=byCOpSLj1JSS&footer_active_subpage=archive', 'motif': 'https://granddb.s3.amazonaws.com/tissues/motif/tissues_lioness_motif.txt', 'expression': 'https://granddb.s3.amazonaws.com/tissues/expression/Adipose_Subcutaneous.csv', 'expLink': 'https://gtexportal.org/home/tissue/Adipose_Subcutaneous', 'tfs': 644, 'genes': 30243, 'refs': 'https://www.cell.com/cell-reports/fulltext/S2211-1247(20)30776-2#.XvKB22ciE0k', 'refs2': '', 'samples': 380}\n",
            "Entry 40: {'tissue': 'Adipose visceral', 'tissueLink': 'https://gtexportal.org/home/tissue/Adipose_Visceral', 'tool': 'PANDA-LIONESS', 'netzoo': 'netZooM', 'netzooLink': 'https://github.com/netZoo/netZooM/releases', 'netzooRel': '0.1', 'network': 'https://granddb.s3.amazonaws.com/tissues/networks/lioness/Adipose_Visceral_AllSamples.csv', 'ppi': 'https://granddb.s3.amazonaws.com/tissues/ppi/tissues_ppi.txt', 'ppiLink': 'https://string-db.org/cgi/access?sessionId=byCOpSLj1JSS&footer_active_subpage=archive', 'motif': 'https://granddb.s3.amazonaws.com/tissues/motif/tissues_lioness_motif.txt', 'expression': 'https://granddb.s3.amazonaws.com/tissues/expression/Adipose_Visceral.csv', 'expLink': 'https://gtexportal.org/home/tissue/Adipose_Visceral', 'tfs': 644, 'genes': 30243, 'refs': 'https://www.cell.com/cell-reports/fulltext/S2211-1247(20)30776-2#.XvKB22ciE0k', 'refs2': '', 'samples': 234}\n",
            "Entry 41: {'tissue': 'Adrenal gland', 'tissueLink': 'https://gtexportal.org/home/tissue/Adrenal_Gland', 'tool': 'PANDA-LIONESS', 'netzoo': 'netZooM', 'netzooLink': 'https://github.com/netZoo/netZooM/releases', 'netzooRel': '0.1', 'network': 'https://granddb.s3.amazonaws.com/tissues/networks/lioness/Adrenal_Gland_AllSamples.csv', 'ppi': 'https://granddb.s3.amazonaws.com/tissues/ppi/tissues_ppi.txt', 'ppiLink': 'https://string-db.org/cgi/access?sessionId=byCOpSLj1JSS&footer_active_subpage=archive', 'motif': 'https://granddb.s3.amazonaws.com/tissues/motif/tissues_lioness_motif.txt', 'expression': 'https://granddb.s3.amazonaws.com/tissues/expression/Adrenal_Gland.csv', 'expLink': 'https://gtexportal.org/home/tissue/Adrenal_Gland', 'tfs': 644, 'genes': 30243, 'refs': 'https://www.cell.com/cell-reports/fulltext/S2211-1247(20)30776-2#.XvKB22ciE0k', 'refs2': '', 'samples': 159}\n",
            "Entry 42: {'tissue': 'Artery aorta', 'tissueLink': 'https://gtexportal.org/home/tissue/Artery_Aorta', 'tool': 'PANDA-LIONESS', 'netzoo': 'netZooM', 'netzooLink': 'https://github.com/netZoo/netZooM/releases', 'netzooRel': '0.1', 'network': 'https://granddb.s3.amazonaws.com/tissues/networks/lioness/Artery_Aorta_AllSamples.csv', 'ppi': 'https://granddb.s3.amazonaws.com/tissues/ppi/tissues_ppi.txt', 'ppiLink': 'https://string-db.org/cgi/access?sessionId=byCOpSLj1JSS&footer_active_subpage=archive', 'motif': 'https://granddb.s3.amazonaws.com/tissues/motif/tissues_lioness_motif.txt', 'expression': 'https://granddb.s3.amazonaws.com/tissues/expression/Artery_Aorta.csv', 'expLink': 'https://gtexportal.org/home/tissue/Artery_Aorta', 'tfs': 644, 'genes': 30243, 'refs': 'https://www.cell.com/cell-reports/fulltext/S2211-1247(20)30776-2#.XvKB22ciE0k', 'refs2': '', 'samples': 247}\n",
            "Entry 43: {'tissue': 'Artery coronary', 'tissueLink': 'https://gtexportal.org/home/tissue/Artery_Coronary', 'tool': 'PANDA-LIONESS', 'netzoo': 'netZooM', 'netzooLink': 'https://github.com/netZoo/netZooM/releases', 'netzooRel': '0.1', 'network': 'https://granddb.s3.amazonaws.com/tissues/networks/lioness/Artery_Coronary_AllSamples.csv', 'ppi': 'https://granddb.s3.amazonaws.com/tissues/ppi/tissues_ppi.txt', 'ppiLink': 'https://string-db.org/cgi/access?sessionId=byCOpSLj1JSS&footer_active_subpage=archive', 'motif': 'https://granddb.s3.amazonaws.com/tissues/motif/tissues_lioness_motif.txt', 'expression': 'https://granddb.s3.amazonaws.com/tissues/expression/Artery_Coronary.csv', 'expLink': 'https://gtexportal.org/home/tissue/Artery_Coronary', 'tfs': 644, 'genes': 30243, 'refs': 'https://www.cell.com/cell-reports/fulltext/S2211-1247(20)30776-2#.XvKB22ciE0k', 'refs2': '', 'samples': 140}\n",
            "Entry 44: {'tissue': 'Artery tibial', 'tissueLink': 'https://gtexportal.org/home/tissue/Artery_Tibial', 'tool': 'PANDA-LIONESS', 'netzoo': 'netZooM', 'netzooLink': 'https://github.com/netZoo/netZooM/releases', 'netzooRel': '0.1', 'network': 'https://granddb.s3.amazonaws.com/tissues/networks/lioness/Artery_Tibial_AllSamples.csv', 'ppi': 'https://granddb.s3.amazonaws.com/tissues/ppi/tissues_ppi.txt', 'ppiLink': 'https://string-db.org/cgi/access?sessionId=byCOpSLj1JSS&footer_active_subpage=archive', 'motif': 'https://granddb.s3.amazonaws.com/tissues/motif/tissues_lioness_motif.txt', 'expression': 'https://granddb.s3.amazonaws.com/tissues/expression/Artery_Tibial.csv', 'expLink': 'https://gtexportal.org/home/tissue/Artery_Tibial', 'tfs': 644, 'genes': 30243, 'refs': 'https://www.cell.com/cell-reports/fulltext/S2211-1247(20)30776-2#.XvKB22ciE0k', 'refs2': '', 'samples': 357}\n",
            "Entry 45: {'tissue': 'Brain other', 'tissueLink': 'https://gtexportal.org/home/tissue/Brain_Other', 'tool': 'PANDA-LIONESS', 'netzoo': 'netZooM', 'netzooLink': 'https://github.com/netZoo/netZooM/releases', 'netzooRel': '0.1', 'network': 'https://granddb.s3.amazonaws.com/tissues/networks/lioness/Brain_Other_AllSamples.csv', 'ppi': 'https://granddb.s3.amazonaws.com/tissues/ppi/tissues_ppi.txt', 'ppiLink': 'https://string-db.org/cgi/access?sessionId=byCOpSLj1JSS&footer_active_subpage=archive', 'motif': 'https://granddb.s3.amazonaws.com/tissues/motif/tissues_lioness_motif.txt', 'expression': 'https://granddb.s3.amazonaws.com/tissues/expression/Brain_Other.csv', 'expLink': 'https://gtexportal.org/home/tissue/Brain_Other', 'tfs': 644, 'genes': 30243, 'refs': 'https://www.cell.com/cell-reports/fulltext/S2211-1247(20)30776-2#.XvKB22ciE0k', 'refs2': '', 'samples': 779}\n",
            "Entry 46: {'tissue': 'Brain cerebellum', 'tissueLink': 'https://gtexportal.org/home/tissue/Brain_Cerebellum', 'tool': 'PANDA-LIONESS', 'netzoo': 'netZooM', 'netzooLink': 'https://github.com/netZoo/netZooM/releases', 'netzooRel': '0.1', 'network': 'https://granddb.s3.amazonaws.com/tissues/networks/lioness/Brain_Cerebellum_AllSamples.csv', 'ppi': 'https://granddb.s3.amazonaws.com/tissues/ppi/tissues_ppi.txt', 'ppiLink': 'https://string-db.org/cgi/access?sessionId=byCOpSLj1JSS&footer_active_subpage=archive', 'motif': 'https://granddb.s3.amazonaws.com/tissues/motif/tissues_lioness_motif.txt', 'expression': 'https://granddb.s3.amazonaws.com/tissues/expression/Brain_Cerebellum.csv', 'expLink': 'https://gtexportal.org/home/tissue/Brain_Cerebellum', 'tfs': 644, 'genes': 30243, 'refs': 'https://www.cell.com/cell-reports/fulltext/S2211-1247(20)30776-2#.XvKB22ciE0k', 'refs2': '', 'samples': 254}\n",
            "Entry 47: {'tissue': 'Brain basal ganglia', 'tissueLink': 'https://gtexportal.org/home/tissue/Brain_Basal_Ganglia', 'tool': 'PANDA-LIONESS', 'netzoo': 'netZooM', 'netzooLink': 'https://github.com/netZoo/netZooM/releases', 'netzooRel': '0.1', 'network': 'https://granddb.s3.amazonaws.com/tissues/networks/lioness/Brain_Basal_Ganglia_AllSamples.csv', 'ppi': 'https://granddb.s3.amazonaws.com/tissues/ppi/tissues_ppi.txt', 'ppiLink': 'https://string-db.org/cgi/access?sessionId=byCOpSLj1JSS&footer_active_subpage=archive', 'motif': 'https://granddb.s3.amazonaws.com/tissues/motif/tissues_lioness_motif.txt', 'expression': 'https://granddb.s3.amazonaws.com/tissues/expression/Brain_Basal_Ganglia.csv', 'expLink': 'https://gtexportal.org/home/tissue/Brain_Basal_Ganglia', 'tfs': 644, 'genes': 30243, 'refs': 'https://www.cell.com/cell-reports/fulltext/S2211-1247(20)30776-2#.XvKB22ciE0k', 'refs2': '', 'samples': 360}\n",
            "Entry 48: {'tissue': 'Breast', 'tissueLink': 'https://gtexportal.org/home/tissue/Breast', 'tool': 'PANDA-LIONESS', 'netzoo': 'netZooM', 'netzooLink': 'https://github.com/netZoo/netZooM/releases', 'netzooRel': '0.1', 'network': 'https://granddb.s3.amazonaws.com/tissues/networks/lioness/Breast_AllSamples.csv', 'ppi': 'https://granddb.s3.amazonaws.com/tissues/ppi/tissues_ppi.txt', 'ppiLink': 'https://string-db.org/cgi/access?sessionId=byCOpSLj1JSS&footer_active_subpage=archive', 'motif': 'https://granddb.s3.amazonaws.com/tissues/motif/tissues_lioness_motif.txt', 'expression': 'https://granddb.s3.amazonaws.com/tissues/expression/Breast.csv', 'expLink': 'https://gtexportal.org/home/tissue/Breast', 'tfs': 644, 'genes': 30243, 'refs': 'https://www.cell.com/cell-reports/fulltext/S2211-1247(20)30776-2#.XvKB22ciE0k', 'refs2': '', 'samples': 217}\n",
            "Entry 49: {'tissue': 'Colon sigmoid', 'tissueLink': 'https://gtexportal.org/home/tissue/Colon_Sigmoid', 'tool': 'PANDA-LIONESS', 'netzoo': 'netZooM', 'netzooLink': 'https://github.com/netZoo/netZooM/releases', 'netzooRel': '0.1', 'network': 'https://granddb.s3.amazonaws.com/tissues/networks/lioness/Colon_Sigmoid_AllSamples.csv', 'ppi': 'https://granddb.s3.amazonaws.com/tissues/ppi/tissues_ppi.txt', 'ppiLink': 'https://string-db.org/cgi/access?sessionId=byCOpSLj1JSS&footer_active_subpage=archive', 'motif': 'https://granddb.s3.amazonaws.com/tissues/motif/tissues_lioness_motif.txt', 'expression': 'https://granddb.s3.amazonaws.com/tissues/expression/Colon_Sigmoid.csv', 'expLink': 'https://gtexportal.org/home/tissue/Colon_Sigmoid', 'tfs': 644, 'genes': 30243, 'refs': 'https://www.cell.com/cell-reports/fulltext/S2211-1247(20)30776-2#.XvKB22ciE0k', 'refs2': '', 'samples': 173}\n",
            "Entry 50: {'tissue': 'Colon transverse', 'tissueLink': 'https://gtexportal.org/home/tissue/Colon_Transverse', 'tool': 'PANDA-LIONESS', 'netzoo': 'netZooM', 'netzooLink': 'https://github.com/netZoo/netZooM/releases', 'netzooRel': '0.1', 'network': 'https://granddb.s3.amazonaws.com/tissues/networks/lioness/Colon_Transverse_AllSamples.csv', 'ppi': 'https://granddb.s3.amazonaws.com/tissues/ppi/tissues_ppi.txt', 'ppiLink': 'https://string-db.org/cgi/access?sessionId=byCOpSLj1JSS&footer_active_subpage=archive', 'motif': 'https://granddb.s3.amazonaws.com/tissues/motif/tissues_lioness_motif.txt', 'expression': 'https://granddb.s3.amazonaws.com/tissues/expression/Colon_Transverse.csv', 'expLink': 'https://gtexportal.org/home/tissue/Colon_Transverse', 'tfs': 644, 'genes': 30243, 'refs': 'https://www.cell.com/cell-reports/fulltext/S2211-1247(20)30776-2#.XvKB22ciE0k', 'refs2': '', 'samples': 203}\n",
            "Error: Unable to fetch data (status code 200)\n"
          ]
        }
      ]
    },
    {
      "cell_type": "code",
      "source": [
        "# Search for \"MCF7\" in the results\n",
        "cell_line_name = \"ACH-000019\"\n",
        "found = False\n",
        "\n",
        "for entry in data['results']:\n",
        "    # Check if the 'name' key exists before accessing it\n",
        "    if 'name' in entry and cell_line_name.lower() in entry['name'].lower():  # Case-insensitive match\n",
        "        print(f\"Found {cell_line_name}: {entry}\")\n",
        "        found = True\n",
        "        break\n",
        "\n",
        "if not found:\n",
        "    print(f\"{cell_line_name} not found in the data.\")"
      ],
      "metadata": {
        "colab": {
          "base_uri": "https://localhost:8080/"
        },
        "id": "_UhK4nP8XLNH",
        "outputId": "d3716e45-3cec-4de8-9d93-82d7b066eb2a"
      },
      "execution_count": null,
      "outputs": [
        {
          "output_type": "stream",
          "name": "stdout",
          "text": [
            "ACH-000019 not found in the data.\n"
          ]
        }
      ]
    },
    {
      "cell_type": "code",
      "source": [
        "data['results'][11]\n"
      ],
      "metadata": {
        "colab": {
          "base_uri": "https://localhost:8080/"
        },
        "id": "FThlQp3tjUdg",
        "outputId": "9cab4dcf-d19d-4b96-88dd-a360be1942ab"
      },
      "execution_count": null,
      "outputs": [
        {
          "output_type": "execute_result",
          "data": {
            "text/plain": [
              "{'tissue': 'Fibroblast cell line',\n",
              " 'tissueLink': 'https://gtexportal.org/home/tissue/Fibroblast_Cell_Line',\n",
              " 'tool': 'PANDA',\n",
              " 'netzoo': 'netZooM',\n",
              " 'netzooLink': 'https://github.com/netZoo/netZooM/releases',\n",
              " 'netzooRel': '0.1',\n",
              " 'network': 'https://granddb.s3.amazonaws.com/tissues/networks/Fibroblast_Cell_Line.csv',\n",
              " 'ppi': 'https://granddb.s3.amazonaws.com/tissues/ppi/tissues_ppi.txt',\n",
              " 'ppiLink': 'https://string-db.org/cgi/access?sessionId=byCOpSLj1JSS&footer_active_subpage=archive',\n",
              " 'motif': 'https://granddb.s3.amazonaws.com/tissues/motif/tissues_motif.txt',\n",
              " 'expression': 'https://granddb.s3.amazonaws.com/tissues/expression/Fibroblast_Cell_Line.csv',\n",
              " 'expLink': 'https://gtexportal.org/home/tissue/Fibroblast_Cell_Line',\n",
              " 'tfs': 644,\n",
              " 'genes': 30243,\n",
              " 'refs': 'https://www.cell.com/cell-reports/fulltext/S2211-1247(17)31418-3?_returnURL=https%3A%2F%2Flinkinghub.elsevier.com%2Fretrieve%2Fpii%2FS2211124717314183%3Fshowall%3Dtrue',\n",
              " 'refs2': 'https://zenodo.org/record/838734',\n",
              " 'samples': 305}"
            ]
          },
          "metadata": {},
          "execution_count": 31
        }
      ]
    },
    {
      "cell_type": "markdown",
      "source": [],
      "metadata": {
        "id": "Q1_j91OKmkI8"
      }
    },
    {
      "cell_type": "code",
      "source": [
        "import requests\n",
        "import subprocess\n",
        "\n",
        "# Step 1: Fetch data from the API\n",
        "url = 'https://grand.networkmedicine.org/api/v1/tissueapi/'\n",
        "response = requests.get(url)\n",
        "\n",
        "if response.status_code == 200:\n",
        "    data = response.json()\n",
        "\n",
        "    # Step 2: Access the 11th result\n",
        "    if len(data['results']) >= 11:\n",
        "        result_11 = data['results'][10]  # 0-based index\n",
        "        print(\"11th result:\", result_11)\n",
        "\n",
        "        # Step 3: Use 'curl' to fetch the 'ppi' file if it exists\n",
        "        if 'ppi' in result_11:\n",
        "            ppi_url = result_11['ppi']\n",
        "            curl_command = ['curl', '-O', ppi_url]  # -O saves with the original name\n",
        "            subprocess.run(curl_command)\n",
        "        else:\n",
        "            print(\"Field 'ppi' not found in the 11th result.\")\n",
        "    else:\n",
        "        print(\"The 'results' array does not have 11 entries.\")\n",
        "else:\n",
        "    print(f\"Failed to fetch data. Status code: {response.status_code}\")\n"
      ],
      "metadata": {
        "colab": {
          "base_uri": "https://localhost:8080/"
        },
        "id": "Spk1dM9MpSpV",
        "outputId": "8defdec4-7ccf-4ae1-8feb-159b34f7b129"
      },
      "execution_count": null,
      "outputs": [
        {
          "output_type": "stream",
          "name": "stdout",
          "text": [
            "11th result: {'tissue': 'Lymphoblastoid cell line', 'tissueLink': 'https://gtexportal.org/home/tissue/Lymphoblastoid_Cell_Line', 'tool': 'PANDA', 'netzoo': 'netZooM', 'netzooLink': 'https://github.com/netZoo/netZooM/releases', 'netzooRel': '0.1', 'network': 'https://granddb.s3.amazonaws.com/tissues/networks/Lymphoblastoid_Cell_Line.csv', 'ppi': 'https://granddb.s3.amazonaws.com/tissues/ppi/tissues_ppi.txt', 'ppiLink': 'https://string-db.org/cgi/access?sessionId=byCOpSLj1JSS&footer_active_subpage=archive', 'motif': 'https://granddb.s3.amazonaws.com/tissues/motif/tissues_motif.txt', 'expression': 'https://granddb.s3.amazonaws.com/tissues/expression/Lymphoblastoid_Cell_Line.csv', 'expLink': 'https://gtexportal.org/home/tissue/Lymphoblastoid_Cell_Line', 'tfs': 644, 'genes': 30243, 'refs': 'https://www.cell.com/cell-reports/fulltext/S2211-1247(17)31418-3?_returnURL=https%3A%2F%2Flinkinghub.elsevier.com%2Fretrieve%2Fpii%2FS2211124717314183%3Fshowall%3Dtrue', 'refs2': 'https://zenodo.org/record/838734', 'samples': 132}\n"
          ]
        }
      ]
    },
    {
      "cell_type": "code",
      "source": [
        "import requests\n",
        "import subprocess\n",
        "import os\n",
        "\n",
        "# Step 1: Fetch data from the API\n",
        "url = 'https://grand.networkmedicine.org/api/v1/tissueapi/'\n",
        "response = requests.get(url)\n",
        "\n",
        "if response.status_code == 200:\n",
        "    data = response.json()\n",
        "\n",
        "    # Step 2: Access the 11th result\n",
        "    if len(data['results']) >= 11:\n",
        "        result_11 = data['results'][10]  # 0-based index\n",
        "        print(\"11th result:\", result_11)\n",
        "\n",
        "        # Step 3: Download files (ppi, expression, motif)\n",
        "\n",
        "        # Download PPI file if it exists\n",
        "        if 'ppi' in result_11:\n",
        "            ppi_url = result_11['ppi']\n",
        "            print(f\"Downloading PPI file from: {ppi_url}\")\n",
        "            curl_command = ['curl', '-O', ppi_url]  # -O saves with the original name\n",
        "            subprocess.run(curl_command)\n",
        "\n",
        "            # Check if the file is downloaded\n",
        "            ppi_file_name = ppi_url.split('/')[-1]\n",
        "            if os.path.exists(ppi_file_name):\n",
        "                print(f\"Downloaded the PPI file: {ppi_file_name}\")\n",
        "            else:\n",
        "                print(f\"Failed to download the PPI file: {ppi_file_name}\")\n",
        "        else:\n",
        "            print(\"Field 'ppi' not found in the 11th result.\")\n",
        "\n",
        "        # Download Expression file if it exists\n",
        "        if 'expression' in result_11:\n",
        "            expression_url = result_11['expression']\n",
        "            print(f\"Downloading Expression file from: {expression_url}\")\n",
        "            curl_command = ['curl', '-O', expression_url]\n",
        "            subprocess.run(curl_command)\n",
        "\n",
        "            # Check if the file is downloaded\n",
        "            expression_file_name = expression_url.split('/')[-1]\n",
        "            if os.path.exists(expression_file_name):\n",
        "                print(f\"Downloaded the Expression file: {expression_file_name}\")\n",
        "            else:\n",
        "                print(f\"Failed to download the Expression file: {expression_file_name}\")\n",
        "        else:\n",
        "            print(\"Field 'expression' not found in the 11th result.\")\n",
        "\n",
        "        # Download Motif file if it exists\n",
        "        if 'motif' in result_11:\n",
        "            motif_url = result_11['motif']\n",
        "            print(f\"Downloading Motif file from: {motif_url}\")\n",
        "            curl_command = ['curl', '-O', motif_url]\n",
        "            subprocess.run(curl_command)\n",
        "\n",
        "            # Check if the file is downloaded\n",
        "            motif_file_name = motif_url.split('/')[-1]\n",
        "            if os.path.exists(motif_file_name):\n",
        "                print(f\"Downloaded the Motif file: {motif_file_name}\")\n",
        "            else:\n",
        "                print(f\"Failed to download the Motif file: {motif_file_name}\")\n",
        "        else:\n",
        "            print(\"Field 'motif' not found in the 11th result.\")\n",
        "\n",
        "    else:\n",
        "        print(\"The 'results' array does not have 11 entries.\")\n",
        "else:\n",
        "    print(f\"Failed to fetch data. Status code: {response.status_code}\")\n"
      ],
      "metadata": {
        "colab": {
          "base_uri": "https://localhost:8080/"
        },
        "id": "SQkn7mg-qjmq",
        "outputId": "0d4aefe4-6e96-4bcd-ac05-24380520661b"
      },
      "execution_count": null,
      "outputs": [
        {
          "output_type": "stream",
          "name": "stdout",
          "text": [
            "11th result: {'tissue': 'Lymphoblastoid cell line', 'tissueLink': 'https://gtexportal.org/home/tissue/Lymphoblastoid_Cell_Line', 'tool': 'PANDA', 'netzoo': 'netZooM', 'netzooLink': 'https://github.com/netZoo/netZooM/releases', 'netzooRel': '0.1', 'network': 'https://granddb.s3.amazonaws.com/tissues/networks/Lymphoblastoid_Cell_Line.csv', 'ppi': 'https://granddb.s3.amazonaws.com/tissues/ppi/tissues_ppi.txt', 'ppiLink': 'https://string-db.org/cgi/access?sessionId=byCOpSLj1JSS&footer_active_subpage=archive', 'motif': 'https://granddb.s3.amazonaws.com/tissues/motif/tissues_motif.txt', 'expression': 'https://granddb.s3.amazonaws.com/tissues/expression/Lymphoblastoid_Cell_Line.csv', 'expLink': 'https://gtexportal.org/home/tissue/Lymphoblastoid_Cell_Line', 'tfs': 644, 'genes': 30243, 'refs': 'https://www.cell.com/cell-reports/fulltext/S2211-1247(17)31418-3?_returnURL=https%3A%2F%2Flinkinghub.elsevier.com%2Fretrieve%2Fpii%2FS2211124717314183%3Fshowall%3Dtrue', 'refs2': 'https://zenodo.org/record/838734', 'samples': 132}\n",
            "Downloading PPI file from: https://granddb.s3.amazonaws.com/tissues/ppi/tissues_ppi.txt\n",
            "Downloaded the PPI file: tissues_ppi.txt\n",
            "Downloading Expression file from: https://granddb.s3.amazonaws.com/tissues/expression/Lymphoblastoid_Cell_Line.csv\n",
            "Downloaded the Expression file: Lymphoblastoid_Cell_Line.csv\n",
            "Downloading Motif file from: https://granddb.s3.amazonaws.com/tissues/motif/tissues_motif.txt\n",
            "Downloaded the Motif file: tissues_motif.txt\n"
          ]
        }
      ]
    },
    {
      "cell_type": "code",
      "source": [
        "# Set Program Parameters\n",
        "\n",
        "exp_file = 'Lymphoblastoid_Cell_Line.csv'  # Expression file\n",
        "motif_file = 'tissues_motif.txt'           # Motif file\n",
        "ppi_file = 'tissues_ppi.txt'              # PPI file\n",
        "panda_out = ''                            # Optional, leave empty if file output is not required\n",
        "lib_path = '../netZooM'                   # Path to the folder of PANDA source code\n",
        "save_temp = ''                            # Temporary save folder (if any)\n",
        "alpha = 0.1                               # Learning rate, always equal to 0.1 unless specified\n",
        "save_pairs = 0                            # Save in pairs format (0 = False, 1 = True)\n"
      ],
      "metadata": {
        "id": "MFpdx6CrrAwt"
      },
      "execution_count": null,
      "outputs": []
    },
    {
      "cell_type": "code",
      "source": [
        "# Assuming panda_run is a function you have implemented to handle the same task in Python\n",
        "import pandas as pd\n",
        "\n",
        "def panda_run(lib_path, exp_file, motif_file, ppi_file, panda_out, save_temp, alpha, save_pairs):\n",
        "    # Here you would add your logic for the panda_run function\n",
        "    # For now, let's assume it reads the input files and processes them\n",
        "\n",
        "    # Read input files (CSV, TXT)\n",
        "    exp_data = pd.read_csv(exp_file)\n",
        "    motif_data = pd.read_csv(motif_file, delimiter='\\t')  # Assuming .txt is tab-delimited\n",
        "    ppi_data = pd.read_csv(ppi_file, delimiter='\\t')  # Assuming PPI file is tab-delimited\n",
        "\n",
        "    # Add your PANDA computations and matrix handling here\n",
        "    # Placeholder for actual computations with alpha, save_temp, etc.\n",
        "    # Assuming this generates a matrix (like AgNet)\n",
        "\n",
        "    AgNet = exp_data  # Placeholder for actual AgNet calculation\n",
        "    if save_temp:\n",
        "        exp_data.to_csv(panda_out)  # Save temporary data if required\n",
        "\n",
        "    return AgNet\n",
        "\n",
        "# Define parameters\n",
        "lib_path = '../netZooM'\n",
        "exp_file = 'Lymphoblastoid_Cell_Line.csv'\n",
        "motif_file = 'tissues_motif.txt'\n",
        "ppi_file = 'tissues_ppi.txt'\n",
        "panda_out = ''  # Optional\n",
        "save_temp = ''  # Temporary folder\n",
        "alpha = 0.1  # Learning rate\n",
        "save_pairs = 0  # Save in pairs format\n",
        "\n",
        "# Run the panda computation\n",
        "AgNet = panda_run(lib_path, exp_file, motif_file, ppi_file, panda_out, save_temp, alpha, save_pairs)\n"
      ],
      "metadata": {
        "id": "4F5LSj1AsGHI"
      },
      "execution_count": null,
      "outputs": []
    },
    {
      "cell_type": "code",
      "source": [
        "import subprocess\n",
        "import pandas as pd\n",
        "import numpy as np\n",
        "\n",
        "# Download LCL network from GRAND\n",
        "network_url = data['results'][10]['network']  # assuming cells is a dictionary from API response\n",
        "subprocess.run(['curl', '-O', network_url])\n",
        "\n",
        "# Read the expression file\n",
        "matNet = pd.read_csv('Lymphoblastoid_Cell_Line.csv')\n",
        "\n",
        "# Convert relevant columns to numeric type, handling errors\n",
        "matNet = matNet.apply(pd.to_numeric, errors='coerce')\n",
        "AgNet = AgNet.apply(pd.to_numeric, errors='coerce')\n",
        "\n",
        "\n",
        "# Set tolerance for matrix comparison\n",
        "tolMat = 1e-6\n",
        "\n",
        "# Compute the difference between AgNet and matNet\n",
        "deltaMat = np.max(np.abs(AgNet - matNet))\n",
        "\n",
        "# Check if the difference is below the tolerance\n",
        "assert deltaMat < tolMat, f\"Assertion failed: deltaMat = {deltaMat}, expected less than {tolMat}\"\n"
      ],
      "metadata": {
        "id": "274WgjS4sE8B"
      },
      "execution_count": null,
      "outputs": []
    },
    {
      "cell_type": "code",
      "source": [],
      "metadata": {
        "id": "w0-g4g4WrZR2"
      },
      "execution_count": null,
      "outputs": []
    },
    {
      "cell_type": "markdown",
      "source": [],
      "metadata": {
        "id": "emDhULBPt1mV"
      }
    }
  ]
}