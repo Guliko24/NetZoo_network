{
  "nbformat": 4,
  "nbformat_minor": 0,
  "metadata": {
    "colab": {
      "provenance": [],
      "authorship_tag": "ABX9TyPVGmYhm0IR/EFxGsow1k5j",
      "include_colab_link": true
    },
    "kernelspec": {
      "name": "python3",
      "display_name": "Python 3"
    },
    "language_info": {
      "name": "python"
    }
  },
  "cells": [
    {
      "cell_type": "markdown",
      "metadata": {
        "id": "view-in-github",
        "colab_type": "text"
      },
      "source": [
        "<a href=\"https://colab.research.google.com/github/Guliko24/NetZoo_network/blob/main/NetZoo_Panda_Lioness.ipynb\" target=\"_parent\"><img src=\"https://colab.research.google.com/assets/colab-badge.svg\" alt=\"Open In Colab\"/></a>"
      ]
    },
    {
      "cell_type": "code",
      "execution_count": 1,
      "metadata": {
        "id": "QzPH8bWFA_nz"
      },
      "outputs": [],
      "source": [
        "#import all the packages as needed\n",
        "import pandas as pd\n",
        "import networkx as nx\n",
        "import numpy\n",
        "import matplotlib\n",
        "import matplotlib.pyplot as plt\n",
        "import scipy\n"
      ]
    },
    {
      "cell_type": "code",
      "source": [
        "!pip install python-igraph\n"
      ],
      "metadata": {
        "colab": {
          "base_uri": "https://localhost:8080/"
        },
        "id": "z0Uu39lvw-1z",
        "outputId": "bde426dd-49c0-4c79-e65a-1c7bdfcb62be"
      },
      "execution_count": 2,
      "outputs": [
        {
          "output_type": "stream",
          "name": "stdout",
          "text": [
            "Requirement already satisfied: python-igraph in /usr/local/lib/python3.10/dist-packages (0.11.8)\n",
            "Requirement already satisfied: igraph==0.11.8 in /usr/local/lib/python3.10/dist-packages (from python-igraph) (0.11.8)\n",
            "Requirement already satisfied: texttable>=1.6.2 in /usr/local/lib/python3.10/dist-packages (from igraph==0.11.8->python-igraph) (1.7.0)\n"
          ]
        }
      ]
    },
    {
      "cell_type": "code",
      "source": [
        "!git clone https://github.com/netZoo/netZooPy.git"
      ],
      "metadata": {
        "colab": {
          "base_uri": "https://localhost:8080/"
        },
        "id": "JouwlZVvxD-X",
        "outputId": "7b0e1f2c-4f61-4ef8-86e4-0fcc0967b6ae"
      },
      "execution_count": 3,
      "outputs": [
        {
          "output_type": "stream",
          "name": "stdout",
          "text": [
            "Cloning into 'netZooPy'...\n",
            "remote: Enumerating objects: 6225, done.\u001b[K\n",
            "remote: Counting objects: 100% (667/667), done.\u001b[K\n",
            "remote: Compressing objects: 100% (318/318), done.\u001b[K\n",
            "remote: Total 6225 (delta 427), reused 533 (delta 330), pack-reused 5558 (from 1)\u001b[K\n",
            "Receiving objects: 100% (6225/6225), 225.55 MiB | 14.88 MiB/s, done.\n",
            "Resolving deltas: 100% (3247/3247), done.\n",
            "Updating files: 100% (181/181), done.\n"
          ]
        }
      ]
    },
    {
      "cell_type": "code",
      "source": [
        "!cd netZooPy/\n"
      ],
      "metadata": {
        "id": "hRdztsnqxQiM"
      },
      "execution_count": 4,
      "outputs": []
    },
    {
      "cell_type": "code",
      "source": [
        "!ls netZooPy/"
      ],
      "metadata": {
        "colab": {
          "base_uri": "https://localhost:8080/"
        },
        "id": "XXdVi8Mfymvg",
        "outputId": "c27857a8-7979-455c-97a1-f07c5fc65a97"
      },
      "execution_count": 6,
      "outputs": [
        {
          "output_type": "stream",
          "name": "stdout",
          "text": [
            "conda\t    docs  LICENSE   README.md\t      setup.cfg  tests\n",
            "CONDUCT.md  img   netZooPy  requirements.txt  setup.py\t tutorials\n"
          ]
        }
      ]
    },
    {
      "cell_type": "code",
      "source": [
        "%cd /content/netZooPy"
      ],
      "metadata": {
        "colab": {
          "base_uri": "https://localhost:8080/"
        },
        "id": "rZ7N_mAuzFDx",
        "outputId": "4b961e88-13a1-4d00-ed98-62a2f12b57d6"
      },
      "execution_count": 9,
      "outputs": [
        {
          "output_type": "stream",
          "name": "stdout",
          "text": [
            "/content/netZooPy\n"
          ]
        }
      ]
    },
    {
      "cell_type": "code",
      "source": [
        "!pip3 install -e ."
      ],
      "metadata": {
        "colab": {
          "base_uri": "https://localhost:8080/"
        },
        "id": "Dz8lj0efxjqP",
        "outputId": "034c7c04-c9cd-41f3-8979-c960999b2d0f"
      },
      "execution_count": 10,
      "outputs": [
        {
          "output_type": "stream",
          "name": "stdout",
          "text": [
            "Obtaining file:///content/netZooPy\n",
            "  Preparing metadata (setup.py) ... \u001b[?25l\u001b[?25hdone\n",
            "Requirement already satisfied: h5py in /usr/local/lib/python3.10/dist-packages (from netZooPy==0.10.8) (3.12.1)\n",
            "Requirement already satisfied: pandas in /usr/local/lib/python3.10/dist-packages (from netZooPy==0.10.8) (2.2.2)\n",
            "Requirement already satisfied: numpy>=1.19.2 in /usr/local/lib/python3.10/dist-packages (from netZooPy==0.10.8) (1.26.4)\n",
            "Requirement already satisfied: networkx>=2.6.3 in /usr/local/lib/python3.10/dist-packages (from netZooPy==0.10.8) (3.4.2)\n",
            "Requirement already satisfied: matplotlib>=3.3.4 in /usr/local/lib/python3.10/dist-packages (from netZooPy==0.10.8) (3.8.0)\n",
            "Requirement already satisfied: scipy>=1.5.3 in /usr/local/lib/python3.10/dist-packages (from netZooPy==0.10.8) (1.13.1)\n",
            "Requirement already satisfied: igraph in /usr/local/lib/python3.10/dist-packages (from netZooPy==0.10.8) (0.11.8)\n",
            "Requirement already satisfied: joblib>=1.1.0 in /usr/local/lib/python3.10/dist-packages (from netZooPy==0.10.8) (1.4.2)\n",
            "Requirement already satisfied: statsmodels>=0.12.2 in /usr/local/lib/python3.10/dist-packages (from netZooPy==0.10.8) (0.14.4)\n",
            "Requirement already satisfied: click in /usr/local/lib/python3.10/dist-packages (from netZooPy==0.10.8) (8.1.7)\n",
            "Requirement already satisfied: tables in /usr/local/lib/python3.10/dist-packages (from netZooPy==0.10.8) (3.10.1)\n",
            "Requirement already satisfied: contourpy>=1.0.1 in /usr/local/lib/python3.10/dist-packages (from matplotlib>=3.3.4->netZooPy==0.10.8) (1.3.1)\n",
            "Requirement already satisfied: cycler>=0.10 in /usr/local/lib/python3.10/dist-packages (from matplotlib>=3.3.4->netZooPy==0.10.8) (0.12.1)\n",
            "Requirement already satisfied: fonttools>=4.22.0 in /usr/local/lib/python3.10/dist-packages (from matplotlib>=3.3.4->netZooPy==0.10.8) (4.55.0)\n",
            "Requirement already satisfied: kiwisolver>=1.0.1 in /usr/local/lib/python3.10/dist-packages (from matplotlib>=3.3.4->netZooPy==0.10.8) (1.4.7)\n",
            "Requirement already satisfied: packaging>=20.0 in /usr/local/lib/python3.10/dist-packages (from matplotlib>=3.3.4->netZooPy==0.10.8) (24.2)\n",
            "Requirement already satisfied: pillow>=6.2.0 in /usr/local/lib/python3.10/dist-packages (from matplotlib>=3.3.4->netZooPy==0.10.8) (11.0.0)\n",
            "Requirement already satisfied: pyparsing>=2.3.1 in /usr/local/lib/python3.10/dist-packages (from matplotlib>=3.3.4->netZooPy==0.10.8) (3.2.0)\n",
            "Requirement already satisfied: python-dateutil>=2.7 in /usr/local/lib/python3.10/dist-packages (from matplotlib>=3.3.4->netZooPy==0.10.8) (2.8.2)\n",
            "Requirement already satisfied: patsy>=0.5.6 in /usr/local/lib/python3.10/dist-packages (from statsmodels>=0.12.2->netZooPy==0.10.8) (1.0.1)\n",
            "Requirement already satisfied: pytz>=2020.1 in /usr/local/lib/python3.10/dist-packages (from pandas->netZooPy==0.10.8) (2024.2)\n",
            "Requirement already satisfied: tzdata>=2022.7 in /usr/local/lib/python3.10/dist-packages (from pandas->netZooPy==0.10.8) (2024.2)\n",
            "Requirement already satisfied: texttable>=1.6.2 in /usr/local/lib/python3.10/dist-packages (from igraph->netZooPy==0.10.8) (1.7.0)\n",
            "Requirement already satisfied: numexpr>=2.6.2 in /usr/local/lib/python3.10/dist-packages (from tables->netZooPy==0.10.8) (2.10.1)\n",
            "Requirement already satisfied: py-cpuinfo in /usr/local/lib/python3.10/dist-packages (from tables->netZooPy==0.10.8) (9.0.0)\n",
            "Requirement already satisfied: blosc2>=2.3.0 in /usr/local/lib/python3.10/dist-packages (from tables->netZooPy==0.10.8) (2.7.1)\n",
            "Requirement already satisfied: typing-extensions>=4.4.0 in /usr/local/lib/python3.10/dist-packages (from tables->netZooPy==0.10.8) (4.12.2)\n",
            "Requirement already satisfied: ndindex>=1.4 in /usr/local/lib/python3.10/dist-packages (from blosc2>=2.3.0->tables->netZooPy==0.10.8) (1.9.2)\n",
            "Requirement already satisfied: msgpack in /usr/local/lib/python3.10/dist-packages (from blosc2>=2.3.0->tables->netZooPy==0.10.8) (1.1.0)\n",
            "Requirement already satisfied: six>=1.5 in /usr/local/lib/python3.10/dist-packages (from python-dateutil>=2.7->matplotlib>=3.3.4->netZooPy==0.10.8) (1.16.0)\n",
            "Installing collected packages: netZooPy\n",
            "  Running setup.py develop for netZooPy\n",
            "Successfully installed netZooPy-0.10.8\n"
          ]
        }
      ]
    },
    {
      "cell_type": "code",
      "source": [
        "# prompt: let's load Gdrive onto notebook\n",
        "\n",
        "from google.colab import drive\n",
        "drive.mount('/content/drive')"
      ],
      "metadata": {
        "colab": {
          "base_uri": "https://localhost:8080/"
        },
        "id": "_piCUBLNv0uY",
        "outputId": "6bbd5b8c-c6d6-4fe1-e153-8e9582ec9eef"
      },
      "execution_count": 2,
      "outputs": [
        {
          "output_type": "stream",
          "name": "stdout",
          "text": [
            "Mounted at /content/drive\n"
          ]
        }
      ]
    },
    {
      "cell_type": "code",
      "source": [
        "from netZooPy.panda import Panda\n",
        "from netZooPy.lioness import Lioness\n",
        "from netZooPy.lioness.analyze_lioness import AnalyzeLioness\n",
        "import pandas as pd"
      ],
      "metadata": {
        "id": "G9BS_JHBzUcE"
      },
      "execution_count": 11,
      "outputs": []
    },
    {
      "cell_type": "code",
      "source": [
        "# Navigate to your Google Drive files\n",
        "%cd /content/drive/MyDrive/Essex_MSc_AI_24-25/MSc_Project_24/Data_to_work_with/GRAND_datasets\n"
      ],
      "metadata": {
        "colab": {
          "base_uri": "https://localhost:8080/"
        },
        "id": "f--3eANWwKAr",
        "outputId": "98a406fb-b7ab-4026-c145-61112dd2b1a9"
      },
      "execution_count": 3,
      "outputs": [
        {
          "output_type": "stream",
          "name": "stdout",
          "text": [
            "/content/drive/MyDrive/Essex_MSc_AI_24-25/MSc_Project_24/Data_to_work_with/GRAND_datasets\n"
          ]
        }
      ]
    }
  ]
}